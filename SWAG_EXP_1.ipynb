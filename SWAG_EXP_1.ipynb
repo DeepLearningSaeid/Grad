{
  "cells": [
    {
      "cell_type": "markdown",
      "metadata": {
        "id": "view-in-github",
        "colab_type": "text"
      },
      "source": [
        "<a href=\"https://colab.research.google.com/github/DeepLearningSaeid/Grad/blob/main/SWAG_EXP_1.ipynb\" target=\"_parent\"><img src=\"https://colab.research.google.com/assets/colab-badge.svg\" alt=\"Open In Colab\"/></a>"
      ]
    },
    {
      "cell_type": "code",
      "execution_count": 1,
      "metadata": {
        "id": "pqIUt2CRNQWz"
      },
      "outputs": [],
      "source": [
        "import timeit\n",
        "from keras.models import Model,Sequential\n",
        "from keras.layers import Input, Embedding, LSTM, Dense,concatenate,  Dropout, Flatten, Conv2D, MaxPool2D, Activation,MaxPooling2D\n",
        "from keras.utils.np_utils import to_categorical # convert to one-hot-encoding\n",
        "from keras.optimizers import RMSprop\n",
        "from keras.preprocessing.image import ImageDataGenerator\n",
        "from keras.callbacks import ReduceLROnPlateau\n",
        "from keras import backend as K\n",
        "from keras.utils.generic_utils import get_custom_objects\n",
        "from keras.datasets import cifar10\n",
        "from keras.utils import np_utils\n",
        "from keras.optimizers import SGD\n",
        "from keras.datasets import mnist\n",
        "from keras.utils import plot_model\n",
        "from tensorflow.keras.optimizers import Adam\n",
        "import tensorflow as tf\n",
        "import numpy\n",
        "import pandas as pd\n",
        "import numpy as np\n",
        "import matplotlib.pyplot as plt\n",
        "from matplotlib.ticker import NullFormatter  # useful for `logit` scale\n",
        "import matplotlib.image as mpimg\n",
        "import seaborn as sns\n",
        "%matplotlib inline\n",
        "from sklearn.model_selection import train_test_split\n",
        "from sklearn.metrics import confusion_matrix\n",
        "import itertools\n",
        "############################################################################\n",
        "numpy.random.seed(110)"
      ]
    },
    {
      "cell_type": "code",
      "execution_count": 2,
      "metadata": {
        "id": "6iotFDyLNQW3"
      },
      "outputs": [],
      "source": [
        "#Defining New Activation functions\n",
        "############################################################################\n",
        "def X_1(x):\n",
        "    return (K.pow(x,1))\n",
        "get_custom_objects().update({'X_1': Activation(X_1)})\n",
        "############################################################################\n",
        "def X_2(x):\n",
        "    return (K.pow(x,2))/2\n",
        "get_custom_objects().update({'X_2': Activation(X_2)})\n",
        "############################################################################\n",
        "def X_3(x):\n",
        "    return (K.pow(x,3))/6\n",
        "get_custom_objects().update({'X_3': Activation(X_3)})\n",
        "############################################################################\n",
        "def X_4(x):\n",
        "    return (K.pow(x,4))/24\n",
        "get_custom_objects().update({'X_4': Activation(X_4)})\n",
        "############################################################################\n",
        "def X_5(x):\n",
        "    return (K.pow(x,5))/120\n",
        "get_custom_objects().update({'X_5': Activation(X_5)})\n",
        "###############################################################################\n",
        "def X_6(x):\n",
        "    return (K.pow(x,6))/720\n",
        "get_custom_objects().update({'X_6': Activation(X_6)})\n",
        "############################################################################\n",
        "def X_7(x):\n",
        "    return (K.pow(x,7))/5040\n",
        "get_custom_objects().update({'X_7': Activation(X_7)})\n",
        "############################################################################\n",
        "def X_8(x):\n",
        "    return (K.pow(x,8))/40320\n",
        "get_custom_objects().update({'X_8': Activation(X_8)})\n",
        "###############################################################################\n",
        "def X_9(x):\n",
        "    return (K.pow(x,8))/362880\n",
        "get_custom_objects().update({'X_9': Activation(X_9)})\n",
        "###############################################################################\n"
      ]
    },
    {
      "cell_type": "code",
      "execution_count": 3,
      "metadata": {
        "id": "l4XU83cxNQW4"
      },
      "outputs": [],
      "source": [
        "#Define Test Functions\n",
        "\n",
        "def power_(x,n):                                        \n",
        "    return  np.power(x, n)\n",
        "###############################################################################\n",
        "def sigmoid_array(x):                                        \n",
        "    return 1 / (1 + np.exp(-x))\n",
        "###############################################################################\n",
        "def exp_(x):                                        \n",
        "    return  np.exp(x)\n",
        "###############################################################################\n",
        "def log_(x):                                        \n",
        "    return  np.log(x)\n",
        "###############################################################################\n",
        "def generate_random( shape_1,shape_2):\n",
        "    temp= np.random.random(shape_1*shape_2)\n",
        "    temp1=temp.reshape(shape_1,shape_2)\n",
        "    return temp1\n",
        "###############################################################################\n",
        "def fun_1(x):\n",
        "    return 1/2*power_(x, 2)-5*sigmoid_array(x)\n",
        "###############################################################################\n",
        "def fun_2(x):\n",
        "    return 6*power_(x, 5)-3*sigmoid_array(x)+exp_(x)-9*log_(x)\n",
        "###############################################################################\n",
        "def fun_3(x):\n",
        "    return 22*power_(x, 20)+sigmoid_array(x)+2*exp_(x)+5*log_(x)\n",
        "###############################################################################\n"
      ]
    },
    {
      "cell_type": "code",
      "execution_count": 4,
      "metadata": {
        "id": "cWPPgnexNQW5"
      },
      "outputs": [],
      "source": [
        "#Creates plots for all test functions\n",
        "def plot_loss(size,in_1,in_2,in_3,in_4,in_5,in_6):\n",
        "\n",
        "    plt.rcParams.update({'font.size': 16})\n",
        "\n",
        "    plt.figure(figsize=(20,10))\n",
        "    plt.subplot(231)\n",
        "    training_loss1 = in_1.history['loss']\n",
        "    test_loss1 = in_1.history['val_loss']\n",
        "    epoch_count = range(1, len(training_loss1) + 1)\n",
        "    plt.plot(epoch_count, training_loss1, 'r--')\n",
        "    plt.plot(epoch_count, test_loss1, 'b-')\n",
        "    plt.legend(['Training Loss', 'Test Loss'])\n",
        "    plt.xlabel('Epoch')\n",
        "    plt.ylabel('Loss')\n",
        "    plt.ylim(0, size)\n",
        "    plt.title('Architure 1')\n",
        "\n",
        "\n",
        "    plt.subplot(232)\n",
        "    training_loss1 = in_2.history['loss']\n",
        "    test_loss1 = in_2.history['val_loss']\n",
        "    epoch_count = range(1, len(training_loss1) + 1)\n",
        "    plt.plot(epoch_count, training_loss1, 'r--')\n",
        "    plt.plot(epoch_count, test_loss1, 'b-')\n",
        "    plt.legend(['Training Loss', 'Test Loss'])\n",
        "    plt.xlabel('Epoch')\n",
        "    plt.ylabel('Loss')\n",
        "    plt.ylim(0, size)\n",
        "    plt.title('Architure 2')\n",
        "\n",
        "\n",
        "\n",
        "    plt.subplot(233)\n",
        "    training_loss1 = in_3.history['loss']\n",
        "    test_loss1 = in_3.history['val_loss']\n",
        "    epoch_count = range(1, len(training_loss1) + 1)\n",
        "    plt.plot(epoch_count, training_loss1, 'r--')\n",
        "    plt.plot(epoch_count, test_loss1, 'b-')\n",
        "    plt.legend(['Training Loss', 'Test Loss'])\n",
        "    plt.xlabel('Epoch')\n",
        "    plt.ylabel('Loss')\n",
        "    plt.ylim(0, size)\n",
        "    plt.title('Architure 3')\n",
        "\n",
        "\n",
        "\n",
        "    plt.subplot(234)\n",
        "    training_loss1 = in_4.history['loss']\n",
        "    test_loss1 = in_4.history['val_loss']\n",
        "    epoch_count = range(1, len(training_loss1) + 1)\n",
        "    plt.plot(epoch_count, training_loss1, 'r--')\n",
        "    plt.plot(epoch_count, test_loss1, 'b-')\n",
        "    plt.legend(['Training Loss', 'Test Loss'])\n",
        "    plt.xlabel('Epoch')\n",
        "    plt.ylabel('Loss')\n",
        "    plt.ylim(0, size)\n",
        "    plt.title('Architure 4')\n",
        "    \n",
        "    \n",
        "\n",
        "    plt.subplot(235)\n",
        "    training_loss1 = in_5.history['loss']\n",
        "    test_loss1 = in_5.history['val_loss']\n",
        "    epoch_count = range(1, len(training_loss1) + 1)\n",
        "    plt.plot(epoch_count, training_loss1, 'r--')\n",
        "    plt.plot(epoch_count, test_loss1, 'b-')\n",
        "    plt.legend(['Training Loss', 'Test Loss'])\n",
        "    plt.xlabel('Epoch')\n",
        "    plt.ylabel('Loss')\n",
        "    plt.ylim(0, size)\n",
        "    plt.title('Architure 5')\n",
        "\n",
        "    \n",
        "    \n",
        "    plt.subplot(236)\n",
        "    training_loss1 = in_6.history['loss']\n",
        "    test_loss1 = in_6.history['val_loss']\n",
        "    epoch_count = range(1, len(training_loss1) + 1)\n",
        "    plt.plot(epoch_count, training_loss1, 'r--')\n",
        "    plt.plot(epoch_count, test_loss1, 'b-')\n",
        "    plt.legend(['Training Loss', 'Test Loss'])\n",
        "    plt.xlabel('Epoch')\n",
        "    plt.ylabel('Loss')\n",
        "    plt.ylim(0, size)\n",
        "    plt.title('Our Architure ')\n",
        "\n",
        "\n",
        "\n",
        "    plt.subplots_adjust(top=0.92, bottom=0.08, left=0.0010, right=0.95, hspace=0.3,\n",
        "                        wspace=0.18)\n",
        "\n",
        "    plt.show()"
      ]
    },
    {
      "cell_type": "code",
      "execution_count": 5,
      "metadata": {
        "id": "sWJarFf3NQW6"
      },
      "outputs": [],
      "source": [
        "#Create plots for shape of test function\n",
        "def plot_shape(in_1,in_2,in_3,in_4,in_5,in_6):\n",
        "\n",
        "    plt.figure(figsize=(20,10))\n",
        "    plt.rcParams.update({'font.size': 16})\n",
        "\n",
        "    plt.subplot(231)\n",
        "    plt.scatter(in_1[0], in_1[1])\n",
        "    plt.scatter(in_1[0], in_1[2])\n",
        "    plt.title('Architure 1')\n",
        "\n",
        "\n",
        "    plt.subplot(232)\n",
        "    plt.scatter(in_2[0], in_2[1])\n",
        "    plt.scatter(in_2[0], in_2[2])\n",
        "    plt.title('Architure 2')\n",
        "\n",
        "\n",
        "    plt.subplot(233)\n",
        "    plt.scatter(in_3[0], in_3[1])\n",
        "    plt.scatter(in_3[0], in_3[2])\n",
        "    plt.title('Architure 3')\n",
        "\n",
        "\n",
        "    plt.subplot(234)\n",
        "    plt.scatter(in_4[0], in_4[1])\n",
        "    plt.scatter(in_4[0], in_4[2])\n",
        "    plt.title('Architure 4')\n",
        "    \n",
        "    plt.subplot(235)\n",
        "    plt.scatter(in_5[0], in_5[1])\n",
        "    plt.scatter(in_5[0], in_5[2])\n",
        "    plt.title('Architure 5')    \n",
        "    \n",
        "    plt.subplot(236)\n",
        "    plt.scatter(in_6[0], in_6[1])\n",
        "    plt.scatter(in_6[0], in_6[2])\n",
        "    plt.title('Our Architure')\n",
        "\n",
        "\n",
        "    plt.subplots_adjust(top=0.92, bottom=0.08, left=0.0010, right=0.95, hspace=0.3,\n",
        "                        wspace=0.18)\n",
        "\n",
        "    plt.show()\n",
        "\n",
        "\n",
        "def visualize_result(history,X_test, Y_test,model):\n",
        "  plot_(history)\n",
        "  plt.scatter(X_test, Y_test)\n",
        "  predict=model.predict(X_test)\n",
        "  plt.scatter(X_test, predict)"
      ]
    },
    {
      "cell_type": "code",
      "execution_count": 6,
      "metadata": {
        "id": "qqBekSqwNQW7"
      },
      "outputs": [],
      "source": [
        "#Creates dataset\n",
        "dim_train=1000\n",
        "dim_test=200\n",
        "\n",
        "X=generate_random(dim_train,3)\n",
        "Y=generate_random(dim_train,3)\n",
        "    \n",
        "Y[:,0]=fun_1(X[:,0])\n",
        "Y[:,1]=fun_2(X[:,1])\n",
        "Y[:,2]=fun_3(X[:,2])\n",
        "    \n",
        "\n",
        "x_train,x_test,y_train,y_test=train_test_split(X,Y,test_size=0.2,random_state=1234)\n",
        "\n",
        "def data_prep(x_train,x_test,y_train,y_test,column):\n",
        "  X_train=x_train[:,column]\n",
        "  Y_train=y_train[:,column]\n",
        "  X_test=x_test[:,column]\n",
        "  Y_test=y_test[:,column]\n",
        "  return X_train,Y_train,X_test,Y_test\n"
      ]
    },
    {
      "cell_type": "code",
      "execution_count": 7,
      "metadata": {
        "id": "xv28pO-NNQW7"
      },
      "outputs": [],
      "source": [
        "#Hyper perameters\n",
        "number_epo=50\n",
        "input_dim=1\n",
        "output_dim=1"
      ]
    },
    {
      "cell_type": "code",
      "execution_count": null,
      "metadata": {
        "id": "zlzGjV2FNQW8"
      },
      "outputs": [],
      "source": [
        "#First Standard Archetecture\n",
        "model = Sequential()\n",
        "model.add(Dense(10, input_dim=input_dim, activation='relu'))\n",
        "model.add(Dense(20, activation='sigmoid'))\n",
        "model.add(Dense(30, activation='tanh'))\n",
        "model.add(Dense(20, activation='relu'))\n",
        "model.add(Dense(15, activation='sigmoid'))\n",
        "model.add(Dense(25, activation='relu'))\n",
        "model.add(Dense(10, activation='relu'))\n",
        "model.add(Dense(output_dim, activation='tanh'))\n",
        "model.add(Dropout(0.2))\n",
        "#model.summary()\n",
        "model.compile(loss='mean_squared_error', optimizer='adam')"
      ]
    },
    {
      "cell_type": "code",
      "execution_count": null,
      "metadata": {
        "id": "ygZHoShgNQW8"
      },
      "outputs": [],
      "source": [
        "#Creates plot for loss and trainning functions\n",
        "def plot_(history):\n",
        "    training_loss1 = history.history['loss']\n",
        "    test_loss1 = history.history['val_loss']\n",
        "    epoch_count = range(1, len(training_loss1) + 1)\n",
        "    plt.plot(epoch_count, training_loss1, 'r--')\n",
        "    plt.plot(epoch_count, test_loss1, 'b-')\n",
        "    plt.legend(['Training Loss', 'Test Loss'])\n",
        "    plt.xlabel('Epoch')\n",
        "    plt.ylabel('Loss')\n",
        "    plt.show();"
      ]
    },
    {
      "cell_type": "code",
      "execution_count": null,
      "metadata": {
        "id": "OhtH-VDHNQW9"
      },
      "outputs": [],
      "source": [
        "#train traditional model for Function 3\n",
        "column=2\n",
        "# X_train=x_train[:,column]\n",
        "# Y_train=y_train[:,column]\n",
        "# X_test=x_test[:,column]\n",
        "# Y_test=y_test[:,column]\n",
        "# F_3_archicture_1_\n",
        "column=2\n",
        "\n",
        "X_train,Y_train,X_test,Y_test= data_prep(x_train,x_test,y_train,y_test,column)\n",
        "\n",
        "start = timeit.default_timer()\n",
        "history = model.fit(X_train,Y_train,epochs=number_epo,verbose=0,batch_size=10,validation_data=(X_test, Y_test)) \n",
        "end = timeit.default_timer()\n",
        "print(\"Run Time : %f\" % (end-start))\n",
        "predict=model.predict(X_test)\n",
        "visualize_result(history,X_test, Y_test,model)\n",
        "\n",
        "F_3_archicture_1=[X_test,Y_test,predict,history,]"
      ]
    },
    {
      "cell_type": "code",
      "execution_count": null,
      "metadata": {
        "id": "k7534UVKNQW9"
      },
      "outputs": [],
      "source": [
        "#Train model for Funtcion 2 \n",
        "column=1\n",
        "X_train,Y_train,X_test,Y_test= data_prep(x_train,x_test,y_train,y_test,column)\n",
        "\n",
        "\n",
        "#F_2_archicture_1\n",
        "\n",
        "start = timeit.default_timer()\n",
        "history = model.fit(X_train,Y_train,epochs=number_epo,verbose=0,batch_size=10,validation_data=(X_test, Y_test)) \n",
        "end = timeit.default_timer()\n",
        "print(\"Run Time : %f\" % (end-start))\n",
        "predict=model.predict(X_test)\n",
        "visualize_result(history,X_test, Y_test,model)\n",
        "\n",
        "\n",
        "F_2_archicture_1=[X_test,Y_test,predict,history]"
      ]
    },
    {
      "cell_type": "code",
      "execution_count": null,
      "metadata": {
        "id": "-1RPWzHhNQW9"
      },
      "outputs": [],
      "source": [
        "#Train Model for function 1\n",
        "column=0\n",
        "X_train,Y_train,X_test,Y_test= data_prep(x_train,x_test,y_train,y_test,column)\n",
        "\n",
        "\n",
        "#F_1_archicture_1\n",
        "\n",
        "start = timeit.default_timer()\n",
        "history = model.fit(X_train,Y_train,epochs=number_epo,verbose=0,batch_size=10,validation_data=(X_test, Y_test)) \n",
        "end = timeit.default_timer()\n",
        "print(\"Run Time : %f\" % (end-start))\n",
        "predict=model.predict(X_test)\n",
        "visualize_result(history,X_test, Y_test,model)\n",
        "\n",
        "F_1_archicture_1=[X_test,Y_test,predict,history]"
      ]
    },
    {
      "cell_type": "code",
      "execution_count": null,
      "metadata": {
        "id": "cd3vwHs9NQW-"
      },
      "outputs": [],
      "source": [
        "#Second Traditional model for Function 3\n",
        "model = Sequential()\n",
        "model.add(Dense(5, input_dim=input_dim, activation='relu'))\n",
        "model.add(Dense(10, activation='relu'))\n",
        "model.add(Dense(50, activation='tanh'))\n",
        "model.add(Dense(18, activation='relu'))\n",
        "model.add(Dense(15, activation='tanh'))\n",
        "model.add(Dense(18, activation='sigmoid'))\n",
        "model.add(Dropout(0.2))\n",
        "model.add(Dense(8, activation='relu'))\n",
        "model.add(Dropout(0.2))\n",
        "model.add(Dense(output_dim, activation='relu'))\n",
        "#model.summary()\n",
        "model.compile(loss='mean_squared_error', optimizer='adam')"
      ]
    },
    {
      "cell_type": "code",
      "execution_count": null,
      "metadata": {
        "id": "gc008aFJNQW-"
      },
      "outputs": [],
      "source": [
        "#Train MOdel for Function 3\n",
        "archicture_2=[]\n",
        "column=2\n",
        "X_train,Y_train,X_test,Y_test= data_prep(x_train,x_test,y_train,y_test,column)\n",
        "\n",
        "\n",
        "\n",
        "#F_3_archicture_2\n",
        "\n",
        "\n",
        "start = timeit.default_timer()\n",
        "history = model.fit(X_train,Y_train,epochs=number_epo,verbose=0,batch_size=10,validation_data=(X_test, Y_test)) \n",
        "end = timeit.default_timer()\n",
        "print(\"Run Time : %f\" % (end-start))\n",
        "predict=model.predict(X_test)\n",
        "visualize_result(history,X_test, Y_test,model)\n",
        "\n",
        "F_3_archicture_2=[X_test,Y_test,predict,history]\n"
      ]
    },
    {
      "cell_type": "code",
      "execution_count": null,
      "metadata": {
        "id": "2RBGCkKXNQW_"
      },
      "outputs": [],
      "source": [
        "#Train MOdel for Function 2\n",
        "column=1\n",
        "X_train,Y_train,X_test,Y_test= data_prep(x_train,x_test,y_train,y_test,column)\n",
        "\n",
        "\n",
        "\n",
        "#F_2_archicture_2\n",
        "\n",
        "\n",
        "start = timeit.default_timer()\n",
        "history = model.fit(X_train,Y_train,epochs=number_epo,verbose=0,batch_size=10,validation_data=(X_test, Y_test)) \n",
        "end = timeit.default_timer()\n",
        "print(\"Run Time : %f\" % (end-start))\n",
        "predict=model.predict(X_test)\n",
        "visualize_result(history,X_test, Y_test,model)\n",
        "F_2_archicture_2=[X_test,Y_test,predict,history]\n"
      ]
    },
    {
      "cell_type": "code",
      "execution_count": null,
      "metadata": {
        "id": "O7PUagP_NQW_"
      },
      "outputs": [],
      "source": [
        "#Train MOdel for Function 1\n",
        "column=0\n",
        "X_train,Y_train,X_test,Y_test= data_prep(x_train,x_test,y_train,y_test,column)\n",
        "\n",
        "\n",
        "\n",
        "#F_1_archicture_2\n",
        "\n",
        "\n",
        "start = timeit.default_timer()\n",
        "history = model.fit(X_train,Y_train,epochs=number_epo,verbose=0,batch_size=10,validation_data=(X_test, Y_test)) \n",
        "end = timeit.default_timer()\n",
        "print(\"Run Time : %f\" % (end-start))\n",
        "predict=model.predict(X_test)\n",
        "visualize_result(history,X_test, Y_test,model)\n",
        "\n",
        "F_1_archicture_2=[X_test,Y_test,predict,history]\n"
      ]
    },
    {
      "cell_type": "code",
      "execution_count": null,
      "metadata": {
        "id": "yTJ8qYXzNQW_"
      },
      "outputs": [],
      "source": [
        "#Third Traditional Model \n",
        "model = Sequential()\n",
        "model.add(Dense(5, input_dim=input_dim, activation='relu'))\n",
        "model.add(Dense(10, activation='relu'))\n",
        "model.add(Dense(20, activation='tanh'))\n",
        "model.add(Dense(15, activation='relu'))\n",
        "model.add(Dense(25, activation='tanh'))\n",
        "model.add(Dense(20, activation='sigmoid'))\n",
        "model.add(Dense(25, activation='relu'))\n",
        "model.add(Dense(20, activation='relu'))\n",
        "model.add(Dropout(0.2))\n",
        "model.add(Dense(8, activation='relu'))\n",
        "model.add(Dropout(0.2))\n",
        "model.add(Dense(output_dim, activation='relu'))\n",
        "model.summary()\n",
        "model.compile(loss='mean_squared_error', optimizer='adam')"
      ]
    },
    {
      "cell_type": "code",
      "execution_count": null,
      "metadata": {
        "id": "0qkZJcPFNQXA"
      },
      "outputs": [],
      "source": [
        "#Train Model for Function 3\n",
        "column=2\n",
        "X_train,Y_train,X_test,Y_test= data_prep(x_train,x_test,y_train,y_test,column)\n",
        "\n",
        "\n",
        "\n",
        "#F_3_archicture_3\n",
        "\n",
        "start = timeit.default_timer()\n",
        "history = model.fit(X_train,Y_train,epochs=number_epo,verbose=0,batch_size=10,validation_data=(X_test, Y_test)) \n",
        "end = timeit.default_timer()\n",
        "print(\"Run Time : %f\" % (end-start))\n",
        "predict=model.predict(X_test)\n",
        "visualize_result(history,X_test, Y_test,model)\n",
        "\n",
        "F_3_archicture_3=[X_test,Y_test,predict,history]\n"
      ]
    },
    {
      "cell_type": "code",
      "execution_count": null,
      "metadata": {
        "id": "Gq9y8E4oNQXA"
      },
      "outputs": [],
      "source": [
        "#Train Model for Function 2\n",
        "column=1\n",
        "X_train,Y_train,X_test,Y_test= data_prep(x_train,x_test,y_train,y_test,column)\n",
        "\n",
        "\n",
        "\n",
        "#F_2_archicture_3\n",
        "\n",
        "start = timeit.default_timer()\n",
        "history = model.fit(X_train,Y_train,epochs=number_epo,verbose=0,batch_size=10,validation_data=(X_test, Y_test)) \n",
        "end = timeit.default_timer()\n",
        "print(\"Run Time : %f\" % (end-start))\n",
        "predict=model.predict(X_test)\n",
        "visualize_result(history,X_test, Y_test,model)\n",
        "F_2_archicture_3=[X_test,Y_test,predict,history]\n"
      ]
    },
    {
      "cell_type": "code",
      "execution_count": null,
      "metadata": {
        "id": "fvlbOAG4NQXA"
      },
      "outputs": [],
      "source": [
        "#Train Model for Function 1\n",
        "column=0\n",
        "X_train,Y_train,X_test,Y_test= data_prep(x_train,x_test,y_train,y_test,column)\n",
        "\n",
        "\n",
        "\n",
        "#F_1_archicture_3\n",
        "\n",
        "start = timeit.default_timer()\n",
        "history = model.fit(X_train,Y_train,epochs=number_epo,verbose=0,batch_size=10,validation_data=(X_test, Y_test)) \n",
        "end = timeit.default_timer()\n",
        "print(\"Run Time : %f\" % (end-start))\n",
        "predict=model.predict(X_test)\n",
        "visualize_result(history,X_test, Y_test,model)\n",
        "\n",
        "\n",
        "F_1_archicture_3=[X_test,Y_test,predict,history]\n"
      ]
    },
    {
      "cell_type": "code",
      "execution_count": null,
      "metadata": {
        "id": "Abl0n4lQNQXA"
      },
      "outputs": [],
      "source": [
        "#Fourth Traditional Model\n",
        "model = Sequential()\n",
        "model.add(Dense(40, input_dim=input_dim, activation='relu'))\n",
        "model.add(Dense(25, activation='relu'))\n",
        "model.add(Dropout(0.2))\n",
        "model.add(Dense(output_dim, activation='relu'))\n",
        "model.add(Dropout(0.2))\n",
        "#model.summary()\n",
        "model.compile(loss='mean_squared_error', optimizer='adam')"
      ]
    },
    {
      "cell_type": "code",
      "execution_count": null,
      "metadata": {
        "id": "61etTIvsNQXB"
      },
      "outputs": [],
      "source": [
        "#Train Model for Function 3\n",
        "column=2\n",
        "X_train,Y_train,X_test,Y_test= data_prep(x_train,x_test,y_train,y_test,column)\n",
        "\n",
        "\n",
        "\n",
        "#F_3_archicture_4\n",
        "\n",
        "start = timeit.default_timer()\n",
        "history = model.fit(X_train,Y_train,epochs=number_epo,verbose=0,batch_size=10,validation_data=(X_test, Y_test)) \n",
        "end = timeit.default_timer()\n",
        "print(\"Run Time : %f\" % (end-start))\n",
        "predict=model.predict(X_test)\n",
        "visualize_result(history,X_test, Y_test,model)\n",
        "\n",
        "F_3_archicture_4=[X_test,Y_test,predict,history]\n"
      ]
    },
    {
      "cell_type": "code",
      "execution_count": null,
      "metadata": {
        "id": "Y1TqgQKUNQXB"
      },
      "outputs": [],
      "source": [
        "#Train Model for Function 2\n",
        "column=1\n",
        "X_train,Y_train,X_test,Y_test= data_prep(x_train,x_test,y_train,y_test,column)\n",
        "\n",
        "#F_2_archicture_4\n",
        "\n",
        "start = timeit.default_timer()\n",
        "history = model.fit(X_train,Y_train,epochs=number_epo,verbose=0,batch_size=10,validation_data=(X_test, Y_test)) \n",
        "end = timeit.default_timer()\n",
        "print(\"Run Time : %f\" % (end-start))\n",
        "predict=model.predict(X_test)\n",
        "visualize_result(history,X_test, Y_test,model)\n",
        "\n",
        "F_2_archicture_4=[X_test,Y_test,predict,history]\n"
      ]
    },
    {
      "cell_type": "code",
      "execution_count": null,
      "metadata": {
        "id": "Ju4NoooKNQXB"
      },
      "outputs": [],
      "source": [
        "#Train Model for Function 1\n",
        "column=0\n",
        "X_train,Y_train,X_test,Y_test= data_prep(x_train,x_test,y_train,y_test,column)\n",
        "\n",
        "#F_1_archicture_4\n",
        "\n",
        "start = timeit.default_timer()\n",
        "history = model.fit(X_train,Y_train,epochs=number_epo,verbose=0,batch_size=10,validation_data=(X_test, Y_test)) \n",
        "end = timeit.default_timer()\n",
        "print(\"Run Time : %f\" % (end-start))\n",
        "predict=model.predict(X_test)\n",
        "visualize_result(history,X_test, Y_test,model)\n",
        "\n",
        "F_1_archicture_4=[X_test,Y_test,predict,history]\n"
      ]
    },
    {
      "cell_type": "code",
      "execution_count": null,
      "metadata": {
        "id": "lqrXUGhSNQXB"
      },
      "outputs": [],
      "source": [
        "#Fifth Traditional Model\n",
        "model = Sequential()\n",
        "model.add(Dense(5, input_dim=input_dim, activation='softplus'))\n",
        "model.add(Dense(10, activation='softplus'))\n",
        "model.add(Dense(20, activation='tanh'))\n",
        "model.add(Dense(15, activation='relu'))\n",
        "model.add(Dense(25, activation='tanh'))\n",
        "model.add(Dense(20, activation='sigmoid'))\n",
        "model.add(Dense(25, activation='relu'))\n",
        "model.add(Dense(output_dim, activation='softplus'))\n",
        "model.add(Dropout(0.2))\n",
        "model.compile(loss='mean_squared_error', optimizer='adam')"
      ]
    },
    {
      "cell_type": "code",
      "execution_count": null,
      "metadata": {
        "id": "M83KVi0aNQXC"
      },
      "outputs": [],
      "source": [
        "#Train Model for Function 3\n",
        "column=2\n",
        "X_train,Y_train,X_test,Y_test= data_prep(x_train,x_test,y_train,y_test,column)\n",
        "\n",
        "#F_3_archicture_5\n",
        "\n",
        "start = timeit.default_timer()\n",
        "history = model.fit(X_train,Y_train,epochs=number_epo,verbose=0,batch_size=10,validation_data=(X_test, Y_test)) \n",
        "end = timeit.default_timer()\n",
        "print(\"Run Time : %f\" % (end-start))\n",
        "predict=model.predict(X_test)\n",
        "visualize_result(history,X_test, Y_test,model)\n",
        "\n",
        "\n",
        "F_3_archicture_5=[X_test,Y_test,predict,history]\n"
      ]
    },
    {
      "cell_type": "code",
      "execution_count": null,
      "metadata": {
        "id": "3iYM6mpyNQXC"
      },
      "outputs": [],
      "source": [
        "#Train Model for Function 2\n",
        "column=1\n",
        "X_train,Y_train,X_test,Y_test= data_prep(x_train,x_test,y_train,y_test,column)\n",
        "\n",
        "\n",
        "\n",
        "#F_2_archicture_5\n",
        "\n",
        "start = timeit.default_timer()\n",
        "history = model.fit(X_train,Y_train,epochs=number_epo,verbose=0,batch_size=10,validation_data=(X_test, Y_test)) \n",
        "end = timeit.default_timer()\n",
        "print(\"Run Time : %f\" % (end-start))\n",
        "predict=model.predict(X_test)\n",
        "visualize_result(history,X_test, Y_test,model)\n",
        "\n",
        "F_2_archicture_5=[X_test,Y_test,predict,history]\n"
      ]
    },
    {
      "cell_type": "code",
      "execution_count": null,
      "metadata": {
        "id": "eK78bBXiNQXC"
      },
      "outputs": [],
      "source": [
        "#Train Model for Function 1\n",
        "column=0\n",
        "X_train,Y_train,X_test,Y_test= data_prep(x_train,x_test,y_train,y_test,column)\n",
        "\n",
        "\n",
        "\n",
        "#F_1_archicture_5\n",
        "\n",
        "start = timeit.default_timer()\n",
        "history = model.fit(X_train,Y_train,epochs=number_epo,verbose=0,batch_size=10,validation_data=(X_test, Y_test)) \n",
        "end = timeit.default_timer()\n",
        "print(\"Run Time : %f\" % (end-start))\n",
        "predict=model.predict(X_test)\n",
        "visualize_result(history,X_test, Y_test,model)\n",
        "\n",
        "F_1_archicture_5=[X_test,Y_test,predict,history]\n"
      ]
    },
    {
      "cell_type": "code",
      "execution_count": null,
      "metadata": {
        "id": "UeCCWITBNQXC"
      },
      "outputs": [],
      "source": [
        "#Number of neurons in each polynomial layer\n",
        "hidden_dimention=50"
      ]
    },
    {
      "cell_type": "code",
      "execution_count": null,
      "metadata": {
        "id": "JW_Lp5H1NQXC"
      },
      "outputs": [],
      "source": [
        "#Create SWAG Model with 4 Layers\n",
        "model = Sequential()\n",
        "\n",
        "in_ = Input(shape=(input_dim,))\n",
        "Layer_1_Act_X_1=Dense(hidden_dimention, activation='X_1')(in_)\n",
        "################################################################\n",
        "Layer_1_Act_X_2=Dense(hidden_dimention, activation='X_2')(in_)\n",
        "###############################################################\n",
        "Layer_1_Act_X_3=Dense(hidden_dimention, activation='X_3')(in_)\n",
        "###############################################################\n",
        "Layer_1_Act_X_4=Dense(hidden_dimention, activation='X_4')(in_)\n",
        "###############################################################\n",
        "Layer_1_Act_X_5=Dense(hidden_dimention, activation='X_5')(in_)\n",
        "###############################################################\n",
        "Layer_1_Act_X_6=Dense(hidden_dimention, activation='X_6')(in_)\n",
        "###############################################################\n",
        "Layer_1_Act_X_7=Dense(hidden_dimention, activation='X_7')(in_)\n",
        "###############################################################\n",
        "Layer_1_Act_X_8=Dense(hidden_dimention, activation='X_8')(in_)\n",
        "###############################################################\n",
        "Concatenate_First_Layer = concatenate([Layer_1_Act_X_1,Layer_1_Act_X_2,Layer_1_Act_X_3,Layer_1_Act_X_4,Layer_1_Act_X_5,Layer_1_Act_X_6,Layer_1_Act_X_7,Layer_1_Act_X_8])\n",
        "\n",
        "Out_put_first_layer=Dense(hidden_dimention, activation='linear')(Concatenate_First_Layer)\n",
        "\n",
        "###############################################################\n",
        "Layer_2_Act_X_1=Dense(hidden_dimention, activation='X_1')(Out_put_first_layer)\n",
        "################################################################\n",
        "Layer_2_Act_X_2=Dense(hidden_dimention, activation='X_2')(Out_put_first_layer)\n",
        "###############################################################\n",
        "Layer_2_Act_X_3=Dense(hidden_dimention, activation='X_3')(Out_put_first_layer)\n",
        "###############################################################\n",
        "Layer_2_Act_X_4=Dense(hidden_dimention, activation='X_4')(Out_put_first_layer)\n",
        "###############################################################\n",
        "Layer_2_Act_X_5=Dense(hidden_dimention, activation='X_5')(Out_put_first_layer)\n",
        "###############################################################\n",
        "Layer_2_Act_X_6=Dense(hidden_dimention, activation='X_6')(Out_put_first_layer)\n",
        "###############################################################\n",
        "Layer_2_Act_X_7=Dense(hidden_dimention, activation='X_7')(Out_put_first_layer)\n",
        "###############################################################\n",
        "Layer_2_Act_X_8=Dense(hidden_dimention, activation='X_8')(Out_put_first_layer)\n",
        "###############################################################\n",
        "\n",
        "\n",
        "Concatenate_second_Layer = concatenate([Layer_2_Act_X_1,Layer_2_Act_X_2,Layer_2_Act_X_3,Layer_2_Act_X_4,Layer_2_Act_X_5,Layer_2_Act_X_6,Layer_2_Act_X_7,Layer_2_Act_X_8])\n",
        "\n",
        "Out_put=Dense(output_dim, activation='linear')(Concatenate_second_Layer)\n",
        "model = Model(in_ , Out_put)\n",
        "model.summary()\n",
        "model.compile(loss='mean_squared_error', optimizer='adam')\n",
        "\n",
        "\n",
        "\n"
      ]
    },
    {
      "cell_type": "code",
      "execution_count": null,
      "metadata": {
        "id": "Z77rV7m2NQXD"
      },
      "outputs": [],
      "source": [
        "# from IPython.display import Image\n",
        "# Image(filename='model_4_layers.png')"
      ]
    },
    {
      "cell_type": "code",
      "execution_count": null,
      "metadata": {
        "id": "HXb3jlaONQXD"
      },
      "outputs": [],
      "source": [
        "#Train Our Model on Function 3\n",
        "column=2\n",
        "X_train,Y_train,X_test,Y_test= data_prep(x_train,x_test,y_train,y_test,column)\n",
        "\n",
        "\n",
        "\n",
        "#F_3_archicture_Our\n",
        "\n",
        "start = timeit.default_timer()\n",
        "history = model.fit(X_train,Y_train,epochs=number_epo,verbose=0,batch_size=10,validation_data=(X_test, Y_test)) \n",
        "end = timeit.default_timer()\n",
        "print(\"Run Time : %f\" % (end-start))\n",
        "predict=model.predict(X_test)\n",
        "visualize_result(history,X_test, Y_test,model)\n",
        "\n",
        "F_3_our_model=[X_test,Y_test,predict,history]\n",
        "\n"
      ]
    },
    {
      "cell_type": "code",
      "execution_count": null,
      "metadata": {
        "id": "arXYG1v5NQXD"
      },
      "outputs": [],
      "source": [
        "#Train Our Model on Function 2\n",
        "column=1\n",
        "X_train,Y_train,X_test,Y_test= data_prep(x_train,x_test,y_train,y_test,column)\n",
        "\n",
        "\n",
        "\n",
        "#F_2_archicture_Our\n",
        "\n",
        "start = timeit.default_timer()\n",
        "history = model.fit(X_train,Y_train,epochs=number_epo,verbose=0,batch_size=10,validation_data=(X_test, Y_test)) \n",
        "end = timeit.default_timer()\n",
        "print(\"Run Time : %f\" % (end-start))\n",
        "predict=model.predict(X_test)\n",
        "visualize_result(history,X_test, Y_test,model)\n",
        "\n",
        "F_2_our_model=[X_test,Y_test,predict,history]"
      ]
    },
    {
      "cell_type": "code",
      "execution_count": null,
      "metadata": {
        "id": "jMpWU2xKNQXE"
      },
      "outputs": [],
      "source": [
        "#Train Our Model on Function 1\n",
        "column=0\n",
        "X_train,Y_train,X_test,Y_test= data_prep(x_train,x_test,y_train,y_test,column)\n",
        "\n",
        "\n",
        "\n",
        "#F_2_archicture_our\n",
        "\n",
        "start = timeit.default_timer()\n",
        "history = model.fit(X_train,Y_train,epochs=number_epo,verbose=0,batch_size=10,validation_data=(X_test, Y_test)) \n",
        "end = timeit.default_timer()\n",
        "print(\"Run Time : %f\" % (end-start))\n",
        "predict=model.predict(X_test)\n",
        "visualize_result(history,X_test, Y_test,model)\n",
        "\n",
        "F_1_our_model=[X_test,Y_test,predict,history]"
      ]
    },
    {
      "cell_type": "code",
      "execution_count": null,
      "metadata": {
        "id": "F2pCyXNYNQXE"
      },
      "outputs": [],
      "source": [
        "#Plots Losses\n",
        "plot_loss(30,F_1_archicture_1[3],F_1_archicture_2[3],F_1_archicture_3[3],F_1_archicture_4[3],F_1_archicture_5[3],F_1_our_model[3],)"
      ]
    },
    {
      "cell_type": "code",
      "execution_count": null,
      "metadata": {
        "id": "VNq0Ni-uNQXE"
      },
      "outputs": [],
      "source": [
        "#Plot Losses\n",
        "plot_loss(150,F_2_archicture_1[3],F_2_archicture_2[3],F_2_archicture_3[3],F_2_archicture_4[3],F_2_archicture_5[3],F_2_our_model[3],)"
      ]
    },
    {
      "cell_type": "code",
      "execution_count": null,
      "metadata": {
        "id": "tgrFvmTDNQXE"
      },
      "outputs": [],
      "source": [
        "#Plot Losses\n",
        "plot_loss(70,F_3_archicture_1[3],F_3_archicture_2[3],F_3_archicture_3[3],F_3_archicture_4[3],F_3_archicture_5[3],F_3_our_model[3],)"
      ]
    },
    {
      "cell_type": "code",
      "execution_count": null,
      "metadata": {
        "id": "LNB87o-kNQXF"
      },
      "outputs": [],
      "source": [
        "#Plots Shapes\n",
        "plot_shape(F_1_archicture_1,F_1_archicture_2,F_1_archicture_3,F_1_archicture_4,F_1_archicture_5,F_1_our_model,)\n"
      ]
    },
    {
      "cell_type": "code",
      "execution_count": null,
      "metadata": {
        "id": "f-5UdsjCNQXF"
      },
      "outputs": [],
      "source": [
        "#Plots Shapes \n",
        "plot_shape(F_2_archicture_1,F_2_archicture_2,F_2_archicture_3,F_2_archicture_4,F_2_archicture_5,F_2_our_model,)"
      ]
    },
    {
      "cell_type": "code",
      "execution_count": null,
      "metadata": {
        "id": "X1PGyB0yNQXF"
      },
      "outputs": [],
      "source": [
        "#Plots Shapes\n",
        "plot_shape(F_3_archicture_1,F_3_archicture_2,F_3_archicture_3,F_3_archicture_4,F_3_archicture_5,F_3_our_model)"
      ]
    },
    {
      "cell_type": "code",
      "source": [
        "#Our Model optimize version\n",
        "model = Sequential()\n",
        "\n",
        "\n",
        "\n",
        "in_ = Input(shape=(input_dim,))\n",
        "Layer_1_X_1=Dense(hidden_dimention, activation='X_1')(in_)\n",
        "################################################################\n",
        "Layer_1_X_2=Dense(hidden_dimention, activation='X_2')(in_)\n",
        "###############################################################\n",
        "Concatenate_First_Layer = concatenate([Layer_1_X_1,Layer_1_X_2])\n",
        "\n",
        "Layer__X_3_X_4=Dense(hidden_dimention, activation='X_2')(Concatenate_First_Layer)\n",
        "###############################################################\n",
        "Layer__X_5_X_6=Dense(hidden_dimention, activation='X_2')(Layer__X_3_X_4)\n",
        "###############################################################\n",
        "Layer__X_7_X_8=Dense(hidden_dimention, activation='X_2')(Layer__X_5_X_6)\n",
        "\n",
        "Concatenate_second_Layer = concatenate([Layer_1_X_1,Layer_1_X_2,Concatenate_First_Layer,Layer__X_3_X_4,Layer__X_5_X_6,Layer__X_7_X_8])\n",
        "\n",
        "Out_put_first_layer=Dense(hidden_dimention, activation='linear')(Concatenate_second_Layer)\n",
        "\n",
        "\n",
        "Out_put=Dense(output_dim, activation='linear')(Out_put_first_layer)\n",
        "model = Model(in_ , Out_put)\n",
        "model.summary()\n",
        "model.compile(loss='mean_squared_error', optimizer='adam')\n",
        "\n"
      ],
      "metadata": {
        "id": "yxFDyKFUP8DI"
      },
      "execution_count": null,
      "outputs": []
    },
    {
      "cell_type": "code",
      "source": [
        "from keras.utils.vis_utils import plot_model\n",
        "\n",
        "plot_model(model, to_file='model_plot.png', show_shapes=True, show_layer_names=True)"
      ],
      "metadata": {
        "id": "5EYmW-GfTkB1"
      },
      "execution_count": null,
      "outputs": []
    },
    {
      "cell_type": "code",
      "source": [
        "#Train Our Model on Function 3\n",
        "column=2\n",
        "X_train,Y_train,X_test,Y_test= data_prep(x_train,x_test,y_train,y_test,column)\n",
        "\n",
        "\n",
        "\n",
        "#F_3_archicture_our\n",
        "\n",
        "start = timeit.default_timer()\n",
        "history = model.fit(X_train,Y_train,epochs=number_epo,verbose=0,batch_size=10,validation_data=(X_test, Y_test)) \n",
        "end = timeit.default_timer()\n",
        "print(\"Run Time : %f\" % (end-start))\n",
        "predict=model.predict(X_test)\n",
        "visualize_result(history,X_test, Y_test,model)\n",
        "\n",
        "F_3_our_model=[X_test,Y_test,predict,history]"
      ],
      "metadata": {
        "id": "84rvfTgEU04D"
      },
      "execution_count": null,
      "outputs": []
    },
    {
      "cell_type": "code",
      "source": [
        "#Train Our Model on Function 2\n",
        "column=1\n",
        "X_train,Y_train,X_test,Y_test= data_prep(x_train,x_test,y_train,y_test,column)\n",
        "\n",
        "\n",
        "\n",
        "#F_2_archicture_our\n",
        "\n",
        "start = timeit.default_timer()\n",
        "history = model.fit(X_train,Y_train,epochs=number_epo,verbose=0,batch_size=10,validation_data=(X_test, Y_test)) \n",
        "end = timeit.default_timer()\n",
        "print(\"Run Time : %f\" % (end-start))\n",
        "predict=model.predict(X_test)\n",
        "visualize_result(history,X_test, Y_test,model)\n",
        "\n",
        "F_2_our_model=[X_test,Y_test,predict,history]"
      ],
      "metadata": {
        "id": "XD6EQIoCU0w5"
      },
      "execution_count": null,
      "outputs": []
    },
    {
      "cell_type": "code",
      "source": [
        "#Train Our Model on Function 1\n",
        "column=0\n",
        "X_train,Y_train,X_test,Y_test= data_prep(x_train,x_test,y_train,y_test,column)\n",
        "\n",
        "\n",
        "\n",
        "#F_1_archicture_our\n",
        "\n",
        "start = timeit.default_timer()\n",
        "history = model.fit(X_train,Y_train,epochs=number_epo,verbose=0,batch_size=10,validation_data=(X_test, Y_test)) \n",
        "end = timeit.default_timer()\n",
        "print(\"Run Time : %f\" % (end-start))\n",
        "predict=model.predict(X_test)\n",
        "visualize_result(history,X_test, Y_test,model)\n",
        "\n",
        "F_1_our_model=[X_test,Y_test,predict,history]"
      ],
      "metadata": {
        "id": "QruvbqhgU0hC"
      },
      "execution_count": null,
      "outputs": []
    },
    {
      "cell_type": "code",
      "execution_count": null,
      "metadata": {
        "id": "vCvRr0qENQXF"
      },
      "outputs": [],
      "source": [
        "#Our Model With 2 Layers\n",
        "model = Sequential()\n",
        "\n",
        "\n",
        "\n",
        "in_ = Input(shape=(input_dim,))\n",
        "Layer_1_Act_X_1=Dense(hidden_dimention, activation='X_1')(in_)\n",
        "################################################################\n",
        "Layer_1_Act_X_2=Dense(hidden_dimention, activation='X_2')(in_)\n",
        "###############################################################\n",
        "Layer_1_Act_X_3=Dense(hidden_dimention, activation='X_3')(in_)\n",
        "###############################################################\n",
        "Layer_1_Act_X_4=Dense(hidden_dimention, activation='X_4')(in_)\n",
        "###############################################################\n",
        "Layer_1_Act_X_5=Dense(hidden_dimention, activation='X_5')(in_)\n",
        "###############################################################\n",
        "Layer_1_Act_X_6=Dense(hidden_dimention, activation='X_6')(in_)\n",
        "###############################################################\n",
        "Layer_1_Act_X_7=Dense(hidden_dimention, activation='X_7')(in_)\n",
        "###############################################################\n",
        "Layer_1_Act_X_8=Dense(hidden_dimention, activation='X_8')(in_)\n",
        "###############################################################\n",
        "Concatenate_First_Layer = concatenate([Layer_1_Act_X_1,Layer_1_Act_X_2,Layer_1_Act_X_3,Layer_1_Act_X_4,Layer_1_Act_X_5,Layer_1_Act_X_6,Layer_1_Act_X_7,Layer_1_Act_X_8])\n",
        "\n",
        "Out_put_first_layer=Dense(hidden_dimention, activation='linear')(Concatenate_First_Layer)\n",
        "\n",
        "\n",
        "Out_put=Dense(output_dim, activation='linear')(Out_put_first_layer)\n",
        "model = Model(in_ , Out_put)\n",
        "model.summary()\n",
        "model.compile(loss='mean_squared_error', optimizer='adam')\n",
        "\n"
      ]
    },
    {
      "cell_type": "code",
      "execution_count": null,
      "metadata": {
        "id": "kFCe-YVWNQXF"
      },
      "outputs": [],
      "source": [
        "# from IPython.display import Image\n",
        "# Image(filename='model_2_layers.png')"
      ]
    },
    {
      "cell_type": "code",
      "execution_count": null,
      "metadata": {
        "id": "ILKQHI6NNQXG"
      },
      "outputs": [],
      "source": [
        "#Train Our Model on Function 3\n",
        "column=2\n",
        "X_train,Y_train,X_test,Y_test= data_prep(x_train,x_test,y_train,y_test,column)\n",
        "\n",
        "\n",
        "\n",
        "#F_3_archicture_our\n",
        "\n",
        "start = timeit.default_timer()\n",
        "history = model.fit(X_train,Y_train,epochs=number_epo,verbose=0,batch_size=10,validation_data=(X_test, Y_test)) \n",
        "end = timeit.default_timer()\n",
        "print(\"Run Time : %f\" % (end-start))\n",
        "predict=model.predict(X_test)\n",
        "visualize_result(history,X_test, Y_test,model)\n",
        "\n",
        "F_3_our_model=[X_test,Y_test,predict,history]\n",
        "\n"
      ]
    },
    {
      "cell_type": "code",
      "execution_count": null,
      "metadata": {
        "id": "B4LcswP7NQXG"
      },
      "outputs": [],
      "source": [
        "#Train Our Model on Function 2\n",
        "column=1\n",
        "X_train,Y_train,X_test,Y_test= data_prep(x_train,x_test,y_train,y_test,column)\n",
        "\n",
        "\n",
        "\n",
        "#F_2_archicture_our\n",
        "\n",
        "start = timeit.default_timer()\n",
        "history = model.fit(X_train,Y_train,epochs=number_epo,verbose=0,batch_size=10,validation_data=(X_test, Y_test)) \n",
        "end = timeit.default_timer()\n",
        "print(\"Run Time : %f\" % (end-start))\n",
        "predict=model.predict(X_test)\n",
        "visualize_result(history,X_test, Y_test,model)\n",
        "\n",
        "F_2_our_model=[X_test,Y_test,predict,history]"
      ]
    },
    {
      "cell_type": "code",
      "execution_count": null,
      "metadata": {
        "id": "PbHxNZr9NQXG"
      },
      "outputs": [],
      "source": [
        "#Train Our Model on Function 1\n",
        "column=0\n",
        "X_train,Y_train,X_test,Y_test= data_prep(x_train,x_test,y_train,y_test,column)\n",
        "\n",
        "\n",
        "\n",
        "#F_1_archicture_our\n",
        "\n",
        "start = timeit.default_timer()\n",
        "history = model.fit(X_train,Y_train,epochs=number_epo,verbose=0,batch_size=10,validation_data=(X_test, Y_test)) \n",
        "end = timeit.default_timer()\n",
        "print(\"Run Time : %f\" % (end-start))\n",
        "predict=model.predict(X_test)\n",
        "visualize_result(history,X_test, Y_test,model)\n",
        "\n",
        "F_1_our_model=[X_test,Y_test,predict,history]"
      ]
    },
    {
      "cell_type": "code",
      "execution_count": null,
      "metadata": {
        "id": "m3xyi3wBNQXG"
      },
      "outputs": [],
      "source": [
        "#Train Our Model on Function 1\n",
        "\n",
        "!pip install autokeras\n",
        "from sklearn.model_selection import train_test_split\n",
        "import autokeras as ak\n",
        "\n",
        "column=0\n",
        "X_train,Y_train,X_test,Y_test= data_prep(x_train,x_test,y_train,y_test,column)\n",
        "\n",
        "\n",
        "X_train=X_train.reshape(800,1)\n",
        "Y_train=Y_train.reshape(800,1)\n",
        "X_test=X_test.reshape(200,1)\n",
        "Y_test=Y_test.reshape(200,1)\n",
        "\n",
        "train_set = tf.data.Dataset.from_tensor_slices((X_train, Y_train))\n",
        "test_set = tf.data.Dataset.from_tensor_slices(\n",
        "    (X_test, Y_test)\n",
        ")\n",
        "\n",
        "clf = ak.StructuredDataRegressor(\n",
        "    overwrite=True, max_trials=10\n",
        ") \n",
        "# Feed the tensorflow Dataset to the classifier.\n",
        "clf.fit(train_set, epochs=5,verbose=0)\n",
        "# Predict with the best model.\n",
        "predicted_y = clf.predict(test_set)\n",
        "# Evaluate the best model with testing data.\n",
        "print(clf.evaluate(test_set))"
      ]
    },
    {
      "cell_type": "code",
      "source": [
        "model = clf.export_model()\n",
        "model.summary()"
      ],
      "metadata": {
        "id": "qDKMJzb5YDrr"
      },
      "execution_count": null,
      "outputs": []
    },
    {
      "cell_type": "code",
      "source": [
        "\n",
        "\n",
        "start = timeit.default_timer()\n",
        "history = model.fit(X_train,Y_train,epochs=number_epo,verbose=0,batch_size=10,validation_data=(X_test, Y_test)) \n",
        "end = timeit.default_timer()\n",
        "print(\"Run Time : %f\" % (end-start))\n",
        "predict=model.predict(X_test)\n",
        "visualize_result(history,X_test, Y_test,model)\n",
        "F_1_our_model=[X_test,Y_test,predict,history]"
      ],
      "metadata": {
        "id": "iqL6hu4-YnwM"
      },
      "execution_count": null,
      "outputs": []
    },
    {
      "cell_type": "code",
      "source": [],
      "metadata": {
        "id": "lxFH-8bLGoWe"
      },
      "execution_count": null,
      "outputs": []
    }
  ],
  "metadata": {
    "kernelspec": {
      "display_name": "Python 3",
      "language": "python",
      "name": "python3"
    },
    "language_info": {
      "codemirror_mode": {
        "name": "ipython",
        "version": 3
      },
      "file_extension": ".py",
      "mimetype": "text/x-python",
      "name": "python",
      "nbconvert_exporter": "python",
      "pygments_lexer": "ipython3",
      "version": "3.6.5"
    },
    "colab": {
      "provenance": [],
      "machine_shape": "hm",
      "include_colab_link": true
    },
    "accelerator": "GPU",
    "gpuClass": "premium"
  },
  "nbformat": 4,
  "nbformat_minor": 0
}