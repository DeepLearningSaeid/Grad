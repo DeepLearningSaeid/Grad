{
  "nbformat": 4,
  "nbformat_minor": 0,
  "metadata": {
    "colab": {
      "provenance": [],
      "authorship_tag": "ABX9TyP447nyBJ+AbXou21n7hcF4",
      "include_colab_link": true
    },
    "kernelspec": {
      "name": "python3",
      "display_name": "Python 3"
    },
    "language_info": {
      "name": "python"
    }
  },
  "cells": [
    {
      "cell_type": "markdown",
      "metadata": {
        "id": "view-in-github",
        "colab_type": "text"
      },
      "source": [
        "<a href=\"https://colab.research.google.com/github/DeepLearningSaeid/Grad/blob/main/SWAG_Classification.ipynb\" target=\"_parent\"><img src=\"https://colab.research.google.com/assets/colab-badge.svg\" alt=\"Open In Colab\"/></a>"
      ]
    },
    {
      "cell_type": "code",
      "source": [
        "!pip install autokeras -q\n"
      ],
      "metadata": {
        "id": "nqx3VfYo8hRe"
      },
      "execution_count": 1,
      "outputs": []
    },
    {
      "cell_type": "code",
      "source": [
        "import ssl\n",
        "import numpy as np\n",
        "import pandas as pd\n",
        "from sklearn.preprocessing import StandardScaler\n",
        "from sklearn.model_selection import StratifiedKFold\n",
        "from keras.layers import Input, Dense, concatenate\n",
        "from keras.models import Model\n",
        "from keras.utils import get_custom_objects\n",
        "from keras.layers import Activation\n",
        "from keras.optimizers import Adam\n",
        "import keras.backend as K\n",
        "import autokeras as ak\n",
        "import time\n",
        "ssl._create_default_https_context = ssl._create_unverified_context"
      ],
      "metadata": {
        "colab": {
          "base_uri": "https://localhost:8080/"
        },
        "id": "2LpFtjwOFUu6",
        "outputId": "9cd71a33-3f77-4afd-962d-eb57b83c0e6a"
      },
      "execution_count": 2,
      "outputs": [
        {
          "output_type": "stream",
          "name": "stdout",
          "text": [
            "Using TensorFlow backend\n"
          ]
        }
      ]
    },
    {
      "cell_type": "code",
      "source": [
        "\n",
        "\n",
        "\n",
        "# Load Pima Indians Diabetes dataset\n",
        "url = \"https://raw.githubusercontent.com/jbrownlee/Datasets/master/pima-indians-diabetes.data.csv\"\n",
        "names = ['preg', 'plas', 'pres', 'skin', 'test', 'mass', 'pedi', 'age', 'class']\n",
        "data = pd.read_csv(url, names=names)\n",
        "\n",
        "# Separate features and labels\n",
        "X = data.drop('class', axis=1).values\n",
        "Y = data['class'].values\n",
        "\n",
        "# Normalize the features\n",
        "scaler = StandardScaler()\n",
        "X = scaler.fit_transform(X)\n",
        "\n",
        "def define_activation_functions():\n",
        "    activations = [\n",
        "        ('X_1', lambda x: K.pow(x, 1)),\n",
        "        ('X_2', lambda x: K.pow(x, 2) / 2),\n",
        "        ('X_2_', lambda x: K.pow(x, 2) / 24),\n",
        "        ('X_2__', lambda x: K.pow(x, 2) / 720),\n",
        "        ('X_2___', lambda x: K.pow(x, 2) / 40320),\n",
        "    ]\n",
        "    for name, func in activations:\n",
        "        get_custom_objects().update({name: Activation(func)})\n",
        "\n",
        "define_activation_functions()\n",
        "\n",
        "def create_optimized_model(input_dim, hidden_dim, output_dim):\n",
        "    input_layer = Input(shape=(input_dim,))\n",
        "    x1 = Dense(hidden_dim, activation='X_1')(input_layer)\n",
        "    x2 = Dense(hidden_dim, activation='X_2')(input_layer)\n",
        "    merged1 = concatenate([x1, x2])\n",
        "    x3 = Dense(hidden_dim, activation='X_2_')(merged1)\n",
        "    x4 = Dense(hidden_dim, activation='X_2__')(x3)\n",
        "    x5 = Dense(hidden_dim, activation='X_2___')(x4)\n",
        "    merged2 = concatenate([x1, x2, x3, x4, x5])\n",
        "    output = Dense(output_dim, activation='X_1')(merged2)\n",
        "    model = Model(inputs=input_layer, outputs=output)\n",
        "    model.compile(loss='MeanSquaredError', optimizer=Adam(0.01), metrics=['accuracy'])\n",
        "    return model\n",
        "\n",
        "input_dim = 8\n",
        "hidden_dim = 50\n",
        "output_dim = 1\n",
        "n_folds = 10\n",
        "kfold = StratifiedKFold(n_splits=n_folds, shuffle=True, random_state=7)\n",
        "\n",
        "\n",
        "\n",
        "def run_SWAG_cross_validation(X, Y):\n",
        "    cvscores = []\n",
        "    for train, test in kfold.split(X, Y):\n",
        "        model = create_optimized_model(input_dim, hidden_dim, output_dim)\n",
        "        model.fit(X[train], Y[train], epochs=5, batch_size=32, verbose=0)\n",
        "        scores = model.evaluate(X[test], Y[test], verbose=0)\n",
        "        print(f\"Fold Accuracy: {scores[1]*100:.2f}%\")\n",
        "        cvscores.append(scores[1] * 100)\n",
        "    return cvscores\n",
        "\n",
        "def run_autokeras_cross_validation(X, Y):\n",
        "    cvscores = []\n",
        "    for train, test in kfold.split(X, Y):\n",
        "        clf = ak.StructuredDataClassifier(overwrite=True, max_trials=5)\n",
        "        clf.fit(X[train], Y[train], epochs=5, verbose=0)\n",
        "        scores = clf.evaluate(X[test], Y[test], verbose=0)\n",
        "        print(f\"Fold Accuracy: {scores[1]*100:.2f}%\")\n",
        "        cvscores.append(scores[1] * 100)\n",
        "    return cvscores\n",
        "\n",
        "start_time = time.time()\n",
        "\n",
        "print(\"SWAG Results\")\n",
        "cvscores_swag = run_SWAG_cross_validation(X, Y)\n",
        "print(f\"{n_folds}-fold cross-validation average accuracy: {np.mean(cvscores_swag):.2f}% (+/- {np.std(cvscores_swag):.2f}%)\")\n",
        "\n",
        "end_time = time.time()\n",
        "elapsed_time = end_time - start_time\n",
        "print(f\"Runtime SWAG : {elapsed_time:.2f} seconds\")\n",
        "\n",
        "start_time = time.time()\n",
        "\n",
        "print(\"\\nAuto keras Results\")\n",
        "cvscores_ak = run_autokeras_cross_validation(X, Y)\n",
        "print(f\"{n_folds}-fold cross-validation average accuracy: {np.mean(cvscores_ak):.2f}% (+/- {np.std(cvscores_ak):.2f}%)\")\n",
        "\n",
        "end_time = time.time()\n",
        "elapsed_time = end_time - start_time\n",
        "print(f\"Runtime Auto keras : {elapsed_time:.2f} seconds\")\n"
      ],
      "metadata": {
        "colab": {
          "base_uri": "https://localhost:8080/"
        },
        "id": "XK0XURK47-46",
        "outputId": "fda99fbb-827b-4a97-dc4e-3e426141d1cf"
      },
      "execution_count": 3,
      "outputs": [
        {
          "metadata": {
            "tags": null
          },
          "name": "stdout",
          "output_type": "stream",
          "text": [
            "SWAG Results\n",
            "Fold Accuracy: 74.03%\n",
            "Fold Accuracy: 75.32%\n",
            "Fold Accuracy: 80.52%\n",
            "Fold Accuracy: 79.22%\n"
          ]
        },
        {
          "metadata": {
            "tags": null
          },
          "name": "stderr",
          "output_type": "stream",
          "text": [
            "WARNING:tensorflow:5 out of the last 13 calls to <function Model.make_test_function.<locals>.test_function at 0x7aeef096b250> triggered tf.function retracing. Tracing is expensive and the excessive number of tracings could be due to (1) creating @tf.function repeatedly in a loop, (2) passing tensors with different shapes, (3) passing Python objects instead of tensors. For (1), please define your @tf.function outside of the loop. For (2), @tf.function has reduce_retracing=True option that can avoid unnecessary retracing. For (3), please refer to https://www.tensorflow.org/guide/function#controlling_retracing and https://www.tensorflow.org/api_docs/python/tf/function for  more details.\n"
          ]
        },
        {
          "metadata": {
            "tags": null
          },
          "name": "stdout",
          "output_type": "stream",
          "text": [
            "Fold Accuracy: 74.03%\n"
          ]
        },
        {
          "metadata": {
            "tags": null
          },
          "name": "stderr",
          "output_type": "stream",
          "text": [
            "WARNING:tensorflow:5 out of the last 13 calls to <function Model.make_test_function.<locals>.test_function at 0x7aeef046e3b0> triggered tf.function retracing. Tracing is expensive and the excessive number of tracings could be due to (1) creating @tf.function repeatedly in a loop, (2) passing tensors with different shapes, (3) passing Python objects instead of tensors. For (1), please define your @tf.function outside of the loop. For (2), @tf.function has reduce_retracing=True option that can avoid unnecessary retracing. For (3), please refer to https://www.tensorflow.org/guide/function#controlling_retracing and https://www.tensorflow.org/api_docs/python/tf/function for  more details.\n"
          ]
        },
        {
          "metadata": {
            "tags": null
          },
          "name": "stdout",
          "output_type": "stream",
          "text": [
            "Fold Accuracy: 70.13%\n",
            "Fold Accuracy: 80.52%\n",
            "Fold Accuracy: 74.03%\n",
            "Fold Accuracy: 75.00%\n",
            "Fold Accuracy: 80.26%\n",
            "10-fold cross-validation average accuracy: 76.31% (+/- 3.41%)\n",
            "Runtime SWAG : 39.49 seconds\n",
            "\n",
            "Auto keras Results\n",
            "Fold Accuracy: 79.22%\n",
            "Fold Accuracy: 76.62%\n",
            "Fold Accuracy: 76.62%\n",
            "Fold Accuracy: 77.92%\n",
            "Fold Accuracy: 72.73%\n",
            "Fold Accuracy: 71.43%\n",
            "Fold Accuracy: 76.62%\n",
            "Fold Accuracy: 77.92%\n",
            "Fold Accuracy: 72.37%\n",
            "Fold Accuracy: 80.26%\n",
            "10-fold cross-validation average accuracy: 76.17% (+/- 2.86%)\n",
            "Runtime Auto keras : 244.52 seconds\n"
          ]
        }
      ]
    },
    {
      "cell_type": "code",
      "source": [
        "import numpy as np\n",
        "import pandas as pd\n",
        "from sklearn.preprocessing import StandardScaler\n",
        "from sklearn.model_selection import StratifiedKFold\n",
        "from keras.layers import Input, Dense, concatenate\n",
        "from keras.models import Model\n",
        "from keras.utils import get_custom_objects\n",
        "from keras.layers import Activation\n",
        "from keras.optimizers import Adam\n",
        "import keras.backend as K\n",
        "import autokeras as ak\n",
        "\n",
        "# Load Ionosphere dataset\n",
        "url = \"https://archive.ics.uci.edu/ml/machine-learning-databases/ionosphere/ionosphere.data\"\n",
        "data = pd.read_csv(url, header=None)\n",
        "\n",
        "# The dataset has 34 features and the last column is the target variable\n",
        "X = data.drop(34, axis=1).values\n",
        "# Convert target variable 'g' and 'b' to 1 and 0 respectively\n",
        "Y = np.where(data[34] == 'g', 1, 0)\n",
        "\n",
        "# Normalize the features\n",
        "scaler = StandardScaler()\n",
        "X = scaler.fit_transform(X)\n",
        "\n",
        "\n",
        "input_dim = 34  # There are 34 features in the Ionosphere dataset\n",
        "hidden_dim = 50\n",
        "output_dim = 1\n",
        "n_folds = 10\n",
        "kfold = StratifiedKFold(n_splits=n_folds, shuffle=True, random_state=7)\n",
        "\n",
        "start_time = time.time()\n",
        "\n",
        "print(\"SWAG Results\")\n",
        "cvscores_swag = run_SWAG_cross_validation(X, Y)\n",
        "print(f\"{n_folds}-fold cross-validation average accuracy: {np.mean(cvscores_swag):.2f}% (+/- {np.std(cvscores_swag):.2f}%)\")\n",
        "\n",
        "end_time = time.time()\n",
        "elapsed_time = end_time - start_time\n",
        "print(f\"Runtime SWAG : {elapsed_time:.2f} seconds\")\n",
        "\n",
        "start_time = time.time()\n",
        "\n",
        "print(\"\\nAuto keras Results\")\n",
        "cvscores_ak = run_autokeras_cross_validation(X, Y)\n",
        "print(f\"{n_folds}-fold cross-validation average accuracy: {np.mean(cvscores_ak):.2f}% (+/- {np.std(cvscores_ak):.2f}%)\")\n",
        "\n",
        "end_time = time.time()\n",
        "elapsed_time = end_time - start_time\n",
        "print(f\"Runtime Auto keras : {elapsed_time:.2f} seconds\")\n"
      ],
      "metadata": {
        "colab": {
          "base_uri": "https://localhost:8080/"
        },
        "id": "BEqB_GP3--hu",
        "outputId": "89a4e739-430c-4780-f8b2-53d8c7a4f2b2"
      },
      "execution_count": 4,
      "outputs": [
        {
          "metadata": {
            "tags": null
          },
          "name": "stdout",
          "output_type": "stream",
          "text": [
            "SWAG Results\n",
            "Fold Accuracy: 91.67%\n",
            "Fold Accuracy: 80.00%\n",
            "Fold Accuracy: 94.29%\n",
            "Fold Accuracy: 91.43%\n",
            "Fold Accuracy: 85.71%\n",
            "Fold Accuracy: 91.43%\n",
            "Fold Accuracy: 82.86%\n",
            "Fold Accuracy: 85.71%\n",
            "Fold Accuracy: 82.86%\n",
            "Fold Accuracy: 88.57%\n",
            "10-fold cross-validation average accuracy: 87.45% (+/- 4.48%)\n",
            "Runtime SWAG : 21.63 seconds\n",
            "\n",
            "Auto keras Results\n",
            "Fold Accuracy: 77.78%\n",
            "Fold Accuracy: 74.29%\n",
            "Fold Accuracy: 91.43%\n",
            "Fold Accuracy: 91.43%\n",
            "Fold Accuracy: 85.71%\n",
            "Fold Accuracy: 82.86%\n",
            "Fold Accuracy: 77.14%\n",
            "Fold Accuracy: 85.71%\n",
            "Fold Accuracy: 88.57%\n",
            "Fold Accuracy: 62.86%\n",
            "10-fold cross-validation average accuracy: 81.78% (+/- 8.46%)\n",
            "Runtime Auto keras : 305.51 seconds\n"
          ]
        }
      ]
    },
    {
      "cell_type": "code",
      "source": [
        "import numpy as np\n",
        "import pandas as pd\n",
        "from sklearn.preprocessing import StandardScaler\n",
        "from sklearn.model_selection import StratifiedKFold\n",
        "from keras.layers import Input, Dense, concatenate\n",
        "from keras.models import Model\n",
        "from keras.utils import get_custom_objects\n",
        "from keras.layers import Activation\n",
        "from keras.optimizers import Adam\n",
        "import keras.backend as K\n",
        "import autokeras as ak\n",
        "\n",
        "# Load the Connectionist Bench (Sonar) dataset\n",
        "url = \"https://archive.ics.uci.edu/ml/machine-learning-databases/undocumented/connectionist-bench/sonar/sonar.all-data\"\n",
        "data = pd.read_csv(url, header=None)\n",
        "\n",
        "# The dataset has 60 features and the last column is the target variable\n",
        "X = data.drop(60, axis=1).values\n",
        "# Convert target variable 'R' and 'M' to 1 and 0 respectively\n",
        "Y = np.where(data[60] == 'R', 1, 0)\n",
        "\n",
        "# Normalize the features\n",
        "scaler = StandardScaler()\n",
        "X = scaler.fit_transform(X)\n",
        "\n",
        "input_dim = 60  # There are 60 features in the Connectionist Bench dataset\n",
        "hidden_dim = 50\n",
        "output_dim = 1\n",
        "n_folds = 10\n",
        "kfold = StratifiedKFold(n_splits=n_folds, shuffle=True, random_state=7)\n",
        "\n",
        "\n",
        "start_time = time.time()\n",
        "\n",
        "print(\"SWAG Results\")\n",
        "cvscores_swag = run_SWAG_cross_validation(X, Y)\n",
        "print(f\"{n_folds}-fold cross-validation average accuracy: {np.mean(cvscores_swag):.2f}% (+/- {np.std(cvscores_swag):.2f}%)\")\n",
        "\n",
        "end_time = time.time()\n",
        "elapsed_time = end_time - start_time\n",
        "print(f\"Runtime SWAG : {elapsed_time:.2f} seconds\")\n",
        "\n",
        "start_time = time.time()\n",
        "\n",
        "print(\"\\nAuto keras Results\")\n",
        "cvscores_ak = run_autokeras_cross_validation(X, Y)\n",
        "print(f\"{n_folds}-fold cross-validation average accuracy: {np.mean(cvscores_ak):.2f}% (+/- {np.std(cvscores_ak):.2f}%)\")\n",
        "\n",
        "end_time = time.time()\n",
        "elapsed_time = end_time - start_time\n",
        "print(f\"Runtime Auto keras : {elapsed_time:.2f} seconds\")\n"
      ],
      "metadata": {
        "colab": {
          "base_uri": "https://localhost:8080/"
        },
        "id": "rsGv6H6G_jXP",
        "outputId": "f95018ab-de8e-458a-9250-4e7631e958c1"
      },
      "execution_count": 5,
      "outputs": [
        {
          "output_type": "stream",
          "name": "stdout",
          "text": [
            "SWAG Results\n",
            "Fold Accuracy: 71.43%\n",
            "Fold Accuracy: 80.95%\n",
            "Fold Accuracy: 71.43%\n",
            "Fold Accuracy: 76.19%\n",
            "Fold Accuracy: 90.48%\n",
            "Fold Accuracy: 76.19%\n",
            "Fold Accuracy: 80.95%\n",
            "Fold Accuracy: 66.67%\n",
            "Fold Accuracy: 80.00%\n",
            "Fold Accuracy: 60.00%\n",
            "10-fold cross-validation average accuracy: 75.43% (+/- 8.10%)\n",
            "Runtime SWAG : 20.21 seconds\n",
            "\n",
            "Auto keras Results\n",
            "Fold Accuracy: 61.90%\n",
            "Fold Accuracy: 52.38%\n",
            "Fold Accuracy: 61.90%\n",
            "Fold Accuracy: 61.90%\n",
            "Fold Accuracy: 42.86%\n",
            "Fold Accuracy: 85.71%\n",
            "Fold Accuracy: 71.43%\n",
            "Fold Accuracy: 66.67%\n",
            "Fold Accuracy: 55.00%\n",
            "Fold Accuracy: 60.00%\n",
            "10-fold cross-validation average accuracy: 61.98% (+/- 10.89%)\n",
            "Runtime Auto keras : 333.03 seconds\n"
          ]
        }
      ]
    },
    {
      "cell_type": "code",
      "source": [],
      "metadata": {
        "id": "Z3esjXcRQ9KQ"
      },
      "execution_count": 5,
      "outputs": []
    },
    {
      "cell_type": "markdown",
      "source": [],
      "metadata": {
        "id": "iLw0rzgRNCAj"
      }
    }
  ]
}