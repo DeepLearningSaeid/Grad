{
  "nbformat": 4,
  "nbformat_minor": 0,
  "metadata": {
    "colab": {
      "provenance": [],
      "authorship_tag": "ABX9TyONVLaJDv8Rwehc2AiRQJHX",
      "include_colab_link": true
    },
    "kernelspec": {
      "name": "python3",
      "display_name": "Python 3"
    },
    "language_info": {
      "name": "python"
    }
  },
  "cells": [
    {
      "cell_type": "markdown",
      "metadata": {
        "id": "view-in-github",
        "colab_type": "text"
      },
      "source": [
        "<a href=\"https://colab.research.google.com/github/DeepLearningSaeid/Grad/blob/main/Prepare_images_for_Visualization_.ipynb\" target=\"_parent\"><img src=\"https://colab.research.google.com/assets/colab-badge.svg\" alt=\"Open In Colab\"/></a>"
      ]
    },
    {
      "cell_type": "code",
      "execution_count": null,
      "metadata": {
        "id": "G1VYXp0kth3u"
      },
      "outputs": [],
      "source": [
        "import os\n",
        "import matplotlib.pyplot as plt\n",
        "\n",
        "# Define the path to the folder containing the images\n",
        "path = r'C:\\Users\\saeid\\Downloads\\1'\n",
        "\n",
        "# Get the list of images in the folder\n",
        "images = [os.path.join(path, f) for f in os.listdir(path) if f.endswith('.png')]\n",
        "\n",
        "# Sort the list of images based on their names\n",
        "images.sort()\n",
        "\n",
        "# Define the number of rows and columns for the plot\n",
        "nrows = len(images) // 2 + len(images) % 2\n",
        "ncols = 2\n",
        "\n",
        "# Create a figure with the specified number of rows and columns\n",
        "fig, ax = plt.subplots(nrows, ncols, figsize=(12, 8))\n",
        "\n",
        "# Flatten the axes array to make it easier to iterate through\n",
        "axes = ax.flatten()\n",
        "\n",
        "# Iterate through the images and display them in the appropriate subplot\n",
        "for i, img_path in enumerate(images):\n",
        "    # Load the image from disk\n",
        "    img = plt.imread(img_path)\n",
        "\n",
        "    # Get the name of the image\n",
        "    name = os.path.splitext(os.path.basename(img_path))[0]\n",
        "\n",
        "    # Determine the row and column for the image\n",
        "    row = i // 2\n",
        "    col = i % 2\n",
        "\n",
        "    # Display the image in the appropriate subplot\n",
        "    axes[i].imshow(img)\n",
        "    axes[i].set_title(name)\n",
        "    axes[i].axis('off')\n",
        "\n",
        "# Adjust the layout of the plot and show it\n",
        "plt.tight_layout()\n",
        "plt.show()\n"
      ]
    }
  ]
}