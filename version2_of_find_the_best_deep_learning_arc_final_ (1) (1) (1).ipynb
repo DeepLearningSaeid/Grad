{
 "cells": [
  {
   "cell_type": "markdown",
   "metadata": {
    "_cell_guid": "3126e70f-cab2-2a30-615a-4ca30b77f8ab",
    "id": "VXErDINtRDoK"
   },
   "source": [
    "# Saeid Search¶\n",
    "\n",
    "## look for best arch\n",
    "\n",
    "\n",
    "- Atul Acharya\n",
    "\n",
    "This notebook shows how to use a simple Keras based neural network for predicting diabetes. A few things implemented:\n",
    "\n",
    "- a 3-layer NN \n",
    "- model checkpointing / saving\n",
    "- plotting history"
   ]
  },
  {
   "cell_type": "code",
   "execution_count": 1,
   "metadata": {
    "id": "2q1Hz8RzRDoO"
   },
   "outputs": [
    {
     "name": "stderr",
     "output_type": "stream",
     "text": [
      "Using TensorFlow backend.\n"
     ]
    }
   ],
   "source": [
    "import timeit\n",
    "from keras.models import Model, Sequential\n",
    "from keras.layers import (\n",
    "    Input,\n",
    "    Embedding,\n",
    "    LSTM,\n",
    "    Dense,\n",
    "    concatenate,\n",
    "    Dropout,\n",
    "    Flatten,\n",
    "    Conv2D,\n",
    "    MaxPool2D,\n",
    "    Activation,\n",
    "    MaxPooling2D,\n",
    ")\n",
    "from keras.utils.np_utils import to_categorical  # convert to one-hot-encoding\n",
    "from tensorflow.keras.optimizers import RMSprop, Adam\n",
    "\n",
    "from keras.preprocessing.image import ImageDataGenerator\n",
    "from keras.callbacks import ReduceLROnPlateau\n",
    "from keras import backend as K\n",
    "from keras.utils.generic_utils import get_custom_objects\n",
    "from keras.datasets import cifar10\n",
    "from keras.utils import np_utils\n",
    "from tensorflow.keras.optimizers import SGD\n",
    "from keras.datasets import mnist\n",
    "from keras.utils.vis_utils import plot_model\n",
    "\n",
    "import tensorflow as tf\n",
    "import numpy\n",
    "import pandas as pd\n",
    "import numpy as np\n",
    "import matplotlib.pyplot as plt\n",
    "from matplotlib.ticker import NullFormatter  # useful for `logit` scale\n",
    "import matplotlib.image as mpimg\n",
    "import seaborn as sns\n",
    "\n",
    "%matplotlib inline\n",
    "from sklearn.model_selection import train_test_split\n",
    "from sklearn.metrics import confusion_matrix\n",
    "import itertools\n",
    "\n",
    "############################################################################\n",
    "numpy.random.seed(110)\n",
    "import numpy as np  # linear algebra\n",
    "import pandas as pd  # data processing, CSV file I/O (e.g. pd.read_csv)\n",
    "\n",
    "from subprocess import check_output"
   ]
  },
  {
   "cell_type": "code",
   "execution_count": 2,
   "metadata": {
    "_cell_guid": "6ddb1465-2483-ae5e-8e5c-251d19e16c6a",
    "id": "6S13lglyRDoQ"
   },
   "outputs": [],
   "source": [
    "import matplotlib.pyplot as plt\n",
    "\n",
    "%matplotlib inline\n",
    "\n",
    "from keras.layers import Dense\n",
    "from keras.callbacks import ModelCheckpoint\n",
    "\n",
    "seed = 42\n",
    "np.random.seed(seed)"
   ]
  },
  {
   "cell_type": "code",
   "execution_count": 3,
   "metadata": {
    "id": "aVzyV_t0RDoQ"
   },
   "outputs": [],
   "source": [
    "# Defining New Activation functions\n",
    "############################################################################\n",
    "def X_1(x):\n",
    "    return K.pow(x, 1)\n",
    "\n",
    "\n",
    "get_custom_objects().update({\"X_1\": Activation(X_1)})\n",
    "############################################################################\n",
    "def X_2(x):\n",
    "    return (K.pow(x, 2)) / 2\n",
    "\n",
    "\n",
    "get_custom_objects().update({\"X_2\": Activation(X_2)})\n",
    "############################################################################\n",
    "def X_3(x):\n",
    "    return (K.pow(x, 3)) / 6\n",
    "\n",
    "\n",
    "get_custom_objects().update({\"X_3\": Activation(X_3)})\n",
    "############################################################################\n",
    "def X_4(x):\n",
    "    return (K.pow(x, 4)) / 24\n",
    "\n",
    "\n",
    "get_custom_objects().update({\"X_4\": Activation(X_4)})\n",
    "############################################################################\n",
    "def X_5(x):\n",
    "    return (K.pow(x, 5)) / 120\n",
    "\n",
    "\n",
    "get_custom_objects().update({\"X_5\": Activation(X_5)})\n",
    "###############################################################################\n",
    "def X_6(x):\n",
    "    return (K.pow(x, 6)) / 720\n",
    "\n",
    "\n",
    "get_custom_objects().update({\"X_6\": Activation(X_6)})\n",
    "############################################################################\n",
    "def X_7(x):\n",
    "    return (K.pow(x, 7)) / 5040\n",
    "\n",
    "\n",
    "get_custom_objects().update({\"X_7\": Activation(X_7)})\n",
    "############################################################################\n",
    "def X_8(x):\n",
    "    return (K.pow(x, 8)) / 40320\n",
    "\n",
    "\n",
    "get_custom_objects().update({\"X_8\": Activation(X_8)})\n",
    "###############################################################################\n",
    "def X_9(x):\n",
    "    return (K.pow(x, 8)) / 362880\n",
    "\n",
    "\n",
    "get_custom_objects().update({\"X_9\": Activation(X_9)})\n",
    "###############################################################################"
   ]
  },
  {
   "cell_type": "code",
   "execution_count": 4,
   "metadata": {
    "id": "AVdEbAadRDoS"
   },
   "outputs": [],
   "source": [
    "# Define Test Functions\n",
    "\n",
    "\n",
    "def power_(x, n):\n",
    "    return np.power(x, n)\n",
    "\n",
    "\n",
    "###############################################################################\n",
    "def sigmoid_array(x):\n",
    "    return 1 / (1 + np.exp(-x))\n",
    "\n",
    "\n",
    "###############################################################################\n",
    "def exp_(x):\n",
    "    return np.exp(x)\n",
    "\n",
    "\n",
    "###############################################################################\n",
    "def log_(x):\n",
    "    return np.log(x)\n",
    "\n",
    "\n",
    "###############################################################################\n",
    "def generate_random(shape_1, shape_2):\n",
    "    temp = np.random.random(shape_1 * shape_2)\n",
    "    temp1 = temp.reshape(shape_1, shape_2)\n",
    "    return temp1\n",
    "\n",
    "\n",
    "###############################################################################\n",
    "def fun_1(x):\n",
    "    return 1 / 2 * power_(x, 2) - 5 * sigmoid_array(x)\n",
    "\n",
    "\n",
    "###############################################################################\n",
    "def fun_2(x):\n",
    "    return 6 * power_(x, 5) - 3 * sigmoid_array(x) + exp_(x) - 9 * log_(x)\n",
    "\n",
    "\n",
    "###############################################################################\n",
    "def fun_3(x):\n",
    "    return 22 * power_(x, 20) + sigmoid_array(x) + 2 * exp_(x) + 5 * log_(x)\n",
    "\n",
    "\n",
    "###############################################################################"
   ]
  },
  {
   "cell_type": "code",
   "execution_count": 5,
   "metadata": {
    "id": "zISOGuYVRDoS"
   },
   "outputs": [],
   "source": [
    "# Creates plots for all test functions\n",
    "def plot_loss(size, in_1, in_2, in_3, in_4, in_5, in_6):\n",
    "\n",
    "    plt.rcParams.update({\"font.size\": 16})\n",
    "\n",
    "    plt.figure(figsize=(20, 10))\n",
    "    plt.subplot(231)\n",
    "    training_loss1 = in_1.history[\"loss\"]\n",
    "    test_loss1 = in_1.history[\"val_loss\"]\n",
    "    epoch_count = range(1, len(training_loss1) + 1)\n",
    "    plt.plot(epoch_count, training_loss1, \"r--\")\n",
    "    plt.plot(epoch_count, test_loss1, \"b-\")\n",
    "    plt.legend([\"Training Loss\", \"Test Loss\"])\n",
    "    plt.xlabel(\"Epoch\")\n",
    "    plt.ylabel(\"Loss\")\n",
    "    plt.ylim(0, size)\n",
    "    plt.title(\"Architure 1\")\n",
    "\n",
    "    plt.subplot(232)\n",
    "    training_loss1 = in_2.history[\"loss\"]\n",
    "    test_loss1 = in_2.history[\"val_loss\"]\n",
    "    epoch_count = range(1, len(training_loss1) + 1)\n",
    "    plt.plot(epoch_count, training_loss1, \"r--\")\n",
    "    plt.plot(epoch_count, test_loss1, \"b-\")\n",
    "    plt.legend([\"Training Loss\", \"Test Loss\"])\n",
    "    plt.xlabel(\"Epoch\")\n",
    "    plt.ylabel(\"Loss\")\n",
    "    plt.ylim(0, size)\n",
    "    plt.title(\"Architure 2\")\n",
    "\n",
    "    plt.subplot(233)\n",
    "    training_loss1 = in_3.history[\"loss\"]\n",
    "    test_loss1 = in_3.history[\"val_loss\"]\n",
    "    epoch_count = range(1, len(training_loss1) + 1)\n",
    "    plt.plot(epoch_count, training_loss1, \"r--\")\n",
    "    plt.plot(epoch_count, test_loss1, \"b-\")\n",
    "    plt.legend([\"Training Loss\", \"Test Loss\"])\n",
    "    plt.xlabel(\"Epoch\")\n",
    "    plt.ylabel(\"Loss\")\n",
    "    plt.ylim(0, size)\n",
    "    plt.title(\"Architure 3\")\n",
    "\n",
    "    plt.subplot(234)\n",
    "    training_loss1 = in_4.history[\"loss\"]\n",
    "    test_loss1 = in_4.history[\"val_loss\"]\n",
    "    epoch_count = range(1, len(training_loss1) + 1)\n",
    "    plt.plot(epoch_count, training_loss1, \"r--\")\n",
    "    plt.plot(epoch_count, test_loss1, \"b-\")\n",
    "    plt.legend([\"Training Loss\", \"Test Loss\"])\n",
    "    plt.xlabel(\"Epoch\")\n",
    "    plt.ylabel(\"Loss\")\n",
    "    plt.ylim(0, size)\n",
    "    plt.title(\"Architure 4\")\n",
    "\n",
    "    plt.subplot(235)\n",
    "    training_loss1 = in_5.history[\"loss\"]\n",
    "    test_loss1 = in_5.history[\"val_loss\"]\n",
    "    epoch_count = range(1, len(training_loss1) + 1)\n",
    "    plt.plot(epoch_count, training_loss1, \"r--\")\n",
    "    plt.plot(epoch_count, test_loss1, \"b-\")\n",
    "    plt.legend([\"Training Loss\", \"Test Loss\"])\n",
    "    plt.xlabel(\"Epoch\")\n",
    "    plt.ylabel(\"Loss\")\n",
    "    plt.ylim(0, size)\n",
    "    plt.title(\"Architure 5\")\n",
    "\n",
    "    plt.subplot(236)\n",
    "    training_loss1 = in_6.history[\"loss\"]\n",
    "    test_loss1 = in_6.history[\"val_loss\"]\n",
    "    epoch_count = range(1, len(training_loss1) + 1)\n",
    "    plt.plot(epoch_count, training_loss1, \"r--\")\n",
    "    plt.plot(epoch_count, test_loss1, \"b-\")\n",
    "    plt.legend([\"Training Loss\", \"Test Loss\"])\n",
    "    plt.xlabel(\"Epoch\")\n",
    "    plt.ylabel(\"Loss\")\n",
    "    plt.ylim(0, size)\n",
    "    plt.title(\"Our Architure \")\n",
    "\n",
    "    plt.subplots_adjust(\n",
    "        top=0.92, bottom=0.08, left=0.0010, right=0.95, hspace=0.3, wspace=0.18\n",
    "    )\n",
    "\n",
    "    plt.show()"
   ]
  },
  {
   "cell_type": "code",
   "execution_count": 7,
   "metadata": {
    "id": "h2zXT9ZaRDoU"
   },
   "outputs": [],
   "source": [
    "# Create plots for shape of test function\n",
    "def plot_shape(in_1, in_2, in_3, in_4, in_5, in_6):\n",
    "\n",
    "    plt.figure(figsize=(20, 10))\n",
    "    plt.rcParams.update({\"font.size\": 16})\n",
    "\n",
    "    plt.subplot(231)\n",
    "    plt.scatter(in_1[0], in_1[1])\n",
    "    plt.scatter(in_1[0], in_1[2])\n",
    "    plt.title(\"Architure 1\")\n",
    "\n",
    "    plt.subplot(232)\n",
    "    plt.scatter(in_2[0], in_2[1])\n",
    "    plt.scatter(in_2[0], in_2[2])\n",
    "    plt.title(\"Architure 2\")\n",
    "\n",
    "    plt.subplot(233)\n",
    "    plt.scatter(in_3[0], in_3[1])\n",
    "    plt.scatter(in_3[0], in_3[2])\n",
    "    plt.title(\"Architure 3\")\n",
    "\n",
    "    plt.subplot(234)\n",
    "    plt.scatter(in_4[0], in_4[1])\n",
    "    plt.scatter(in_4[0], in_4[2])\n",
    "    plt.title(\"Architure 4\")\n",
    "\n",
    "    plt.subplot(235)\n",
    "    plt.scatter(in_5[0], in_5[1])\n",
    "    plt.scatter(in_5[0], in_5[2])\n",
    "    plt.title(\"Architure 5\")\n",
    "\n",
    "    plt.subplot(236)\n",
    "    plt.scatter(in_6[0], in_6[1])\n",
    "    plt.scatter(in_6[0], in_6[2])\n",
    "    plt.title(\"Our Architure\")\n",
    "\n",
    "    plt.subplots_adjust(\n",
    "        top=0.92, bottom=0.08, left=0.0010, right=0.95, hspace=0.3, wspace=0.18\n",
    "    )\n",
    "\n",
    "    plt.show()"
   ]
  },
  {
   "cell_type": "code",
   "execution_count": 8,
   "metadata": {
    "id": "smfZ233ARDoV"
   },
   "outputs": [],
   "source": [
    "# Creates dataset\n",
    "dim_train = 1000\n",
    "dim_test = 200\n",
    "\n",
    "X_train_temp = generate_random(dim_train, 3)\n",
    "Y_train_temp = generate_random(dim_train, 3)\n",
    "\n",
    "X_test_temp = generate_random(dim_test, 3)\n",
    "Y_test_temp = generate_random(dim_test, 3)\n",
    "\n",
    "\n",
    "Y_train_temp[:, 0] = fun_1(X_train_temp[:, 0])\n",
    "Y_train_temp[:, 1] = fun_2(X_train_temp[:, 1])\n",
    "Y_train_temp[:, 2] = fun_3(X_train_temp[:, 2])\n",
    "\n",
    "\n",
    "Y_test_temp[:, 0] = fun_1(X_test_temp[:, 0])\n",
    "Y_test_temp[:, 1] = fun_2(X_test_temp[:, 1])\n",
    "Y_test_temp[:, 2] = fun_3(X_test_temp[:, 2])"
   ]
  },
  {
   "cell_type": "code",
   "execution_count": 9,
   "metadata": {
    "id": "_K488qN2RDoV"
   },
   "outputs": [],
   "source": [
    "# Hyper perameters\n",
    "number_epo = 50\n",
    "input_dim = 1\n",
    "output_dim = 1"
   ]
  },
  {
   "cell_type": "code",
   "execution_count": 10,
   "metadata": {
    "id": "9aa5C2KbRDoX"
   },
   "outputs": [],
   "source": []
  },
  {
   "cell_type": "code",
   "execution_count": 10,
   "metadata": {
    "id": "5pERWhECRDoY"
   },
   "outputs": [],
   "source": [
    "from sklearn.preprocessing import StandardScaler\n",
    "from sklearn.model_selection import GridSearchCV, KFold\n",
    "from keras.models import Sequential\n",
    "from keras.layers import Dense\n",
    "from keras.wrappers.scikit_learn import KerasClassifier\n",
    "from keras.layers import Dropout\n",
    "import tensorflow as tf"
   ]
  },
  {
   "cell_type": "code",
   "execution_count": 12,
   "metadata": {},
   "outputs": [],
   "source": [
    "# Example of Dropout on the Sonar Dataset: Hidden Layer\n",
    "from pandas import read_csv\n",
    "from tensorflow.keras.models import Sequential\n",
    "from tensorflow.keras.layers import Dense\n",
    "from tensorflow.keras.layers import Dropout\n",
    "from tensorflow.keras.constraints import MaxNorm\n",
    "from tensorflow.keras.optimizers import SGD\n",
    "from sklearn.model_selection import cross_val_score\n",
    "from sklearn.preprocessing import LabelEncoder\n",
    "from sklearn.model_selection import StratifiedKFold\n",
    "from sklearn.preprocessing import StandardScaler\n",
    "from sklearn.pipeline import Pipeline"
   ]
  },
  {
   "cell_type": "code",
   "execution_count": 13,
   "metadata": {
    "id": "wTLA7qD0RDoY"
   },
   "outputs": [],
   "source": [
    "# First Standard Archetecture\n",
    "model = Sequential()\n",
    "model.add(Dense(4, input_dim=input_dim, activation=\"relu\"))\n",
    "model.add(Dense(2, activation=\"relu\"))\n",
    "model.add(Dense(output_dim, activation=\"relu\"))\n",
    "model.add(Dropout(0.1))\n",
    "# model.summary()\n",
    "model.compile(loss=\"mean_squared_error\", optimizer=\"adam\")"
   ]
  },
  {
   "cell_type": "code",
   "execution_count": 14,
   "metadata": {
    "id": "P26Q5H_FRDoZ"
   },
   "outputs": [],
   "source": [
    "# Creates plot for loss and trainning functions\n",
    "def plot_(history):\n",
    "    training_loss1 = history.history[\"loss\"]\n",
    "    test_loss1 = history.history[\"val_loss\"]\n",
    "    epoch_count = range(1, len(training_loss1) + 1)\n",
    "    plt.plot(epoch_count, training_loss1, \"r--\")\n",
    "    plt.plot(epoch_count, test_loss1, \"b-\")\n",
    "    plt.legend([\"Training Loss\", \"Test Loss\"])\n",
    "    plt.xlabel(\"Epoch\")\n",
    "    plt.ylabel(\"Loss\")\n",
    "    plt.show()"
   ]
  },
  {
   "cell_type": "code",
   "execution_count": 15,
   "metadata": {
    "colab": {
     "base_uri": "https://localhost:8080/",
     "height": 544
    },
    "id": "HU4DZjhIRDoZ",
    "outputId": "45767afc-b065-469d-a054-05e995683de1"
   },
   "outputs": [
    {
     "name": "stdout",
     "output_type": "stream",
     "text": [
      "Run Time : 5.269737\n"
     ]
    },
    {
     "data": {
      "image/png": "[encoded data removed]",
      "text/plain": [
       "<Figure size 432x288 with 1 Axes>"
      ]
     },
     "metadata": {
      "needs_background": "light"
     },
     "output_type": "display_data"
    },
    {
     "data": {
      "image/png": "[encoded data removed]",
      "text/plain": [
       "<Figure size 432x288 with 1 Axes>"
      ]
     },
     "metadata": {
      "needs_background": "light"
     },
     "output_type": "display_data"
    }
   ],
   "source": [
    "# train traditional model for Function 3\n",
    "column = 2\n",
    "X_train = X_train_temp[:, column]\n",
    "Y_train = Y_train_temp[:, column]\n",
    "X_test = X_test_temp[:, column]\n",
    "Y_test = Y_test_temp[:, column]\n",
    "# F_3_archicture_1_\n",
    "\n",
    "\n",
    "start = timeit.default_timer()\n",
    "history = model.fit(\n",
    "    X_train,\n",
    "    Y_train,\n",
    "    epochs=number_epo,\n",
    "    verbose=0,\n",
    "    batch_size=10,\n",
    "    validation_data=(X_test, Y_test),\n",
    ")\n",
    "end = timeit.default_timer()\n",
    "print(\"Run Time : %f\" % (end - start))\n",
    "plot_(history)\n",
    "plt.scatter(X_test, Y_test)\n",
    "predict = model.predict(X_test)\n",
    "plt.scatter(X_test, predict)\n",
    "\n",
    "F_3_archicture_1 = [\n",
    "    X_test,\n",
    "    Y_test,\n",
    "    predict,\n",
    "    history,\n",
    "]"
   ]
  },
  {
   "cell_type": "code",
   "execution_count": 16,
   "metadata": {},
   "outputs": [],
   "source": [
    "batch_size = [10]\n",
    "epochs = [10]\n",
    "learning_rate = [0.01]\n",
    "dropout_rate = [0.1, 0.2]\n",
    "activation_function = [\"relu\", \"tanh\", \"linear\", \"sigmoid\"]\n",
    "activation_function_1 = [\"relu\", \"tanh\", \"linear\", \"sigmoid\"]\n",
    "activation_function_2 = [\"relu\", \"tanh\", \"linear\", \"sigmoid\"]\n",
    "\n",
    "init = [\"uniform\", \"normal\"]\n",
    "neuron1 = [4, 8, 16, 20]\n",
    "neuron2 = [4, 8, 16, 20]"
   ]
  },
  {
   "cell_type": "code",
   "execution_count": null,
   "metadata": {
    "colab": {
     "base_uri": "https://localhost:8080/"
    },
    "id": "bZJAD7KrRDoa",
    "outputId": "c4efec80-21c1-416f-87af-16bfd4819ba3"
   },
   "outputs": [],
   "source": [
    "def create_model(\n",
    "    learning_rate,\n",
    "    dropout_rate,\n",
    "    activation_function,\n",
    "    activation_function_1,\n",
    "    activation_function_2,\n",
    "    init,\n",
    "    neuron1,\n",
    "    neuron2,\n",
    "):\n",
    "    model = Sequential()\n",
    "    model.add(\n",
    "        Dense(\n",
    "            neuron1,\n",
    "            input_dim=1,\n",
    "            kernel_initializer=init,\n",
    "            activation=activation_function,\n",
    "        )\n",
    "    )\n",
    "    model.add(Dropout(dropout_rate))\n",
    "    model.add(\n",
    "        Dense(\n",
    "            neuron2,\n",
    "            input_dim=neuron1,\n",
    "            kernel_initializer=init,\n",
    "            activation=activation_function_1,\n",
    "        )\n",
    "    )\n",
    "    model.add(Dropout(dropout_rate))\n",
    "    model.add(Dense(1, activation=activation_function_2))\n",
    "\n",
    "    adam = tf.keras.optimizers.Adam(learning_rate=learning_rate)\n",
    "    model.compile(loss=\"binary_crossentropy\", optimizer=adam, metrics=[\"accuracy\"])\n",
    "    return model\n",
    "\n",
    "\n",
    "# Create the model\n",
    "\n",
    "model = KerasClassifier(build_fn=create_model, verbose=0)\n",
    "\n",
    "# Define the grid search parameters\n",
    "\n",
    "# batch_size = [10,20,40]\n",
    "# epochs = [10,50,100]\n",
    "# learning_rate = [0.001,0.01,0.1]\n",
    "# dropout_rate = [0.0,0.1,0.2]\n",
    "# activation_function = ['softmax','relu','tanh','linear']\n",
    "# init = ['uniform','normal','zero']\n",
    "# neuron1 = [4,8,16]\n",
    "# neuron2 = [2,4,8]\n",
    "\n",
    "\n",
    "\n",
    "param_grids = dict(\n",
    "    batch_size=batch_size,\n",
    "    epochs=epochs,\n",
    "    learning_rate=learning_rate,\n",
    "    dropout_rate=dropout_rate,\n",
    "    activation_function=activation_function,\n",
    "    activation_function_1=activation_function_1,\n",
    "    activation_function_2=activation_function_2,\n",
    "    init=init,\n",
    "    neuron1=neuron1,\n",
    "    neuron2=neuron2,\n",
    ")\n",
    "\n",
    "# Build and fit the GridSearchCV\n",
    "\n",
    "grid = GridSearchCV(estimator=model, param_grid=param_grids, cv=KFold(), verbose=0)\n",
    "grid_result = grid.fit(X_train, Y_train)\n",
    "\n",
    "# Summarize the results\n",
    "\n",
    "print(\"Best : {}, using {}\".format(grid_result.best_score_, grid_result.best_params_))\n",
    "means = grid_result.cv_results_[\"mean_test_score\"]\n",
    "stds = grid_result.cv_results_[\"std_test_score\"]\n",
    "params = grid_result.cv_results_[\"params\"]\n",
    "for mean, stdev, param in zip(means, stds, params):\n",
    "    print(\"{},{} with: {}\".format(mean, stdev, param))"
   ]
  },
  {
   "cell_type": "code",
   "execution_count": null,
   "metadata": {
    "id": "8qyKvriXRDoa"
   },
   "outputs": [],
   "source": []
  },
  {
   "cell_type": "code",
   "execution_count": null,
   "metadata": {
    "id": "FpqUE3tiRDoa"
   },
   "outputs": [],
   "source": []
  }
 ],
 "metadata": {
  "accelerator": "GPU",
  "colab": {
   "name": "fork-of-find-the-best-deep-learning-arc.ipynb",
   "provenance": []
  },
  "gpuClass": "standard",
  "kernelspec": {
   "display_name": "Python 3",
   "language": "python",
   "name": "python3"
  },
  "language_info": {
   "codemirror_mode": {
    "name": "ipython",
    "version": 3
   },
   "file_extension": ".py",
   "mimetype": "text/x-python",
   "name": "python",
   "nbconvert_exporter": "python",
   "pygments_lexer": "ipython3",
   "version": "3.6.4"
  }
 },
 "nbformat": 4,
 "nbformat_minor": 1
}
