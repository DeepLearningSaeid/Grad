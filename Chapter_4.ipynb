{
  "nbformat": 4,
  "nbformat_minor": 0,
  "metadata": {
    "colab": {
      "provenance": [],
      "authorship_tag": "ABX9TyON/ffIogrl7cGd50/RM50p",
      "include_colab_link": true
    },
    "kernelspec": {
      "name": "python3",
      "display_name": "Python 3"
    },
    "language_info": {
      "name": "python"
    }
  },
  "cells": [
    {
      "cell_type": "markdown",
      "metadata": {
        "id": "view-in-github",
        "colab_type": "text"
      },
      "source": [
        "<a href=\"https://colab.research.google.com/github/DeepLearningSaeid/Grad/blob/main/Chapter_4.ipynb\" target=\"_parent\"><img src=\"https://colab.research.google.com/assets/colab-badge.svg\" alt=\"Open In Colab\"/></a>"
      ]
    },
    {
      "cell_type": "code",
      "execution_count": null,
      "metadata": {
        "id": "r9fIJ2wWzVrs"
      },
      "outputs": [],
      "source": [
        "%%capture\n",
        "\n",
        "!pip install autokeras"
      ]
    },
    {
      "cell_type": "code",
      "source": [
        "import autokeras as ak\n",
        "from tensorflow.keras.datasets import cifar10\n",
        "\n",
        "# Load the CIFAR10 dataset\n",
        "(x_train, y_train), (x_test, y_test) = cifar10.load_data()\n",
        "\n",
        "# Convert pixel values to between 0 and 1\n",
        "x_train = x_train.astype('float32') / 255.\n",
        "x_test = x_test.astype('float32') / 255.\n",
        "\n",
        "# Define the Autokeras image classifier\n",
        "clf = ak.ImageClassifier(\n",
        "    num_classes=10,\n",
        "    multi_label=False,\n",
        "    max_trials=10,\n",
        "    objective=\"val_accuracy\",\n",
        "    directory='autokeras_cifar10',\n",
        "    project_name='cifar10_classifier')\n",
        "\n",
        "# Train the model using the Autokeras fit method\n",
        "clf.fit(x_train, y_train, epochs=10, validation_data=(x_test, y_test))\n",
        "\n",
        "# Evaluate the model on the test set\n",
        "score = clf.evaluate(x_test, y_test)\n",
        "print('Test accuracy:', score[1])\n"
      ],
      "metadata": {
        "id": "niPvYFFIzd4b"
      },
      "execution_count": null,
      "outputs": []
    },
    {
      "cell_type": "code",
      "source": [],
      "metadata": {
        "id": "ZS9iQ_cmzghZ"
      },
      "execution_count": null,
      "outputs": []
    }
  ]
}