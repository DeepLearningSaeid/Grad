{
  "cells": [
    {
      "cell_type": "markdown",
      "metadata": {
        "id": "view-in-github",
        "colab_type": "text"
      },
      "source": [
        "<a href=\"https://colab.research.google.com/github/DeepLearningSaeid/Grad/blob/main/Chapter_2.ipynb\" target=\"_parent\"><img src=\"https://colab.research.google.com/assets/colab-badge.svg\" alt=\"Open In Colab\"/></a>"
      ]
    },
    {
      "cell_type": "code",
      "execution_count": 1,
      "metadata": {
        "id": "pqIUt2CRNQWz"
      },
      "outputs": [],
      "source": [
        "\n",
        "%%capture\n",
        "# Install Autokeras library\n",
        "!pip install autokeras\n",
        "\n",
        "# Import required libraries\n",
        "import autokeras as ak\n",
        "import timeit\n",
        "import numpy as np\n",
        "import tensorflow as tf\n",
        "from keras.wrappers.scikit_learn import KerasRegressor\n",
        "from sklearn.model_selection import GridSearchCV, KFold\n",
        "from sklearn.model_selection import train_test_split\n",
        "import matplotlib.pyplot as plt\n",
        "from keras.models import Model, Sequential\n",
        "from keras.layers import Input, Embedding, Dense, concatenate, Dropout, Flatten, Activation\n",
        "from keras import backend as K\n",
        "from keras.utils import get_custom_objects\n",
        "from keras.utils import np_utils, to_categorical, plot_model\n",
        "from tensorflow.keras.optimizers import Adam\n",
        "from keras.datasets import mnist\n",
        "\n",
        "\n",
        "# Set random seed\n",
        "np.random.seed(110)\n"
      ]
    },
    {
      "cell_type": "code",
      "source": [
        "# Defining new activation functions\n",
        "def define_activation_functions():\n",
        "    \"\"\"\n",
        "    Define custom activation functions and update the custom objects dictionary.\n",
        "    \"\"\"\n",
        "    # Define activation functions and their respective names\n",
        "    activation_functions = [\n",
        "        ('X_1', lambda x: K.pow(x, 1)),\n",
        "        ('X_2', lambda x: K.pow(x, 2) / 2),\n",
        "        ('X_2_', lambda x: K.pow(x, 2) / 24),\n",
        "        ('X_2__', lambda x: K.pow(x, 2) / 720),\n",
        "        ('X_2___', lambda x: K.pow(x, 2) / 40320),\n",
        "        ('X_3', lambda x: K.pow(x, 3) / 6),\n",
        "        ('X_4', lambda x: K.pow(x, 4) / 24),\n",
        "        ('X_5', lambda x: K.pow(x, 5) / 120),\n",
        "        ('X_6', lambda x: K.pow(x, 6) / 720),\n",
        "        ('X_7', lambda x: K.pow(x, 7) / 5040),\n",
        "        ('X_8', lambda x: K.pow(x, 8) / 40320),\n",
        "        ('X_9', lambda x: K.pow(x, 8) / 362880),\n",
        "    ]\n",
        "\n",
        "    # Update the custom objects dictionary with the defined activation functions\n",
        "    for name, function in activation_functions:\n",
        "        get_custom_objects().update({name: Activation(function)})\n",
        "\n",
        "# Define and register the custom activation functions\n",
        "define_activation_functions()\n"
      ],
      "metadata": {
        "id": "sJQmQ0P1OpVk"
      },
      "execution_count": 2,
      "outputs": []
    },
    {
      "cell_type": "code",
      "source": [
        "# Create SWAG Model with 4 Layers\n",
        "def create_swag_model(input_dim, hidden_dim, output_dim, activations):\n",
        "    \"\"\"\n",
        "    Create a SWAG model with two layers of concatenated sub-layers.\n",
        "    \n",
        "    Args:\n",
        "        input_dim (int): The input dimension.\n",
        "        hidden_dim (int): The hidden dimension.\n",
        "        output_dim (int): The output dimension.\n",
        "        activations (list): A list of activation functions for each sub-layer.\n",
        "        \n",
        "    Returns:\n",
        "        model (Model): A Keras model.\n",
        "    \"\"\"\n",
        "    # Define the input layer\n",
        "    input_layer = Input(shape=(input_dim,))\n",
        "    \n",
        "    # Create the first layer with sub-layers using different activation functions\n",
        "    layer1_sublayers = [Dense(hidden_dim, activation=act)(input_layer) for act in activations]\n",
        "    \n",
        "    # Concatenate the first layer's sub-layers\n",
        "    layer1_concat = concatenate(layer1_sublayers)\n",
        "    \n",
        "    # Create a dense layer after concatenation\n",
        "    layer1_output = Dense(hidden_dim, activation='linear')(layer1_concat)\n",
        "    \n",
        "    # Create the second layer with sub-layers using different activation functions\n",
        "    layer2_sublayers = [Dense(hidden_dim, activation=act)(layer1_output) for act in activations]\n",
        "    \n",
        "    # Concatenate the second layer's sub-layers\n",
        "    layer2_concat = concatenate(layer2_sublayers)\n",
        "    \n",
        "    # Create the output layer\n",
        "    output_layer = Dense(output_dim, activation='linear')(layer2_concat)\n",
        "    \n",
        "    # Define the model\n",
        "    model = Model(input_layer, output_layer)\n",
        "    \n",
        "    # Print model summary\n",
        "    \n",
        "    # Compile the model\n",
        "    model.compile(loss='mean_squared_error', optimizer='adam')\n",
        "    \n",
        "    return model\n",
        "\n",
        "# Define input and hidden dimensions, output dimensions, and activation functions\n",
        "input_dim = 1\n",
        "hidden_dim = 50\n",
        "output_dim = 1\n",
        "activations = ['X_1', 'X_2', 'X_3', 'X_4', 'X_5', 'X_6', 'X_7', 'X_8']\n",
        "\n",
        "# Create the SWAG model\n",
        "model = create_swag_model(input_dim, hidden_dim , output_dim, activations)\n"
      ],
      "metadata": {
        "id": "cwY88n7-O7kg"
      },
      "execution_count": 3,
      "outputs": []
    },
    {
      "cell_type": "code",
      "source": [
        "def create_optimized_model(input_dim,  hidden_dim , output_dim ):\n",
        "    \"\"\"\n",
        "    Create an optimized SWAG model with a custom architecture.\n",
        "\n",
        "    :param input_dim: int, dimension of the input data\n",
        "    :param output_dim: int, dimension of the output data\n",
        "    :param hidden_dim: int, hidden layer dimension, default is 50\n",
        "    :return: Model, a compiled Keras model\n",
        "    \"\"\"\n",
        "\n",
        "    # Define input layer\n",
        "    input_layer = Input(shape=(input_dim,))\n",
        "\n",
        "    # First layer with custom activations\n",
        "    layer_1_x1 = Dense(hidden_dim, activation='X_1')(input_layer)\n",
        "    layer_1_x2 = Dense(hidden_dim, activation='X_2')(input_layer)\n",
        "    concat_first_layer = concatenate([layer_1_x1, layer_1_x2])\n",
        "\n",
        "    # Second layer with custom activations\n",
        "    layer_x3_x4 = Dense(hidden_dim, activation='X_2_')(concat_first_layer)\n",
        "\n",
        "    # Third layer with custom activations\n",
        "    layer_x5_x6 = Dense(hidden_dim, activation='X_2__')(layer_x3_x4)\n",
        "\n",
        "    # Fourth layer with custom activations\n",
        "    layer_x7_x8 = Dense(hidden_dim, activation='X_2___')(layer_x5_x6)\n",
        "\n",
        "    # Concatenate all layers\n",
        "    concat_second_layer = concatenate([layer_1_x1, layer_1_x2, concat_first_layer,\n",
        "                                       layer_x3_x4, layer_x5_x6, layer_x7_x8])\n",
        "\n",
        "    # Output layer for the concatenated layers\n",
        "    output_first_layer = Dense(hidden_dim, activation='linear')(concat_second_layer)\n",
        "\n",
        "    # Final output layer\n",
        "    output_layer = Dense(output_dim, activation='linear')(output_first_layer)\n",
        "\n",
        "    # Create and compile the model\n",
        "    model = Model(input_layer, output_layer)\n",
        "    model.compile(loss='mean_squared_error', optimizer='adam')\n",
        "\n",
        "    return model\n",
        "\n",
        "# Set input and output dimensions\n",
        "input_dim = 1\n",
        "output_dim = 1\n",
        "\n",
        "# Create and compile the optimized model\n",
        "optimized_model = create_optimized_model(input_dim,hidden_dim, output_dim)\n",
        "optimized_model = create_swag_model(input_dim, hidden_dim , output_dim, activations)\n"
      ],
      "metadata": {
        "id": "wzehVN0lPEpD"
      },
      "execution_count": 4,
      "outputs": []
    },
    {
      "cell_type": "code",
      "execution_count": 5,
      "metadata": {
        "id": "l4XU83cxNQW4"
      },
      "outputs": [],
      "source": [
        "def power(x, n):\n",
        "    \"\"\"\n",
        "    Raise x to the power of n.\n",
        "\n",
        "    :param x: float, base number\n",
        "    :param n: int, exponent\n",
        "    :return: float, x raised to the power of n\n",
        "    \"\"\"\n",
        "    return np.power(x, n)\n",
        "\n",
        "def sigmoid_array(x):\n",
        "    \"\"\"\n",
        "    Apply the sigmoid function to the given input.\n",
        "\n",
        "    :param x: float or array-like, input value(s)\n",
        "    :return: float or array-like, sigmoid of input value(s)\n",
        "    \"\"\"\n",
        "    return 1 / (1 + np.exp(-x))\n",
        "\n",
        "def exp(x):\n",
        "    \"\"\"\n",
        "    Calculate the exponential of the given input.\n",
        "\n",
        "    :param x: float or array-like, input value(s)\n",
        "    :return: float or array-like, exponential of input value(s)\n",
        "    \"\"\"\n",
        "    return np.exp(x)\n",
        "\n",
        "def log(x):\n",
        "    \"\"\"\n",
        "    Calculate the natural logarithm of the given input.\n",
        "\n",
        "    :param x: float or array-like, input value(s)\n",
        "    :return: float or array-like, natural logarithm of input value(s)\n",
        "    \"\"\"\n",
        "    return np.log(x)\n",
        "\n",
        "def generate_random(shape_1, shape_2):\n",
        "    \"\"\"\n",
        "    Generate a random matrix with uniform distribution.\n",
        "\n",
        "    :param shape_1: int, number of rows\n",
        "    :param shape_2: int, number of columns\n",
        "    :return: array-like, random matrix of shape (shape_1, shape_2)\n",
        "    \"\"\"\n",
        "    temp = np.random.uniform(low=0.01, high=0.99, size=(shape_1 * shape_2))\n",
        "    temp1 = temp.reshape(shape_1, shape_2)\n",
        "    return temp1\n",
        "\n",
        "def fun_1(x):\n",
        "    \"\"\"\n",
        "    Compute the value of the custom function 1.\n",
        "\n",
        "    :param x: float or array-like, input value(s)\n",
        "    :return: float or array-like, result of the custom function 1\n",
        "    \"\"\"\n",
        "    return 1 / 2 * power(x, 2) - 5 * sigmoid_array(x)\n",
        "\n",
        "def fun_2(x):\n",
        "    \"\"\"\n",
        "    Compute the value of the custom function 2.\n",
        "\n",
        "    :param x: float or array-like, input value(s)\n",
        "    :return: float or array-like, result of the custom function 2\n",
        "    \"\"\"\n",
        "    return 6 * power(x, 5) - 3 * sigmoid_array(x) + exp(x) - 9 * log(x)\n",
        "\n",
        "def fun_3(x):\n",
        "    \"\"\"\n",
        "    Compute the value of the custom function 3.\n",
        "\n",
        "    :param x: float or array-like, input value(s)\n",
        "    :return: float or array-like, result of the custom function 3\n",
        "    \"\"\"\n",
        "    return 22 * power(x, 20) + sigmoid_array(x) + 2 * exp(x) + 5 * log(x)\n"
      ]
    },
    {
      "cell_type": "code",
      "source": [
        "def plot__(history):\n",
        "    \"\"\"\n",
        "    Creates a plot for training and validation loss.\n",
        "    \n",
        "    :param history: The history object obtained from training a Keras model.\n",
        "    \"\"\"\n",
        "    # Extract training and validation loss from history\n",
        "    training_loss = history.history['loss']\n",
        "    validation_loss = history.history['val_loss']\n",
        "    \n",
        "    # Create a range for the number of epochs\n",
        "    epoch_count = range(1, len(training_loss) + 1)\n",
        "    \n",
        "    # Plot the training and validation loss\n",
        "    plt.plot(epoch_count, training_loss, 'r--')\n",
        "    plt.plot(epoch_count, validation_loss, 'b-')\n",
        "    \n",
        "    # Add legend, labels, and title\n",
        "    plt.legend(['Training Loss', 'Validation Loss'])\n",
        "    plt.xlabel('Epoch')\n",
        "    plt.ylabel('Loss')\n",
        "    plt.title('Training and Validation Loss')\n",
        "    \n",
        "    # Show the plot\n",
        "    plt.show()\n"
      ],
      "metadata": {
        "id": "qk7BH1u53s7m"
      },
      "execution_count": 6,
      "outputs": []
    },
    {
      "cell_type": "code",
      "execution_count": 7,
      "metadata": {
        "id": "cWPPgnexNQW5"
      },
      "outputs": [],
      "source": [
        "\n",
        "\n",
        "def plot_loss(size, in_1, in_2, in_3, in_4, in_5):\n",
        "    # Set font size for all subplots\n",
        "    plt.rcParams.update({'font.size': 12})\n",
        "    \n",
        "    def plot_subplot(subplot_num, history, title):\n",
        "        # Extract training and test loss from history object\n",
        "        training_loss = history.history['loss']\n",
        "        test_loss = history.history['val_loss']\n",
        "        \n",
        "        # Create list of epochs\n",
        "        epoch_count = range(1, len(training_loss) + 1)\n",
        "        \n",
        "        # Create subplot and plot training and test loss\n",
        "        plt.subplot(subplot_num)\n",
        "        plt.plot(epoch_count, training_loss, 'r--')\n",
        "        plt.plot(epoch_count, test_loss, 'b-')\n",
        "        \n",
        "        # Add legend and labels\n",
        "        plt.legend(['Training Loss', 'Test Loss'])\n",
        "        plt.xlabel('Epoch')\n",
        "        plt.ylabel('Loss')\n",
        "        \n",
        "        # Set y-axis limit\n",
        "        plt.ylim(0, size)\n",
        "        \n",
        "        # Add title to subplot\n",
        "        plt.title(title)\n",
        "    \n",
        "    # Create figure with 6 subplots\n",
        "    plt.figure(figsize=(20, 12))\n",
        "    \n",
        "    # Plot training and test loss for each model architecture\n",
        "    plot_subplot(231, in_1, 'Architecture 1')\n",
        "    plot_subplot(232, in_2, 'Architecture 2')\n",
        "    plot_subplot(233, in_3, 'Auto_Keras ')\n",
        "    plot_subplot(234, in_4, 'Random Search')\n",
        "    plot_subplot(235, in_5, 'SWAG')\n",
        "\n",
        "\n",
        "\n",
        "def plot_shape(in_1,in_2,in_3,in_4,in_5):\n",
        "    # Set up the plot with a figure size of (20,10)\n",
        "    plt.figure(figsize=(20,10))\n",
        "    # Update the font size of the plot to 16\n",
        "    plt.rcParams.update({'font.size': 16})\n",
        "\n",
        "    # Plot the first subplot with the input data\n",
        "    plt.subplot(231)\n",
        "    plt.scatter(in_1[0], in_1[1])\n",
        "    plt.scatter(in_1[0], in_1[2])\n",
        "    plt.title('Architure 1')\n",
        "\n",
        "    # Plot the second subplot with the input data\n",
        "    plt.subplot(232)\n",
        "    plt.scatter(in_2[0], in_2[1])\n",
        "    plt.scatter(in_2[0], in_2[2])\n",
        "    plt.title('Architure 2')\n",
        "\n",
        "    # Plot the third subplot with the input data\n",
        "    plt.subplot(233)\n",
        "    plt.scatter(in_3[0], in_3[1])\n",
        "    plt.scatter(in_3[0], in_3[2])\n",
        "    plt.title('Auto Keras')\n",
        "\n",
        "    # Plot the fourth subplot with the input data\n",
        "    plt.subplot(234)\n",
        "    plt.scatter(in_4[0], in_4[1])\n",
        "    plt.scatter(in_4[0], in_4[2])\n",
        "    plt.title('Random Search')\n",
        "    \n",
        "    # Plot the fifth subplot with the input data\n",
        "    plt.subplot(235)\n",
        "    plt.scatter(in_5[0], in_5[1])\n",
        "    plt.scatter(in_5[0], in_5[2])\n",
        "    plt.title('SWAG')    \n",
        "    \n",
        "\n",
        "    # Adjust the subplot layout\n",
        "    plt.subplots_adjust(top=0.92, bottom=0.08, left=0.0010, right=0.95, hspace=0.3, wspace=0.18)\n",
        "\n",
        "    # Show the plot\n",
        "    plt.show()\n"
      ]
    },
    {
      "cell_type": "code",
      "execution_count": 7,
      "metadata": {
        "id": "sWJarFf3NQW6"
      },
      "outputs": [],
      "source": []
    },
    {
      "cell_type": "code",
      "source": [
        "def plot_loss(history):\n",
        "    \"\"\"\n",
        "    Plot the training and test loss using the history object.\n",
        "\n",
        "    :param history: History object, training history of the model\n",
        "    \"\"\"\n",
        "    # Retrieve the training and test loss values\n",
        "    training_loss = history.history['loss']\n",
        "    test_loss = history.history['val_loss']\n",
        "\n",
        "    # Generate epoch count\n",
        "    epoch_count = range(1, len(training_loss) + 1)\n",
        "\n",
        "    # Plot the training and test loss\n",
        "    plt.plot(epoch_count, training_loss, 'r--')\n",
        "    plt.plot(epoch_count, test_loss, 'b-')\n",
        "    plt.legend(['Training Loss', 'Test Loss'])\n",
        "    plt.xlabel('Epoch')\n",
        "    plt.ylabel('Loss')\n",
        "    plt.show()\n",
        "\n",
        "def visualize_results(history, X_test, Y_test, model):\n",
        "    \"\"\"\n",
        "    Visualize the results of a trained model by plotting the loss curve and comparing true\n",
        "    test data with the model's predicted output.\n",
        "\n",
        "    :param history: History object, training history of the model\n",
        "    :param X_test: array-like, test input data\n",
        "    :param Y_test: array-like, test output data (true values)\n",
        "    :param model: trained model to visualize\n",
        "    \"\"\"\n",
        "    # Plot the loss curve\n",
        "    plot_loss(history)\n",
        "    \n",
        "    # Scatter plot of the true test data\n",
        "    plt.scatter(X_test, Y_test, label='True data')\n",
        "    \n",
        "    # Scatter plot of the model's predicted output\n",
        "    predictions = model.predict(X_test)\n",
        "    plt.scatter(X_test, predictions, label='Predicted data')\n",
        "\n",
        "    plt.legend()\n",
        "    plt.show()\n"
      ],
      "metadata": {
        "id": "0eMK9CTZZuFp"
      },
      "execution_count": 8,
      "outputs": []
    },
    {
      "cell_type": "code",
      "source": [
        "def visualize_predictions(data_list, title_list):\n",
        "    \"\"\"\n",
        "    Visualize the predictions for multiple model architectures.\n",
        "\n",
        "    :param data_list: list, list of tuples containing test input data, test output data (true values),\n",
        "                      and model predictions for each model architecture\n",
        "    :param title_list: list, list of titles corresponding to each model architecture\n",
        "    \"\"\"\n",
        "    # Set up the plot with a figure size of (20,10)\n",
        "    plt.figure(figsize=(20, 10))\n",
        "\n",
        "    # Update the font size of the plot to 16\n",
        "    plt.rcParams.update({'font.size': 16})\n",
        "\n",
        "    # Plot the subplots with the input data\n",
        "    for i, (data, title) in enumerate(zip(data_list, title_list), start=1):\n",
        "        X_test = data[0]\n",
        "        Y_test = data[1]\n",
        "        predictions = data[2]\n",
        "        \n",
        "        plt.subplot(2, 3, i)\n",
        "        plt.scatter(X_test, Y_test, label='Actual')\n",
        "        plt.scatter(X_test, predictions, label='Predicted')\n",
        "        plt.title(title)\n",
        "        plt.legend()\n",
        "\n",
        "    # Adjust the subplot layout\n",
        "    plt.subplots_adjust(top=0.92, bottom=0.08, left=0.10, right=0.95, hspace=0.3, wspace=0.3)\n",
        "\n",
        "    # Show the plot\n",
        "    plt.show()\n",
        "\n",
        "\n",
        "# Example usage\n",
        "\n"
      ],
      "metadata": {
        "id": "leIR0YA5mucV"
      },
      "execution_count": 9,
      "outputs": []
    },
    {
      "cell_type": "code",
      "execution_count": 10,
      "metadata": {
        "id": "qqBekSqwNQW7"
      },
      "outputs": [],
      "source": [
        "#Creates dataset\n",
        "dim_train=1000\n",
        "dim_test=200\n",
        "\n",
        "X=generate_random(dim_train,3)\n",
        "Y=generate_random(dim_train,3)\n",
        "    \n",
        "Y[:,0]=fun_1(X[:,0])\n",
        "Y[:,1]=fun_2(X[:,1])\n",
        "Y[:,2]=fun_3(X[:,2])\n",
        "x_train,x_test,y_train,y_test=train_test_split(X,Y,test_size=0.2,random_state=1234)\n",
        "\n",
        "def data_prep(x_train,x_test,y_train,y_test,column):\n",
        "  X_train=x_train[:,column]\n",
        "  Y_train=y_train[:,column]\n",
        "  X_test=x_test[:,column]\n",
        "  Y_test=y_test[:,column]\n",
        "  return X_train,Y_train,X_test,Y_test"
      ]
    },
    {
      "cell_type": "code",
      "source": [
        "def visualize_loss(size, hist_list, title_list):\n",
        "    \"\"\"\n",
        "    Visualize the training and test losses for multiple model architectures.\n",
        "\n",
        "    :param size: int, y-axis limit for loss values\n",
        "    :param hist_list: list, list of Keras history objects for each model architecture\n",
        "    :param title_list: list, list of titles corresponding to each model architecture\n",
        "    \"\"\"\n",
        "    # Set font size for all subplots\n",
        "    plt.rcParams.update({'font.size': 12})\n",
        "\n",
        "    def plot_subplot(subplot_num, history, title):\n",
        "        # Extract training and test loss from history object\n",
        "        training_loss = history.history['loss']\n",
        "        test_loss = history.history['val_loss']\n",
        "\n",
        "        # Create list of epochs\n",
        "        epoch_count = range(1, len(training_loss) + 1)\n",
        "\n",
        "        # Create subplot and plot training and test loss\n",
        "        plt.subplot(subplot_num)\n",
        "        plt.plot(epoch_count, training_loss, 'r--')\n",
        "        plt.plot(epoch_count, test_loss, 'b-')\n",
        "\n",
        "        # Add legend and labels\n",
        "        plt.legend(['Training Loss', 'Test Loss'])\n",
        "        plt.xlabel('Epoch')\n",
        "        plt.ylabel('Loss')\n",
        "\n",
        "        # Set y-axis limit\n",
        "        plt.ylim(0, size)\n",
        "\n",
        "        # Add title to subplot\n",
        "        plt.title(title)\n",
        "\n",
        "    # Create figure with subplots\n",
        "    plt.figure(figsize=(20, 12))\n",
        "\n",
        "    # Plot training and test loss for each model architecture\n",
        "    for i, (history, title) in enumerate(zip(hist_list, title_list), start=1):\n",
        "        plot_subplot(int(f\"23{i}\"), history, title)\n",
        "\n",
        "    # Adjust the subplot layout\n",
        "    plt.subplots_adjust(top=0.92, bottom=0.08, left=0.0010, right=0.95, hspace=0.3, wspace=0.18)\n",
        "\n",
        "    # Show the plot\n",
        "    plt.show()"
      ],
      "metadata": {
        "id": "azC12okkTwFp"
      },
      "execution_count": 11,
      "outputs": []
    },
    {
      "cell_type": "code",
      "source": [
        "def train_and_visualize_model(model, X_train, Y_train, X_test, Y_test, num_epochs, batch_size):\n",
        "    \"\"\"\n",
        "    Train a given model and visualize its results using the provided training and testing data.\n",
        "\n",
        "    :param model: the model to train and visualize\n",
        "    :param X_train: array-like, training input data\n",
        "    :param Y_train: array-like, training output data (true values)\n",
        "    :param X_test: array-like, test input data\n",
        "    :param Y_test: array-like, test output data (true values)\n",
        "    :param num_epochs: int, number of epochs for training\n",
        "    :param batch_size: int, batch size for training\n",
        "    :return: list, containing test input data, test output data (true values), model predictions, and training history\n",
        "    \"\"\"\n",
        "    # Train the model\n",
        "    start = timeit.default_timer()\n",
        "    history = model.fit(X_train, Y_train, epochs=num_epochs, verbose=0, batch_size=batch_size,\n",
        "                        validation_data=(X_test, Y_test))\n",
        "    end = timeit.default_timer()\n",
        "    print(\"Run Time : %f\" % (end - start))\n",
        "\n",
        "    # Make predictions and visualize results\n",
        "    predictions = model.predict(X_test)\n",
        "    visualize_results(history, X_test, Y_test, model)\n",
        "\n",
        "    return [X_test, Y_test, predictions, history]\n"
      ],
      "metadata": {
        "id": "T3VZSnyBbC_i"
      },
      "execution_count": 12,
      "outputs": []
    },
    {
      "cell_type": "code",
      "execution_count": 13,
      "metadata": {
        "id": "xv28pO-NNQW7"
      },
      "outputs": [],
      "source": [
        "# Hyper perameters\n",
        "number_epo=5\n",
        "input_dim=1\n",
        "output_dim=1"
      ]
    },
    {
      "cell_type": "code",
      "source": [
        "\n",
        "hidden_dimention = 50\n",
        "\n",
        "Our_model=create_swag_model(input_dim, hidden_dim , output_dim, activations)\n",
        "# Our_model=create_optimized_model(input_dim,hidden_dim ,output_dim)\n"
      ],
      "metadata": {
        "id": "ferIZHQ40UVj"
      },
      "execution_count": 14,
      "outputs": []
    },
    {
      "cell_type": "markdown",
      "source": [
        "#Train the Model"
      ],
      "metadata": {
        "id": "7aKvwilEx0mc"
      }
    },
    {
      "cell_type": "code",
      "source": [
        "# this code is preparing data, training a model, and then visualizing the results of the model's performance. \n",
        "# The data preparation includes reshaping the data into the correct shape for the model and selecting a particular column of the data to use. \n",
        "# The model is then trained on this data for a specified number of epochs, and the time it takes to train the model is recorded.\n",
        "# Finally, the model is used to make predictions on the test set, and the results are visualized.\n",
        "#   The results of the model's performance, including the test data and predictions, are stored in the F_1_our_model variable.\n",
        "\n",
        "# Preprocess data\n",
        "column = 0\n",
        "X_train, Y_train, X_test, Y_test = data_prep(x_train, x_test, y_train, y_test, column)\n",
        "\n",
        "# Reshape data\n",
        "X_train = X_train.reshape(800, 1)\n",
        "Y_train = Y_train.reshape(800, 1)\n",
        "X_test = X_test.reshape(200, 1)\n",
        "Y_test = Y_test.reshape(200, 1)\n",
        "\n",
        "# # Train model\n",
        "F_1_our_model = train_and_visualize_model(Our_model,X_train,Y_train,X_test,Y_test,number_epo,10)\n",
        "\n",
        "\n",
        "# Preprocess data\n",
        "column = 1\n",
        "X_train, Y_train, X_test, Y_test = data_prep(x_train, x_test, y_train, y_test, column)\n",
        "\n",
        "# Reshape data\n",
        "X_train = X_train.reshape(800, 1)\n",
        "Y_train = Y_train.reshape(800, 1)\n",
        "X_test = X_test.reshape(200, 1)\n",
        "Y_test = Y_test.reshape(200, 1)\n",
        "\n",
        "# Train model\n",
        "\n",
        "F_2_our_model = train_and_visualize_model(Our_model,X_train,Y_train,X_test,Y_test,number_epo,10)\n",
        "\n",
        "\n",
        "# Preprocess data\n",
        "column = 2\n",
        "X_train, Y_train, X_test, Y_test = data_prep(x_train, x_test, y_train, y_test, column)\n",
        "\n",
        "# Reshape data\n",
        "X_train = X_train.reshape(800, 1)\n",
        "Y_train = Y_train.reshape(800, 1)\n",
        "X_test = X_test.reshape(200, 1)\n",
        "Y_test = Y_test.reshape(200, 1)\n",
        "\n",
        "# Train model\n",
        "\n",
        "F_3_our_model = train_and_visualize_model(Our_model,X_train,Y_train,X_test,Y_test,number_epo,10)"
      ],
      "metadata": {
        "colab": {
          "base_uri": "https://localhost:8080/",
          "height": 1000
        },
        "id": "p6uLLMrd3jxz",
        "outputId": "bac3a1dd-96fa-4c4e-e557-431439920ec5"
      },
      "execution_count": 15,
      "outputs": [
        {
          "output_type": "stream",
          "name": "stdout",
          "text": [
            "Run Time : 12.538600\n",
            "7/7 [==============================] - 0s 3ms/step\n"
          ]
        },
        {
          "output_type": "display_data",
          "data": {
            "text/plain": [
              "<Figure size 432x288 with 1 Axes>"
            ],
            "image/png": "[encoded data removed]"
          },
          "metadata": {
            "needs_background": "light"
          }
        },
        {
          "output_type": "stream",
          "name": "stdout",
          "text": [
            "7/7 [==============================] - 0s 3ms/step\n"
          ]
        },
        {
          "output_type": "display_data",
          "data": {
            "text/plain": [
              "<Figure size 432x288 with 1 Axes>"
            ],
            "image/png": "[encoded data removed]"
          },
          "metadata": {
            "needs_background": "light"
          }
        },
        {
          "output_type": "stream",
          "name": "stdout",
          "text": [
            "Run Time : 2.381028\n",
            "7/7 [==============================] - 0s 2ms/step\n"
          ]
        },
        {
          "output_type": "display_data",
          "data": {
            "text/plain": [
              "<Figure size 432x288 with 1 Axes>"
            ],
            "image/png": "[encoded data removed]"
          },
          "metadata": {
            "needs_background": "light"
          }
        },
        {
          "output_type": "stream",
          "name": "stdout",
          "text": [
            "7/7 [==============================] - 0s 2ms/step\n"
          ]
        },
        {
          "output_type": "display_data",
          "data": {
            "text/plain": [
              "<Figure size 432x288 with 1 Axes>"
            ],
            "image/png": "[encoded data removed]"
          },
          "metadata": {
            "needs_background": "light"
          }
        },
        {
          "output_type": "stream",
          "name": "stdout",
          "text": [
            "Run Time : 2.297689\n",
            "7/7 [==============================] - 0s 2ms/step\n"
          ]
        },
        {
          "output_type": "display_data",
          "data": {
            "text/plain": [
              "<Figure size 432x288 with 1 Axes>"
            ],
            "image/png": "[encoded data removed]"
          },
          "metadata": {
            "needs_background": "light"
          }
        },
        {
          "output_type": "stream",
          "name": "stdout",
          "text": [
            "7/7 [==============================] - 0s 2ms/step\n"
          ]
        },
        {
          "output_type": "display_data",
          "data": {
            "text/plain": [
              "<Figure size 432x288 with 1 Axes>"
            ],
            "image/png": "[encoded data removed]"
          },
          "metadata": {
            "needs_background": "light"
          }
        }
      ]
    },
    {
      "cell_type": "code",
      "execution_count": 16,
      "metadata": {
        "id": "cd3vwHs9NQW-"
      },
      "outputs": [],
      "source": [
        "#Second Traditional model for Function 3\n",
        "archicture_1 = Sequential()\n",
        "archicture_1.add(Dense(5, input_dim=input_dim, activation='relu'))\n",
        "archicture_1.add(Dense(10, activation='relu'))\n",
        "archicture_1.add(Dense(50, activation='tanh'))\n",
        "archicture_1.add(Dense(18, activation='relu'))\n",
        "archicture_1.add(Dense(15, activation='tanh'))\n",
        "archicture_1.add(Dense(18, activation='sigmoid'))\n",
        "archicture_1.add(Dropout(0.2))\n",
        "archicture_1.add(Dense(8, activation='relu'))\n",
        "archicture_1.add(Dropout(0.2))\n",
        "archicture_1.add(Dense(output_dim, activation='relu'))\n",
        "#model.summary()\n",
        "archicture_1.compile(loss='mean_squared_error', optimizer='adam')"
      ]
    },
    {
      "cell_type": "code",
      "source": [
        "column = 0\n",
        "X_train, Y_train, X_test, Y_test = data_prep(x_train, x_test, y_train, y_test, column)\n",
        "\n",
        "# Reshape data\n",
        "X_train = X_train.reshape(800, 1)\n",
        "Y_train = Y_train.reshape(800, 1)\n",
        "X_test = X_test.reshape(200, 1)\n",
        "Y_test = Y_test.reshape(200, 1)\n",
        "\n",
        "# # Train model\n",
        "F_1_archicture_1 = train_and_visualize_model(archicture_1,X_train,Y_train,X_test,Y_test,number_epo,10)\n",
        "\n",
        "column = 1\n",
        "X_train, Y_train, X_test, Y_test = data_prep(x_train, x_test, y_train, y_test, column)\n",
        "\n",
        "# Reshape data\n",
        "X_train = X_train.reshape(800, 1)\n",
        "Y_train = Y_train.reshape(800, 1)\n",
        "X_test = X_test.reshape(200, 1)\n",
        "Y_test = Y_test.reshape(200, 1)\n",
        "\n",
        "# # Train model\n",
        "F_2_archicture_1 = train_and_visualize_model(archicture_1,X_train,Y_train,X_test,Y_test,number_epo,10)\n",
        "\n",
        "column = 2\n",
        "X_train, Y_train, X_test, Y_test = data_prep(x_train, x_test, y_train, y_test, column)\n",
        "\n",
        "# Reshape data\n",
        "X_train = X_train.reshape(800, 1)\n",
        "Y_train = Y_train.reshape(800, 1)\n",
        "X_test = X_test.reshape(200, 1)\n",
        "Y_test = Y_test.reshape(200, 1)\n",
        "\n",
        "# # Train model\n",
        "F_3_archicture_1 = train_and_visualize_model(archicture_1,X_train,Y_train,X_test,Y_test,number_epo,10)"
      ],
      "metadata": {
        "colab": {
          "base_uri": "https://localhost:8080/",
          "height": 1000
        },
        "id": "yKzsiUM_YZvC",
        "outputId": "48040174-2f3a-4ab0-d4aa-f195af2fb649"
      },
      "execution_count": 17,
      "outputs": [
        {
          "output_type": "stream",
          "name": "stdout",
          "text": [
            "Run Time : 4.406307\n",
            "7/7 [==============================] - 0s 2ms/step\n"
          ]
        },
        {
          "output_type": "display_data",
          "data": {
            "text/plain": [
              "<Figure size 432x288 with 1 Axes>"
            ],
            "image/png": "[encoded data removed]"
          },
          "metadata": {
            "needs_background": "light"
          }
        },
        {
          "output_type": "stream",
          "name": "stdout",
          "text": [
            "7/7 [==============================] - 0s 2ms/step\n"
          ]
        },
        {
          "output_type": "display_data",
          "data": {
            "text/plain": [
              "<Figure size 432x288 with 1 Axes>"
            ],
            "image/png": "[encoded data removed]"
          },
          "metadata": {
            "needs_background": "light"
          }
        },
        {
          "output_type": "stream",
          "name": "stdout",
          "text": [
            "Run Time : 1.415710\n",
            "7/7 [==============================] - 0s 2ms/step\n"
          ]
        },
        {
          "output_type": "display_data",
          "data": {
            "text/plain": [
              "<Figure size 432x288 with 1 Axes>"
            ],
            "image/png": "[encoded data removed]"
          },
          "metadata": {
            "needs_background": "light"
          }
        },
        {
          "output_type": "stream",
          "name": "stdout",
          "text": [
            "7/7 [==============================] - 0s 2ms/step\n"
          ]
        },
        {
          "output_type": "display_data",
          "data": {
            "text/plain": [
              "<Figure size 432x288 with 1 Axes>"
            ],
            "image/png": "[encoded data removed]"
          },
          "metadata": {
            "needs_background": "light"
          }
        },
        {
          "output_type": "stream",
          "name": "stdout",
          "text": [
            "Run Time : 1.413692\n",
            "7/7 [==============================] - 0s 2ms/step\n"
          ]
        },
        {
          "output_type": "display_data",
          "data": {
            "text/plain": [
              "<Figure size 432x288 with 1 Axes>"
            ],
            "image/png": "[encoded data removed]"
          },
          "metadata": {
            "needs_background": "light"
          }
        },
        {
          "output_type": "stream",
          "name": "stdout",
          "text": [
            "7/7 [==============================] - 0s 2ms/step\n"
          ]
        },
        {
          "output_type": "display_data",
          "data": {
            "text/plain": [
              "<Figure size 432x288 with 1 Axes>"
            ],
            "image/png": "[encoded data removed]"
          },
          "metadata": {
            "needs_background": "light"
          }
        }
      ]
    },
    {
      "cell_type": "code",
      "execution_count": 18,
      "metadata": {
        "id": "lqrXUGhSNQXB"
      },
      "outputs": [],
      "source": [
        "#Fifth Traditional Model\n",
        "archicture_2 = Sequential()\n",
        "archicture_2.add(Dense(5, input_dim=input_dim, activation='softplus'))\n",
        "archicture_2.add(Dense(10, activation='softplus'))\n",
        "archicture_2.add(Dense(20, activation='tanh'))\n",
        "archicture_2.add(Dense(15, activation='relu'))\n",
        "archicture_2.add(Dense(25, activation='tanh'))\n",
        "archicture_2.add(Dense(20, activation='sigmoid'))\n",
        "archicture_2.add(Dense(25, activation='relu'))\n",
        "archicture_2.add(Dense(output_dim, activation='softplus'))\n",
        "archicture_2.add(Dropout(0.2))\n",
        "archicture_2.compile(loss='mean_squared_error', optimizer='adam')"
      ]
    },
    {
      "cell_type": "code",
      "execution_count": 19,
      "metadata": {
        "id": "M83KVi0aNQXC",
        "outputId": "63ac96d3-13ff-4d82-d099-2e7532c498e1",
        "colab": {
          "base_uri": "https://localhost:8080/",
          "height": 1000
        }
      },
      "outputs": [
        {
          "output_type": "stream",
          "name": "stdout",
          "text": [
            "Run Time : 4.022509\n",
            "7/7 [==============================] - 0s 2ms/step\n"
          ]
        },
        {
          "output_type": "display_data",
          "data": {
            "text/plain": [
              "<Figure size 432x288 with 1 Axes>"
            ],
            "image/png": "[encoded data removed]"
          },
          "metadata": {
            "needs_background": "light"
          }
        },
        {
          "output_type": "stream",
          "name": "stdout",
          "text": [
            "7/7 [==============================] - 0s 2ms/step\n"
          ]
        },
        {
          "output_type": "display_data",
          "data": {
            "text/plain": [
              "<Figure size 432x288 with 1 Axes>"
            ],
            "image/png": "[encoded data removed]"
          },
          "metadata": {
            "needs_background": "light"
          }
        },
        {
          "output_type": "stream",
          "name": "stdout",
          "text": [
            "Run Time : 1.379487\n",
            "7/7 [==============================] - 0s 2ms/step\n"
          ]
        },
        {
          "output_type": "display_data",
          "data": {
            "text/plain": [
              "<Figure size 432x288 with 1 Axes>"
            ],
            "image/png": "[encoded data removed]"
          },
          "metadata": {
            "needs_background": "light"
          }
        },
        {
          "output_type": "stream",
          "name": "stdout",
          "text": [
            "7/7 [==============================] - 0s 2ms/step\n"
          ]
        },
        {
          "output_type": "display_data",
          "data": {
            "text/plain": [
              "<Figure size 432x288 with 1 Axes>"
            ],
            "image/png": "[encoded data removed]"
          },
          "metadata": {
            "needs_background": "light"
          }
        },
        {
          "output_type": "stream",
          "name": "stdout",
          "text": [
            "Run Time : 1.390823\n",
            "7/7 [==============================] - 0s 2ms/step\n"
          ]
        },
        {
          "output_type": "display_data",
          "data": {
            "text/plain": [
              "<Figure size 432x288 with 1 Axes>"
            ],
            "image/png": "[encoded data removed]"
          },
          "metadata": {
            "needs_background": "light"
          }
        },
        {
          "output_type": "stream",
          "name": "stdout",
          "text": [
            "7/7 [==============================] - 0s 2ms/step\n"
          ]
        },
        {
          "output_type": "display_data",
          "data": {
            "text/plain": [
              "<Figure size 432x288 with 1 Axes>"
            ],
            "image/png": "[encoded data removed]"
          },
          "metadata": {
            "needs_background": "light"
          }
        }
      ],
      "source": [
        "column = 0\n",
        "X_train, Y_train, X_test, Y_test = data_prep(x_train, x_test, y_train, y_test, column)\n",
        "\n",
        "# Reshape data\n",
        "X_train = X_train.reshape(800, 1)\n",
        "Y_train = Y_train.reshape(800, 1)\n",
        "X_test = X_test.reshape(200, 1)\n",
        "Y_test = Y_test.reshape(200, 1)\n",
        "\n",
        "# # Train model\n",
        "F_1_archicture_2 = train_and_visualize_model(archicture_2,X_train,Y_train,X_test,Y_test,number_epo,10)\n",
        "\n",
        "column = 1\n",
        "X_train, Y_train, X_test, Y_test = data_prep(x_train, x_test, y_train, y_test, column)\n",
        "\n",
        "# Reshape data\n",
        "X_train = X_train.reshape(800, 1)\n",
        "Y_train = Y_train.reshape(800, 1)\n",
        "X_test = X_test.reshape(200, 1)\n",
        "Y_test = Y_test.reshape(200, 1)\n",
        "\n",
        "# # Train model\n",
        "F_2_archicture_2 = train_and_visualize_model(archicture_2,X_train,Y_train,X_test,Y_test,number_epo,10)\n",
        "\n",
        "column = 2\n",
        "X_train, Y_train, X_test, Y_test = data_prep(x_train, x_test, y_train, y_test, column)\n",
        "\n",
        "# Reshape data\n",
        "X_train = X_train.reshape(800, 1)\n",
        "Y_train = Y_train.reshape(800, 1)\n",
        "X_test = X_test.reshape(200, 1)\n",
        "Y_test = Y_test.reshape(200, 1)\n",
        "\n",
        "# # Train model\n",
        "F_3_archicture_2 = train_and_visualize_model(archicture_2,X_train,Y_train,X_test,Y_test,number_epo,10)"
      ]
    },
    {
      "cell_type": "code",
      "source": [
        "column = 1\n",
        "X_train, Y_train, X_test, Y_test = data_prep(x_train, x_test, y_train, y_test, column)\n",
        "\n",
        "# Reshape data\n",
        "X_train = X_train.reshape(800, 1)\n",
        "Y_train = Y_train.reshape(800, 1)\n",
        "X_test = X_test.reshape(200, 1)\n",
        "Y_test = Y_test.reshape(200, 1)\n",
        "\n",
        "train_set = tf.data.Dataset.from_tensor_slices((X_train, Y_train))\n",
        "test_set = tf.data.Dataset.from_tensor_slices(\n",
        "    (X_test, Y_test)\n",
        ")\n",
        "\n",
        "clf = ak.StructuredDataRegressor(\n",
        "    overwrite=True, max_trials=10\n",
        ") \n",
        "# Feed the tensorflow Dataset to the classifier.\n",
        "clf.fit(train_set, epochs=5,verbose=0)\n",
        "autokeras_model=clf.export_model()\n",
        "\n",
        "\n",
        "column = 0\n",
        "X_train, Y_train, X_test, Y_test = data_prep(x_train, x_test, y_train, y_test, column)\n",
        "\n",
        "# Reshape data\n",
        "X_train = X_train.reshape(800, 1)\n",
        "Y_train = Y_train.reshape(800, 1)\n",
        "X_test = X_test.reshape(200, 1)\n",
        "Y_test = Y_test.reshape(200, 1)\n",
        "\n",
        "# # Train model\n",
        "F_1_autokeras = train_and_visualize_model(autokeras_model,X_train,Y_train,X_test,Y_test,number_epo,10)\n",
        "\n",
        "column = 1\n",
        "X_train, Y_train, X_test, Y_test = data_prep(x_train, x_test, y_train, y_test, column)\n",
        "\n",
        "# Reshape data\n",
        "X_train = X_train.reshape(800, 1)\n",
        "Y_train = Y_train.reshape(800, 1)\n",
        "X_test = X_test.reshape(200, 1)\n",
        "Y_test = Y_test.reshape(200, 1)\n",
        "\n",
        "# # Train model\n",
        "F_2_autokeras = train_and_visualize_model(autokeras_model,X_train,Y_train,X_test,Y_test,number_epo,10)\n",
        "\n",
        "column = 2\n",
        "X_train, Y_train, X_test, Y_test = data_prep(x_train, x_test, y_train, y_test, column)\n",
        "\n",
        "# Reshape data\n",
        "X_train = X_train.reshape(800, 1)\n",
        "Y_train = Y_train.reshape(800, 1)\n",
        "X_test = X_test.reshape(200, 1)\n",
        "Y_test = Y_test.reshape(200, 1)\n",
        "\n",
        "# # Train model\n",
        "F_3_autokeras = train_and_visualize_model(autokeras_model,X_train,Y_train,X_test,Y_test,number_epo,10)"
      ],
      "metadata": {
        "colab": {
          "base_uri": "https://localhost:8080/",
          "height": 1000
        },
        "id": "mrpRp_CQd4nP",
        "outputId": "a68e6149-e552-4371-d3d9-f75e054f19fc"
      },
      "execution_count": 20,
      "outputs": [
        {
          "output_type": "stream",
          "name": "stderr",
          "text": [
            "WARNING:tensorflow:From /usr/local/lib/python3.9/dist-packages/tensorflow/python/autograph/pyct/static_analysis/liveness.py:83: Analyzer.lamba_check (from tensorflow.python.autograph.pyct.static_analysis.liveness) is deprecated and will be removed after 2023-09-23.\n",
            "Instructions for updating:\n",
            "Lambda fuctions will be no more assumed to be used in the statement where they are used, or at least in the same block. https://github.com/tensorflow/tensorflow/issues/56089\n"
          ]
        },
        {
          "output_type": "stream",
          "name": "stdout",
          "text": [
            "Run Time : 1.587599\n",
            "7/7 [==============================] - 0s 2ms/step\n"
          ]
        },
        {
          "output_type": "display_data",
          "data": {
            "text/plain": [
              "<Figure size 432x288 with 1 Axes>"
            ],
            "image/png": "[encoded data removed]"
          },
          "metadata": {
            "needs_background": "light"
          }
        },
        {
          "output_type": "stream",
          "name": "stdout",
          "text": [
            "7/7 [==============================] - 0s 2ms/step\n"
          ]
        },
        {
          "output_type": "display_data",
          "data": {
            "text/plain": [
              "<Figure size 432x288 with 1 Axes>"
            ],
            "image/png": "[encoded data removed]"
          },
          "metadata": {
            "needs_background": "light"
          }
        },
        {
          "output_type": "stream",
          "name": "stdout",
          "text": [
            "Run Time : 1.012068\n",
            "7/7 [==============================] - 0s 2ms/step\n"
          ]
        },
        {
          "output_type": "display_data",
          "data": {
            "text/plain": [
              "<Figure size 432x288 with 1 Axes>"
            ],
            "image/png": "[encoded data removed]"
          },
          "metadata": {
            "needs_background": "light"
          }
        },
        {
          "output_type": "stream",
          "name": "stdout",
          "text": [
            "7/7 [==============================] - 0s 2ms/step\n"
          ]
        },
        {
          "output_type": "display_data",
          "data": {
            "text/plain": [
              "<Figure size 432x288 with 1 Axes>"
            ],
            "image/png": "[encoded data removed]"
          },
          "metadata": {
            "needs_background": "light"
          }
        },
        {
          "output_type": "stream",
          "name": "stdout",
          "text": [
            "Run Time : 1.033543\n",
            "7/7 [==============================] - 0s 2ms/step\n"
          ]
        },
        {
          "output_type": "display_data",
          "data": {
            "text/plain": [
              "<Figure size 432x288 with 1 Axes>"
            ],
            "image/png": "[encoded data removed]"
          },
          "metadata": {
            "needs_background": "light"
          }
        },
        {
          "output_type": "stream",
          "name": "stdout",
          "text": [
            "7/7 [==============================] - 0s 2ms/step\n"
          ]
        },
        {
          "output_type": "display_data",
          "data": {
            "text/plain": [
              "<Figure size 432x288 with 1 Axes>"
            ],
            "image/png": "[encoded data removed]"
          },
          "metadata": {
            "needs_background": "light"
          }
        }
      ]
    },
    {
      "cell_type": "code",
      "source": [
        "def create_optimal_model(best_param):\n",
        "    \"\"\"\n",
        "    Create the optimal model using the best parameters obtained from GridSearchCV.\n",
        "\n",
        "    :param best_param: dict, best parameters obtained from GridSearchCV\n",
        "    :return: Keras model\n",
        "    \"\"\"\n",
        "\n",
        "    model = Sequential()\n",
        "    \n",
        "    # Add the first layer with the best parameters\n",
        "    model.add(Dense(best_param['neuron1'], input_dim=1, kernel_initializer=best_param['init'], activation=best_param['activation_function']))\n",
        "    \n",
        "    # Add the first dropout layer with the best dropout rate\n",
        "    model.add(Dropout(best_param['dropout_rate']))\n",
        "    \n",
        "    # Add the second layer with the best parameters\n",
        "    model.add(Dense(best_param['neuron2'], input_dim=best_param['neuron1'], kernel_initializer=best_param['init'], activation=best_param['activation_function_1']))\n",
        "    \n",
        "    # Add the second dropout layer with the best dropout rate\n",
        "    model.add(Dropout(best_param['dropout_rate']))\n",
        "    \n",
        "    # Add the output layer with the best activation function\n",
        "    model.add(Dense(1, activation=best_param['activation_function_2']))\n",
        "\n",
        "    # Compile the model using Adam optimizer with the best learning rate\n",
        "    optimizer = tf.keras.optimizers.Adam(learning_rate=best_param['learning_rate'])\n",
        "    model.compile(loss=\"mean_squared_error\", optimizer=optimizer, metrics=['mse'])\n",
        "    \n",
        "    return model\n"
      ],
      "metadata": {
        "id": "n8Fw9MDvT7jH"
      },
      "execution_count": 21,
      "outputs": []
    },
    {
      "cell_type": "code",
      "source": [
        "def create_custom_model(learning_rate, dropout_rate, activation_function, activation_function_1, activation_function_2, init, neuron1, neuron2):\n",
        "    \"\"\"\n",
        "    Create a Keras model with custom hyperparameters.\n",
        "\n",
        "    :param learning_rate: float, learning rate for the optimizer\n",
        "    :param dropout_rate: float, dropout rate for the Dropout layers\n",
        "    :param activation_function: str, activation function for the first layer\n",
        "    :param activation_function_1: str, activation function for the second layer\n",
        "    :param activation_function_2: str, activation function for the output layer\n",
        "    :param init: str, kernel initializer\n",
        "    :param neuron1: int, number of neurons in the first layer\n",
        "    :param neuron2: int, number of neurons in the second layer\n",
        "    :return: Keras model\n",
        "    \"\"\"\n",
        "\n",
        "    model = Sequential()\n",
        "    model.add(Dense(neuron1, input_dim=1, kernel_initializer=init, activation=activation_function))\n",
        "    model.add(Dropout(dropout_rate))\n",
        "    model.add(Dense(neuron2, input_dim=neuron1, kernel_initializer=init, activation=activation_function_1))\n",
        "    model.add(Dropout(dropout_rate))\n",
        "    model.add(Dense(1, activation=activation_function_2))\n",
        "\n",
        "    optimizer = tf.keras.optimizers.Adam(learning_rate=learning_rate)\n",
        "    model.compile(loss=\"mean_squared_error\", optimizer=optimizer, metrics=['mse'])\n",
        "    return model\n",
        "\n",
        "# Create the model\n",
        "model = KerasRegressor(build_fn=create_custom_model, verbose=0)\n",
        "\n",
        "# Define the grid search parameters\n",
        "param_grids = {\n",
        "    'batch_size': [10],\n",
        "    'epochs': [number_epo],\n",
        "    'learning_rate': [0.01],\n",
        "    'dropout_rate': [0.1],\n",
        "    'activation_function': ['softmax', 'relu', 'tanh', 'linear'],\n",
        "    'activation_function_1': ['softmax', 'relu', 'tanh', 'linear'],\n",
        "    'activation_function_2': ['softmax', 'relu', 'tanh', 'linear'],\n",
        "    'init': ['uniform'],\n",
        "    'neuron1': [50, 100, 150],\n",
        "    'neuron2': [20, 40, 80],\n",
        "}\n",
        "\n",
        "start = timeit.default_timer()\n",
        "\n",
        "# Build and fit the GridSearchCV\n",
        "kfold = KFold(n_splits=2)\n",
        "grid = GridSearchCV(estimator=model, param_grid=param_grids, cv=kfold, verbose=0)\n",
        "grid_result = grid.fit(X_train, Y_train)\n",
        "\n",
        "# Summarize the results\n",
        "print(f\"Best score: {grid_result.best_score_}, using {grid_result.best_params_}\")\n",
        "means = grid_result.cv_results_[\"mean_test_score\"]\n",
        "stds = grid_result.cv_results_[\"std_test_score\"]\n",
        "params = grid_result.cv_results_[\"params\"]\n",
        "for mean, stdev, param in zip(means, stds, params):\n",
        "    print(f\"{mean}, {stdev} with: {param}\")\n",
        "\n",
        "# Print runtime\n",
        "end = timeit.default_timer()\n",
        "print(\"Run Time : %f\" % (end-start))\n"
      ],
      "metadata": {
        "id": "s-IrFdZTmaUr",
        "colab": {
          "base_uri": "https://localhost:8080/"
        },
        "outputId": "38504f26-e81a-41c4-c863-9448c5a8909d"
      },
      "execution_count": null,
      "outputs": [
        {
          "output_type": "stream",
          "name": "stderr",
          "text": [
            "<ipython-input-22-5c3ae7af6c2a>:28: DeprecationWarning: KerasRegressor is deprecated, use Sci-Keras (https://github.com/adriangb/scikeras) instead. See https://www.adriangb.com/scikeras/stable/migration.html for help migrating.\n",
            "  model = KerasRegressor(build_fn=create_custom_model, verbose=0)\n"
          ]
        }
      ]
    },
    {
      "cell_type": "code",
      "source": [
        "search_model=create_optimal_model(grid_result.best_params_) "
      ],
      "metadata": {
        "id": "U4gWLKn3QzVW"
      },
      "execution_count": null,
      "outputs": []
    },
    {
      "cell_type": "code",
      "source": [
        "\n",
        "\n",
        "\n",
        "column = 0\n",
        "X_train, Y_train, X_test, Y_test = data_prep(x_train, x_test, y_train, y_test, column)\n",
        "\n",
        "# Reshape data\n",
        "X_train = X_train.reshape(800, 1)\n",
        "Y_train = Y_train.reshape(800, 1)\n",
        "X_test = X_test.reshape(200, 1)\n",
        "Y_test = Y_test.reshape(200, 1)\n",
        "\n",
        "# # Train model\n",
        "F_1_Search = train_and_visualize_model(search_model,X_train,Y_train,X_test,Y_test,number_epo,10)\n",
        "\n",
        "column = 1\n",
        "X_train, Y_train, X_test, Y_test = data_prep(x_train, x_test, y_train, y_test, column)\n",
        "\n",
        "# Reshape data\n",
        "X_train = X_train.reshape(800, 1)\n",
        "Y_train = Y_train.reshape(800, 1)\n",
        "X_test = X_test.reshape(200, 1)\n",
        "Y_test = Y_test.reshape(200, 1)\n",
        "\n",
        "# # Train model\n",
        "F_2_Search = train_and_visualize_model(search_model,X_train,Y_train,X_test,Y_test,number_epo,10)\n",
        "\n",
        "column = 2\n",
        "X_train, Y_train, X_test, Y_test = data_prep(x_train, x_test, y_train, y_test, column)\n",
        "\n",
        "# Reshape data\n",
        "X_train = X_train.reshape(800, 1)\n",
        "Y_train = Y_train.reshape(800, 1)\n",
        "X_test = X_test.reshape(200, 1)\n",
        "Y_test = Y_test.reshape(200, 1)\n",
        "\n",
        "# # Train model\n",
        "F_3_Search = train_and_visualize_model(search_model,X_train,Y_train,X_test,Y_test,number_epo,10)"
      ],
      "metadata": {
        "id": "Pt_0EzjMRV0c"
      },
      "execution_count": null,
      "outputs": []
    },
    {
      "cell_type": "code",
      "source": [
        "\n",
        "# Example usage\n",
        "visualize_loss(10, [F_1_archicture_1[3], F_1_archicture_2[3], F_1_autokeras[3], F_1_Search[3], F_1_our_model[3]],\n",
        "               ['Architecture 1', 'Architecture 2', 'Auto Keras', 'Random Search', 'SWAG'])\n",
        "\n",
        "visualize_loss(10, [F_2_archicture_1[3], F_2_archicture_2[3], F_2_autokeras[3], F_2_Search[3], F_2_our_model[3]],\n",
        "               ['Architecture 1', 'Architecture 2', 'Auto Keras', 'Random Search', 'SWAG'])\n",
        "\n",
        "visualize_loss(20, [F_3_archicture_1[3], F_3_archicture_2[3], F_3_autokeras[3], F_3_Search[3], F_3_our_model[3]],\n",
        "               ['Architecture 1', 'Architecture 2', 'Auto Keras', 'Random Search', 'SWAG'])\n"
      ],
      "metadata": {
        "id": "wy9PQ2YAfOA8"
      },
      "execution_count": null,
      "outputs": []
    },
    {
      "cell_type": "code",
      "source": [
        "def print_loss_values(fold_name, model_list):\n",
        "    print(f'@@@@@@@@@@@@@@@@@@@@@@@@@@@@@@@@@@@@@@@@@@@@@@@@@')\n",
        "    print(f'Loss Value of {fold_name}')\n",
        "    for model in model_list:\n",
        "        loss_history = model.history['loss']\n",
        "        rounded__ = [round(num, 7) for num in loss_history]\n",
        "        print(rounded__)\n",
        "\n",
        "models_F1 = [\n",
        "    F_1_archicture_1[3], F_1_archicture_2[3], F_1_autokeras[3], F_1_Search[3], F_1_our_model[3]\n",
        "]\n",
        "models_F2 = [\n",
        "    F_2_archicture_1[3], F_2_archicture_2[3], F_2_autokeras[3], F_2_Search[3], F_2_our_model[3]\n",
        "]\n",
        "models_F3 = [\n",
        "    F_3_archicture_1[3], F_3_archicture_2[3], F_3_autokeras[3], F_3_Search[3], F_3_our_model[3]\n",
        "]\n",
        "\n",
        "print_loss_values('F1', models_F1)\n",
        "print_loss_values('F2', models_F2)\n",
        "print_loss_values('F3', models_F3)\n"
      ],
      "metadata": {
        "id": "xG476GEy8UoE"
      },
      "execution_count": null,
      "outputs": []
    },
    {
      "cell_type": "code",
      "source": [
        "visualize_predictions([F_1_archicture_1, F_1_archicture_2, F_1_autokeras, F_1_Search, F_1_our_model],\n",
        "                      ['Architecture 1', 'Architecture 2', 'Auto Keras', 'Random Search', 'SWAG'])\n",
        "\n",
        "visualize_predictions([F_2_archicture_1, F_2_archicture_2, F_2_autokeras, F_2_Search, F_2_our_model],\n",
        "                      ['Architecture 1', 'Architecture 2', 'Auto Keras', 'Random Search', 'SWAG'])\n",
        "\n",
        "visualize_predictions([F_3_archicture_1, F_3_archicture_2, F_3_autokeras, F_3_Search, F_3_our_model],\n",
        "                      ['Architecture 1', 'Architecture 2', 'Auto Keras', 'Random Search', 'SWAG'])\n",
        "\n"
      ],
      "metadata": {
        "id": "72f12EMZmMLA"
      },
      "execution_count": null,
      "outputs": []
    },
    {
      "cell_type": "code",
      "source": [
        "import random\n",
        "\n",
        "def generate_random_coefficients():\n",
        "    \"\"\"\n",
        "    Generate a list of random coefficients for the function generator.\n",
        "    \"\"\"\n",
        "    coefficients = [None for _ in range(8)]\n",
        "    coefficients[0] = random.randint(-10, 10)\n",
        "    coefficients[2] = random.randint(-10, 10)\n",
        "    coefficients[4] = random.randint(-10, 10)\n",
        "    coefficients[6] = random.randint(-10, 10)\n",
        "    coefficients[1] = random.randint(1, 10)\n",
        "    coefficients[3] = random.randint(1, 10)\n",
        "    coefficients[5] = random.randint(1, 10)\n",
        "    coefficients[7] = random.randint(1, 10)\n",
        "    \n",
        "    return coefficients\n",
        "\n",
        "\n",
        "def function_generator(coefficients, x):\n",
        "    \"\"\"\n",
        "    Generate the output of a function with the given coefficients and input value x.\n",
        "    \n",
        "    :param coefficients: list, coefficients for the function\n",
        "    :param x: float, input value for the function\n",
        "    :return: float, output value of the function\n",
        "    \"\"\"\n",
        "    return (coefficients[0] * power(x, coefficients[1]) +\n",
        "            coefficients[2] * sigmoid_array(coefficients[3] * x) +\n",
        "            coefficients[4] * exp(coefficients[5] * x * 0.01) +\n",
        "            coefficients[6] * log(coefficients[7] * x))\n",
        "\n",
        "\n",
        "# Loop 10 times to generate Y1 values for different coefficient sets\n"
      ],
      "metadata": {
        "id": "zCP8Kp6w_3aK"
      },
      "execution_count": null,
      "outputs": []
    },
    {
      "cell_type": "code",
      "source": [
        "activations = ['X_1', 'X_2', 'X_3', 'X_4', 'X_5', 'X_6', 'X_7', 'X_8']\n",
        "\n",
        "# Create the SWAG model\n",
        "model = create_swag_model(input_dim, hidden_dim , output_dim, activations)\n",
        "hidden_dimention = 50\n",
        "number_epo=10\n",
        "# Our_model=create_optimized_model(input_dim,hidden_dim ,output_dim)\n",
        "Our_model = create_swag_model(input_dim, hidden_dim , output_dim, activations)\n",
        "\n",
        "list_history=[]\n",
        "for kk in range(10):  \n",
        "  coefficients = generate_random_coefficients()\n",
        "  X1 = X[:, 0]\n",
        "  Y1 = function_generator(coefficients, X1)\n",
        "\n",
        "  X_train,X_test,Y_train,Y_test=train_test_split(X1,Y1,test_size=0.2,random_state=1234)\n",
        "  # coefficient=generate_random_coefficients()\n",
        "  start = timeit.default_timer()\n",
        "  print(\"*******************************************************************************************\")\n",
        "  print(\"*******************************************************************************************\")\n",
        "  print(\"*******************************************************************************************\")\n",
        "\n",
        "  print(\"SWAG for random Function \",kk)\n",
        "  print(\"coefficients are\",coefficients )\n",
        "  SWAG_history = train_and_visualize_model(Our_model,X_train,Y_train,X_test,Y_test,number_epo,10)\n",
        "  list_history.append(SWAG_history)\n",
        "  end = timeit.default_timer()\n",
        "  print(\"Run Time : %f\" % (end-start))\n",
        "  print(\"%%%%%%%%%%%%%%%%%%%%%%%%%%%%%%%%\")\n",
        "\n",
        "  # Reshape data\n",
        "  X_train = X_train.reshape(800, 1)\n",
        "  Y_train = Y_train.reshape(800, 1)\n",
        "  X_test = X_test.reshape(200, 1)\n",
        "  Y_test = Y_test.reshape(200, 1)\n",
        "\n",
        "  train_set = tf.data.Dataset.from_tensor_slices((X_train, Y_train))\n",
        "  test_set = tf.data.Dataset.from_tensor_slices(\n",
        "      (X_test, Y_test)\n",
        "  )\n",
        "\n",
        "  start = timeit.default_timer()\n",
        "\n",
        "  print(\"*******************************************************************************************\")\n",
        "\n",
        "  print(\"AutoKeras for random Function \",kk)\n",
        "  clf = ak.StructuredDataRegressor(\n",
        "      overwrite=True, max_trials=10\n",
        "  ) \n",
        "  # Feed the tensorflow Dataset to the classifier.\n",
        "  clf.fit(train_set, epochs=number_epo,verbose=0)\n",
        "  autokeras_model=clf.export_model()\n",
        "\n",
        "  auto_history = train_and_visualize_model(autokeras_model,X_train,Y_train,X_test,Y_test,number_epo,10)\n",
        "  list_history.append(auto_history)\n",
        "  end = timeit.default_timer()\n",
        "  print(\"Run Time : %f\" % (end-start))\n"
      ],
      "metadata": {
        "id": "BWVbUAaSB39S"
      },
      "execution_count": null,
      "outputs": []
    },
    {
      "cell_type": "code",
      "source": [
        "def round_loss_values(loss_history, num_digits=3):\n",
        "    return [round(value, num_digits) for value in loss_history]\n",
        "\n",
        "rounded_losses = []\n",
        "for i in range(len(list_history)):\n",
        "    current_history = list_history[i][3]\n",
        "    loss_values = current_history.history['loss']\n",
        "    rounded_values = round_loss_values(loss_values)\n",
        "    rounded_losses.append(rounded_values)\n",
        "    # loss_values = current_history.history['val_loss']\n",
        "    # rounded_values = round_loss_values(loss_values)\n",
        "    # rounded_losses.append(rounded_values)\n",
        "\n",
        "for i in range(len(rounded_losses)):\n",
        "    print(rounded_losses[i])"
      ],
      "metadata": {
        "id": "Xf-hH1au7As9"
      },
      "execution_count": null,
      "outputs": []
    },
    {
      "cell_type": "code",
      "source": [
        "batch_size = 128\n",
        "num_classes = 10\n",
        "epochs = 4\n",
        "\n",
        "# Load the MNIST data, split between train and test sets\n",
        "(x_train, y_train), (x_test, y_test) = mnist.load_data()\n",
        "\n",
        "# Reshape the input data\n",
        "x_train = x_train.reshape(60000, 784)\n",
        "x_test = x_test.reshape(10000, 784)\n",
        "\n",
        "# Convert input data to float32\n",
        "x_train = x_train.astype('float32')\n",
        "x_test = x_test.astype('float32')\n",
        "\n",
        "# Add 10 to input data\n",
        "x_train += 10\n",
        "x_test += 10\n",
        "\n",
        "# Normalize input data\n",
        "x_train /= 300\n",
        "x_test /= 300\n",
        "\n",
        "# Print the number of train and test samples\n",
        "print(f'{x_train.shape[0]} train samples')\n",
        "print(f'{x_test.shape[0]} test samples')\n",
        "\n",
        "# Convert class vectors to binary class matrices\n",
        "y_train = to_categorical(y_train, num_classes)\n",
        "y_test = to_categorical(y_test, num_classes)\n",
        "\n",
        "# Set the number of train and test samples\n",
        "num_train_samples = 60000\n",
        "num_test_samples = 10000\n",
        "\n",
        "# Select the required number of train and test samples\n",
        "x_train = x_train[:num_train_samples, :]\n",
        "x_test = x_test[:num_test_samples, :]\n",
        "\n",
        "y_train = y_train[:num_train_samples]\n",
        "y_test = y_test[:num_test_samples]\n"
      ],
      "metadata": {
        "id": "s8iXkSnitO8c"
      },
      "execution_count": null,
      "outputs": []
    },
    {
      "cell_type": "code",
      "source": [
        "import keras\n",
        "# Our optimized model\n",
        "hidden_dim = 500\n",
        "model = Sequential()\n",
        "\n",
        "# Define input layer\n",
        "input_layer = Input(shape=(784,))\n",
        "\n",
        "# Define first hidden layer\n",
        "layer_1_x1 = Dense(hidden_dim, activation='X_1')(input_layer)\n",
        "layer_1_x2 = Dense(hidden_dim, activation='X_2')(input_layer)\n",
        "\n",
        "# Concatenate first layer\n",
        "concat_first_layer = concatenate([layer_1_x1, layer_1_x2])\n",
        "\n",
        "# Define second hidden layer\n",
        "layer_x3_x4 = Dense(hidden_dim, activation='X_2_')(concat_first_layer)\n",
        "\n",
        "# Concatenate second layer\n",
        "concat_second_layer = concatenate([layer_1_x1, layer_1_x2, concat_first_layer, layer_x3_x4])\n",
        "\n",
        "# Define output layers\n",
        "output_first_layer = Dense(hidden_dim, activation='linear')(concat_second_layer)\n",
        "output_layer = Dense(10, activation='linear')(output_first_layer)\n",
        "\n",
        "# Create and compile the model\n",
        "model = Model(input_layer, output_layer)\n",
        "# model.summary()\n",
        "\n",
        "# Define the optimizer\n",
        "opt = keras.optimizers.Adam(learning_rate=0.001)\n",
        "# Compile the model\n",
        "model.compile(loss='mean_squared_error', optimizer=opt, metrics=['accuracy'])\n",
        "\n",
        "# Measure training time\n",
        "start = timeit.default_timer()\n",
        "history = model.fit(x_train, y_train, batch_size=batch_size, epochs=epochs, verbose=1, validation_data=(x_test, y_test))\n",
        "end = timeit.default_timer()\n",
        "\n",
        "print(f'Training time: {end - start}')\n",
        "\n",
        "# Evaluate the model\n",
        "score = model.evaluate(x_test, y_test, verbose=0)\n",
        "print(f'Test loss: {score[0]}')\n",
        "print(f'Test accuracy: {score[1]}')\n",
        "\n",
        "# Plot the training history\n",
        "plot__(history)\n",
        "print(history.history['loss'])\n",
        "print(history.history['val_loss'])"
      ],
      "metadata": {
        "id": "B_F1x9x1p7vU"
      },
      "execution_count": null,
      "outputs": []
    },
    {
      "cell_type": "code",
      "source": [
        "\"\"\"\n",
        "Trains an AutoKeras StructuredDataClassifier and evaluates its performance.\n",
        "\n",
        ":param x_train: array-like, training input data\n",
        ":param y_train: array-like, training output data (labels)\n",
        ":param x_test: array-like, test input data\n",
        ":param y_test: array-like, test output data (labels)\n",
        "\"\"\"\n",
        "# Record the start time\n",
        "train_set = tf.data.Dataset.from_tensor_slices((x_train, y_train))\n",
        "test_set = tf.data.Dataset.from_tensor_slices(\n",
        "    (x_test, y_test)\n",
        "  )\n",
        "start_time = timeit.default_timer()\n",
        "\n",
        "# Create an AutoKeras StructuredDataClassifier with specified parameters\n",
        "clf = ak.StructuredDataClassifier(overwrite=True, max_trials=1)\n",
        "\n",
        "# Train the classifier on the input data\n",
        "clf.fit(train_set, epochs=epochs , verbose=1, batch_size=batch_size)\n",
        "\n",
        "# Evaluate the classifier's performance\n",
        "scores = clf.evaluate(x_test, y_test, verbose=0)\n",
        "print(\"Start..\")\n",
        "# Record the end time\n",
        "end_time = timeit.default_timer()\n",
        "\n",
        "# Calculate and print the run time\n",
        "print(\"Run Time: %f\" % (end_time - start_time))\n",
        "print('Test loss:', scores[0])\n",
        "print('Test accuracy:', scores[1])\n",
        "autokeras_model = clf.export_model()\n",
        "auto_history = autokeras_model.fit(x_train, y_train, epochs=epochs, verbose=1, batch_size=10, validation_data=(x_test, y_test))\n",
        "\n",
        "print(auto_history.history['loss'])\n",
        "print(auto_history.history['val_loss'])\n",
        "plot__(auto_history)\n",
        "\n"
      ],
      "metadata": {
        "id": "NatEzCYMthOQ"
      },
      "execution_count": null,
      "outputs": []
    },
    {
      "cell_type": "code",
      "source": [
        "print(scores)"
      ],
      "metadata": {
        "id": "mDDHJK09pl5z"
      },
      "execution_count": null,
      "outputs": []
    },
    {
      "cell_type": "code",
      "source": [
        "# from google.colab import drive\n",
        "# drive.mount('/content/drive')\n",
        "\n",
        "# %%shell\n",
        "# jupyter nbconvert --to html \"/content/drive/MyDrive/Colab Notebooks/Chapter_2.ipynb\"\n",
        "\n",
        "# path = '/content/drive/MyDrive/Colab Notebooks/Chapter_2.html'\n",
        "\n",
        "# from google.colab import files\n",
        "# files.download(path)"
      ],
      "metadata": {
        "id": "t7IbTRvtEL9P"
      },
      "execution_count": null,
      "outputs": []
    }
  ],
  "metadata": {
    "kernelspec": {
      "display_name": "Python 3",
      "language": "python",
      "name": "python3"
    },
    "language_info": {
      "codemirror_mode": {
        "name": "ipython",
        "version": 3
      },
      "file_extension": ".py",
      "mimetype": "text/x-python",
      "name": "python",
      "nbconvert_exporter": "python",
      "pygments_lexer": "ipython3",
      "version": "3.6.5"
    },
    "colab": {
      "provenance": [],
      "machine_shape": "hm",
      "include_colab_link": true
    },
    "accelerator": "GPU",
    "gpuClass": "premium"
  },
  "nbformat": 4,
  "nbformat_minor": 0
}