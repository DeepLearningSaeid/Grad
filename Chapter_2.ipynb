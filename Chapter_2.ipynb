{
  "cells": [
    {
      "cell_type": "markdown",
      "metadata": {
        "id": "view-in-github",
        "colab_type": "text"
      },
      "source": [
        "<a href=\"https://colab.research.google.com/github/DeepLearningSaeid/Grad/blob/main/Chapter_2.ipynb\" target=\"_parent\"><img src=\"https://colab.research.google.com/assets/colab-badge.svg\" alt=\"Open In Colab\"/></a>"
      ]
    },
    {
      "cell_type": "code",
      "execution_count": 1,
      "metadata": {
        "id": "pqIUt2CRNQWz"
      },
      "outputs": [],
      "source": [
        "\n",
        "%%capture\n",
        "# Install Autokeras library\n",
        "!pip install autokeras\n",
        "\n",
        "# Import required libraries\n",
        "import autokeras as ak\n",
        "import timeit\n",
        "import numpy as np\n",
        "import tensorflow as tf\n",
        "from keras.wrappers.scikit_learn import KerasRegressor\n",
        "from sklearn.model_selection import GridSearchCV, KFold\n",
        "from sklearn.model_selection import train_test_split\n",
        "import matplotlib.pyplot as plt\n",
        "from keras.models import Model, Sequential\n",
        "from keras.layers import Input, Embedding, Dense, concatenate, Dropout, Flatten, Activation\n",
        "from keras import backend as K\n",
        "from keras.utils import get_custom_objects\n",
        "from keras.utils import np_utils, to_categorical, plot_model\n",
        "from tensorflow.keras.optimizers import Adam\n",
        "from keras.datasets import mnist\n",
        "\n",
        "\n",
        "# Set random seed\n",
        "np.random.seed(110)\n"
      ]
    },
    {
      "cell_type": "code",
      "source": [
        "# Defining new activation functions\n",
        "def define_activation_functions():\n",
        "    \"\"\"\n",
        "    Define custom activation functions and update the custom objects dictionary.\n",
        "    \"\"\"\n",
        "    # Define activation functions and their respective names\n",
        "    activation_functions = [\n",
        "        ('X_1', lambda x: K.pow(x, 1)),\n",
        "        ('X_2', lambda x: K.pow(x, 2) / 2),\n",
        "        ('X_2_', lambda x: K.pow(x, 2) / 24),\n",
        "        ('X_2__', lambda x: K.pow(x, 2) / 720),\n",
        "        ('X_2___', lambda x: K.pow(x, 2) / 40320),\n",
        "        ('X_3', lambda x: K.pow(x, 3) / 6),\n",
        "        ('X_4', lambda x: K.pow(x, 4) / 24),\n",
        "        ('X_5', lambda x: K.pow(x, 5) / 120),\n",
        "        ('X_6', lambda x: K.pow(x, 6) / 720),\n",
        "        ('X_7', lambda x: K.pow(x, 7) / 5040),\n",
        "        ('X_8', lambda x: K.pow(x, 8) / 40320),\n",
        "        ('X_9', lambda x: K.pow(x, 8) / 362880),\n",
        "    ]\n",
        "\n",
        "    # Update the custom objects dictionary with the defined activation functions\n",
        "    for name, function in activation_functions:\n",
        "        get_custom_objects().update({name: Activation(function)})\n",
        "\n",
        "# Define and register the custom activation functions\n",
        "define_activation_functions()\n"
      ],
      "metadata": {
        "id": "sJQmQ0P1OpVk"
      },
      "execution_count": 2,
      "outputs": []
    },
    {
      "cell_type": "code",
      "source": [
        "# Create SWAG Model with 4 Layers\n",
        "def create_swag_model(input_dim, hidden_dim, output_dim, activations):\n",
        "    \"\"\"\n",
        "    Create a SWAG model with two layers of concatenated sub-layers.\n",
        "    \n",
        "    Args:\n",
        "        input_dim (int): The input dimension.\n",
        "        hidden_dim (int): The hidden dimension.\n",
        "        output_dim (int): The output dimension.\n",
        "        activations (list): A list of activation functions for each sub-layer.\n",
        "        \n",
        "    Returns:\n",
        "        model (Model): A Keras model.\n",
        "    \"\"\"\n",
        "    # Define the input layer\n",
        "    input_layer = Input(shape=(input_dim,))\n",
        "    \n",
        "    # Create the first layer with sub-layers using different activation functions\n",
        "    layer1_sublayers = [Dense(hidden_dim, activation=act)(input_layer) for act in activations]\n",
        "    \n",
        "    # Concatenate the first layer's sub-layers\n",
        "    layer1_concat = concatenate(layer1_sublayers)\n",
        "    \n",
        "    # Create a dense layer after concatenation\n",
        "    layer1_output = Dense(hidden_dim, activation='linear')(layer1_concat)\n",
        "    \n",
        "    # Create the second layer with sub-layers using different activation functions\n",
        "    layer2_sublayers = [Dense(hidden_dim, activation=act)(layer1_output) for act in activations]\n",
        "    \n",
        "    # Concatenate the second layer's sub-layers\n",
        "    layer2_concat = concatenate(layer2_sublayers)\n",
        "    \n",
        "    # Create the output layer\n",
        "    output_layer = Dense(output_dim, activation='linear')(layer2_concat)\n",
        "    \n",
        "    # Define the model\n",
        "    model = Model(input_layer, output_layer)\n",
        "    \n",
        "    # Print model summary\n",
        "    \n",
        "    # Compile the model\n",
        "    model.compile(loss='mean_squared_error', optimizer='adam')\n",
        "    \n",
        "    return model\n",
        "\n",
        "# Define input and hidden dimensions, output dimensions, and activation functions\n",
        "input_dim = 1\n",
        "hidden_dim = 50\n",
        "output_dim = 1\n",
        "activations = ['X_1', 'X_2', 'X_3', 'X_4', 'X_5', 'X_6', 'X_7', 'X_8']\n",
        "\n",
        "# Create the SWAG model\n",
        "model = create_swag_model(input_dim, hidden_dim , output_dim, activations)\n"
      ],
      "metadata": {
        "id": "cwY88n7-O7kg"
      },
      "execution_count": 3,
      "outputs": []
    },
    {
      "cell_type": "code",
      "source": [
        "def create_optimized_model(input_dim,  hidden_dim , output_dim ):\n",
        "    \"\"\"\n",
        "    Create an optimized SWAG model with a custom architecture.\n",
        "\n",
        "    :param input_dim: int, dimension of the input data\n",
        "    :param output_dim: int, dimension of the output data\n",
        "    :param hidden_dim: int, hidden layer dimension, default is 50\n",
        "    :return: Model, a compiled Keras model\n",
        "    \"\"\"\n",
        "\n",
        "    # Define input layer\n",
        "    input_layer = Input(shape=(input_dim,))\n",
        "\n",
        "    # First layer with custom activations\n",
        "    layer_1_x1 = Dense(hidden_dim, activation='X_1')(input_layer)\n",
        "    layer_1_x2 = Dense(hidden_dim, activation='X_2')(input_layer)\n",
        "    concat_first_layer = concatenate([layer_1_x1, layer_1_x2])\n",
        "\n",
        "    # Second layer with custom activations\n",
        "    layer_x3_x4 = Dense(hidden_dim, activation='X_2_')(concat_first_layer)\n",
        "\n",
        "    # Third layer with custom activations\n",
        "    layer_x5_x6 = Dense(hidden_dim, activation='X_2__')(layer_x3_x4)\n",
        "\n",
        "    # Fourth layer with custom activations\n",
        "    layer_x7_x8 = Dense(hidden_dim, activation='X_2___')(layer_x5_x6)\n",
        "\n",
        "    # Concatenate all layers\n",
        "    concat_second_layer = concatenate([layer_1_x1, layer_1_x2, concat_first_layer,\n",
        "                                       layer_x3_x4, layer_x5_x6, layer_x7_x8])\n",
        "\n",
        "    # Output layer for the concatenated layers\n",
        "    output_first_layer = Dense(hidden_dim, activation='linear')(concat_second_layer)\n",
        "\n",
        "    # Final output layer\n",
        "    output_layer = Dense(output_dim, activation='linear')(output_first_layer)\n",
        "\n",
        "    # Create and compile the model\n",
        "    model = Model(input_layer, output_layer)\n",
        "    model.compile(loss='mean_squared_error', optimizer='adam')\n",
        "\n",
        "    return model\n",
        "\n",
        "# Set input and output dimensions\n",
        "input_dim = 1\n",
        "output_dim = 1\n",
        "\n",
        "# Create and compile the optimized model\n",
        "optimized_model = create_optimized_model(input_dim,hidden_dim, output_dim)\n",
        "optimized_model = create_swag_model(input_dim, hidden_dim , output_dim, activations)\n"
      ],
      "metadata": {
        "id": "wzehVN0lPEpD"
      },
      "execution_count": 4,
      "outputs": []
    },
    {
      "cell_type": "code",
      "execution_count": 5,
      "metadata": {
        "id": "l4XU83cxNQW4"
      },
      "outputs": [],
      "source": [
        "def power(x, n):\n",
        "    \"\"\"\n",
        "    Raise x to the power of n.\n",
        "\n",
        "    :param x: float, base number\n",
        "    :param n: int, exponent\n",
        "    :return: float, x raised to the power of n\n",
        "    \"\"\"\n",
        "    return np.power(x, n)\n",
        "\n",
        "def sigmoid_array(x):\n",
        "    \"\"\"\n",
        "    Apply the sigmoid function to the given input.\n",
        "\n",
        "    :param x: float or array-like, input value(s)\n",
        "    :return: float or array-like, sigmoid of input value(s)\n",
        "    \"\"\"\n",
        "    return 1 / (1 + np.exp(-x))\n",
        "\n",
        "def exp(x):\n",
        "    \"\"\"\n",
        "    Calculate the exponential of the given input.\n",
        "\n",
        "    :param x: float or array-like, input value(s)\n",
        "    :return: float or array-like, exponential of input value(s)\n",
        "    \"\"\"\n",
        "    return np.exp(x)\n",
        "\n",
        "def log(x):\n",
        "    \"\"\"\n",
        "    Calculate the natural logarithm of the given input.\n",
        "\n",
        "    :param x: float or array-like, input value(s)\n",
        "    :return: float or array-like, natural logarithm of input value(s)\n",
        "    \"\"\"\n",
        "    return np.log(x)\n",
        "\n",
        "def generate_random(shape_1, shape_2):\n",
        "    \"\"\"\n",
        "    Generate a random matrix with uniform distribution.\n",
        "\n",
        "    :param shape_1: int, number of rows\n",
        "    :param shape_2: int, number of columns\n",
        "    :return: array-like, random matrix of shape (shape_1, shape_2)\n",
        "    \"\"\"\n",
        "    temp = np.random.uniform(low=0.01, high=0.99, size=(shape_1 * shape_2))\n",
        "    temp1 = temp.reshape(shape_1, shape_2)\n",
        "    return temp1\n",
        "\n",
        "def fun_1(x):\n",
        "    \"\"\"\n",
        "    Compute the value of the custom function 1.\n",
        "\n",
        "    :param x: float or array-like, input value(s)\n",
        "    :return: float or array-like, result of the custom function 1\n",
        "    \"\"\"\n",
        "    return 1 / 2 * power(x, 2) - 5 * sigmoid_array(x)\n",
        "\n",
        "def fun_2(x):\n",
        "    \"\"\"\n",
        "    Compute the value of the custom function 2.\n",
        "\n",
        "    :param x: float or array-like, input value(s)\n",
        "    :return: float or array-like, result of the custom function 2\n",
        "    \"\"\"\n",
        "    return 6 * power(x, 5) - 3 * sigmoid_array(x) + exp(x) - 9 * log(x)\n",
        "\n",
        "def fun_3(x):\n",
        "    \"\"\"\n",
        "    Compute the value of the custom function 3.\n",
        "\n",
        "    :param x: float or array-like, input value(s)\n",
        "    :return: float or array-like, result of the custom function 3\n",
        "    \"\"\"\n",
        "    return 22 * power(x, 20) + sigmoid_array(x) + 2 * exp(x) + 5 * log(x)\n"
      ]
    },
    {
      "cell_type": "code",
      "execution_count": 6,
      "metadata": {
        "id": "cWPPgnexNQW5"
      },
      "outputs": [],
      "source": [
        "# This code defines a function plot_loss that creates a single plot with six subplots.\n",
        "#  Each subplot visualizes the training and test loss for a particular model architecture over the number of epochs.\n",
        "#  The function takes in the following arguments:\n",
        "\n",
        "#     size: The maximum value for the y-axis of all subplots.\n",
        "#     in_1, in_2, ..., in_6: The History objects for the six model architectures.\n",
        "#     title: The title for each subplot.\n",
        "\n",
        "# The function first defines a helper function plot_subplot that takes in a subplot number, a History object, and a title,\n",
        "# and creates a single subplot with the training and test loss for that model architecture. \n",
        "# The plot_loss function then calls plot_subplot for each of the six model architectures.\n",
        "\n",
        "def plot_loss(size, in_1, in_2, in_3, in_4, in_5):\n",
        "    # Set font size for all subplots\n",
        "    plt.rcParams.update({'font.size': 12})\n",
        "    \n",
        "    def plot_subplot(subplot_num, history, title):\n",
        "        # Extract training and test loss from history object\n",
        "        training_loss = history.history['loss']\n",
        "        test_loss = history.history['val_loss']\n",
        "        \n",
        "        # Create list of epochs\n",
        "        epoch_count = range(1, len(training_loss) + 1)\n",
        "        \n",
        "        # Create subplot and plot training and test loss\n",
        "        plt.subplot(subplot_num)\n",
        "        plt.plot(epoch_count, training_loss, 'r--')\n",
        "        plt.plot(epoch_count, test_loss, 'b-')\n",
        "        \n",
        "        # Add legend and labels\n",
        "        plt.legend(['Training Loss', 'Test Loss'])\n",
        "        plt.xlabel('Epoch')\n",
        "        plt.ylabel('Loss')\n",
        "        \n",
        "        # Set y-axis limit\n",
        "        plt.ylim(0, size)\n",
        "        \n",
        "        # Add title to subplot\n",
        "        plt.title(title)\n",
        "    \n",
        "    # Create figure with 6 subplots\n",
        "    plt.figure(figsize=(20, 12))\n",
        "    \n",
        "    # Plot training and test loss for each model architecture\n",
        "    plot_subplot(231, in_1, 'Architecture 1')\n",
        "    plot_subplot(232, in_2, 'Architecture 2')\n",
        "    plot_subplot(233, in_3, 'Auto_Keras ')\n",
        "    plot_subplot(234, in_4, 'Random Search')\n",
        "    plot_subplot(235, in_5, 'SWAG')\n"
      ]
    },
    {
      "cell_type": "code",
      "execution_count": 7,
      "metadata": {
        "id": "sWJarFf3NQW6"
      },
      "outputs": [],
      "source": [
        "# This function plots the shapes of the input test functions on six subplots. \n",
        "# It takes six inputs, each of which is an array containing three arrays. \n",
        "# The first array of each input contains the input values of the test function,\n",
        "#  the second array contains the output values of the test function, \n",
        "#  and the third array contains the predicted output values of the test function. \n",
        "#  The subplots are arranged in a 2x3 grid and the shapes of the test functions are plotted on each subplot using the scatter function. \n",
        "#  The title function is used to label each subplot with the name of the architecture being plotted. \n",
        "#  The subplots_adjust function is used to adjust the spacing between subplots. Finally, the show function is used to display the plots.\n",
        "\n",
        "\n",
        "def plot_shape(in_1,in_2,in_3,in_4,in_5):\n",
        "    # Set up the plot with a figure size of (20,10)\n",
        "    plt.figure(figsize=(20,10))\n",
        "    # Update the font size of the plot to 16\n",
        "    plt.rcParams.update({'font.size': 16})\n",
        "\n",
        "    # Plot the first subplot with the input data\n",
        "    plt.subplot(231)\n",
        "    plt.scatter(in_1[0], in_1[1])\n",
        "    plt.scatter(in_1[0], in_1[2])\n",
        "    plt.title('Architure 1')\n",
        "\n",
        "    # Plot the second subplot with the input data\n",
        "    plt.subplot(232)\n",
        "    plt.scatter(in_2[0], in_2[1])\n",
        "    plt.scatter(in_2[0], in_2[2])\n",
        "    plt.title('Architure 2')\n",
        "\n",
        "    # Plot the third subplot with the input data\n",
        "    plt.subplot(233)\n",
        "    plt.scatter(in_3[0], in_3[1])\n",
        "    plt.scatter(in_3[0], in_3[2])\n",
        "    plt.title('Auto Keras')\n",
        "\n",
        "    # Plot the fourth subplot with the input data\n",
        "    plt.subplot(234)\n",
        "    plt.scatter(in_4[0], in_4[1])\n",
        "    plt.scatter(in_4[0], in_4[2])\n",
        "    plt.title('Random Search')\n",
        "    \n",
        "    # Plot the fifth subplot with the input data\n",
        "    plt.subplot(235)\n",
        "    plt.scatter(in_5[0], in_5[1])\n",
        "    plt.scatter(in_5[0], in_5[2])\n",
        "    plt.title('SWAG')    \n",
        "    \n",
        "\n",
        "    # Adjust the subplot layout\n",
        "    plt.subplots_adjust(top=0.92, bottom=0.08, left=0.0010, right=0.95, hspace=0.3, wspace=0.18)\n",
        "\n",
        "    # Show the plot\n",
        "    plt.show()\n"
      ]
    },
    {
      "cell_type": "code",
      "source": [
        "# The function plot_ takes a Keras model's training history as input and plots the training loss and test loss over the number of epochs.\n",
        "#  It uses matplotlib to create the plot and displays it to the user. \n",
        "#  The x-axis represents the epoch count, the y-axis represents the loss value, and the training loss is plotted in red with a dashed line and \n",
        "#  the test loss is plotted in blue with a solid line. The legend labels the two curves as \"Training Loss\" and \"Test Loss\",\n",
        "#   and the x-axis and y-axis are labeled as \"Epoch\" and \"Loss\" respectively. The plot is then displayed to the user using the show function.\n",
        "def plot_(history):\n",
        "    # Retrieve the training and test loss values\n",
        "    training_loss = history.history['loss']\n",
        "    test_loss = history.history['val_loss']\n",
        "\n",
        "    # Generate epoch count\n",
        "    epoch_count = range(1, len(training_loss) + 1)\n",
        "\n",
        "    # Plot the training and test loss\n",
        "    plt.plot(epoch_count, training_loss, 'r--')\n",
        "    plt.plot(epoch_count, test_loss, 'b-')\n",
        "    plt.legend(['Training Loss', 'Test Loss'])\n",
        "    plt.xlabel('Epoch')\n",
        "    plt.ylabel('Loss')\n",
        "    plt.show()\n"
      ],
      "metadata": {
        "id": "dCXpFNrS3QV5"
      },
      "execution_count": 8,
      "outputs": []
    },
    {
      "cell_type": "code",
      "source": [
        "\n",
        "# def plot_(history):\n",
        "#     # Retrieve the training and test loss values\n",
        "#     training_loss = history.history['loss']\n",
        "#     test_loss = history.history['val_loss']\n",
        "\n",
        "#     # Generate epoch count\n",
        "#     epoch_count = range(1, len(training_loss) + 1)\n",
        "\n",
        "#     # Plot the training and test loss\n",
        "#     plt.plot(epoch_count, training_loss, 'r--')\n",
        "#     plt.plot(epoch_count, test_loss, 'b-')\n",
        "#     plt.legend(['Training Loss', 'Test Loss'])\n",
        "#     plt.xlabel('Epoch')\n",
        "#     plt.ylabel('Loss')\n",
        "#     plt.show()\n",
        "# def visualize_result(history,X_test, Y_test,model):\n",
        "#   # Plot the loss curve\n",
        "#   plot_(history)\n",
        "#   # Scatter plot of the true test data\n",
        "#   plt.scatter(X_test, Y_test)\n",
        "#   # Scatter plot of the model's predicted output\n",
        "#   predict=model.predict(X_test)\n",
        "#   plt.scatter(X_test, predict)\n",
        "#   plt.show()"
      ],
      "metadata": {
        "id": "EgTWxj3d1OoX"
      },
      "execution_count": 9,
      "outputs": []
    },
    {
      "cell_type": "code",
      "source": [
        "def plot_loss(history):\n",
        "    \"\"\"\n",
        "    Plot the training and test loss using the history object.\n",
        "\n",
        "    :param history: History object, training history of the model\n",
        "    \"\"\"\n",
        "    # Retrieve the training and test loss values\n",
        "    training_loss = history.history['loss']\n",
        "    test_loss = history.history['val_loss']\n",
        "\n",
        "    # Generate epoch count\n",
        "    epoch_count = range(1, len(training_loss) + 1)\n",
        "\n",
        "    # Plot the training and test loss\n",
        "    plt.plot(epoch_count, training_loss, 'r--')\n",
        "    plt.plot(epoch_count, test_loss, 'b-')\n",
        "    plt.legend(['Training Loss', 'Test Loss'])\n",
        "    plt.xlabel('Epoch')\n",
        "    plt.ylabel('Loss')\n",
        "    plt.show()\n",
        "\n",
        "def visualize_results(history, X_test, Y_test, model):\n",
        "    \"\"\"\n",
        "    Visualize the results of a trained model by plotting the loss curve and comparing true\n",
        "    test data with the model's predicted output.\n",
        "\n",
        "    :param history: History object, training history of the model\n",
        "    :param X_test: array-like, test input data\n",
        "    :param Y_test: array-like, test output data (true values)\n",
        "    :param model: trained model to visualize\n",
        "    \"\"\"\n",
        "    # Plot the loss curve\n",
        "    plot_loss(history)\n",
        "    \n",
        "    # Scatter plot of the true test data\n",
        "    plt.scatter(X_test, Y_test, label='True data')\n",
        "    \n",
        "    # Scatter plot of the model's predicted output\n",
        "    predictions = model.predict(X_test)\n",
        "    plt.scatter(X_test, predictions, label='Predicted data')\n",
        "\n",
        "    plt.legend()\n",
        "    plt.show()\n"
      ],
      "metadata": {
        "id": "0eMK9CTZZuFp"
      },
      "execution_count": 19,
      "outputs": []
    },
    {
      "cell_type": "code",
      "execution_count": 20,
      "metadata": {
        "id": "qqBekSqwNQW7"
      },
      "outputs": [],
      "source": [
        "#Creates dataset\n",
        "dim_train=1000\n",
        "dim_test=200\n",
        "\n",
        "X=generate_random(dim_train,3)\n",
        "Y=generate_random(dim_train,3)\n",
        "    \n",
        "Y[:,0]=fun_1(X[:,0])\n",
        "Y[:,1]=fun_2(X[:,1])\n",
        "Y[:,2]=fun_3(X[:,2])\n",
        "x_train,x_test,y_train,y_test=train_test_split(X,Y,test_size=0.2,random_state=1234)\n",
        "\n",
        "def data_prep(x_train,x_test,y_train,y_test,column):\n",
        "  X_train=x_train[:,column]\n",
        "  Y_train=y_train[:,column]\n",
        "  X_test=x_test[:,column]\n",
        "  Y_test=y_test[:,column]\n",
        "  return X_train,Y_train,X_test,Y_test"
      ]
    },
    {
      "cell_type": "code",
      "source": [
        "\n",
        "# def model_training_visualization(model_input,X_train_1,Y_train_1,X_test_1,Y_test_1,number_epo_1,batch_size_):\n",
        "#   # Train model\n",
        "#   start = timeit.default_timer()\n",
        "#   history = model_input.fit(X_train_1, Y_train_1, epochs=number_epo, verbose=0, batch_size=batch_size_,\n",
        "#                           validation_data=(X_test_1, Y_test_1))\n",
        "#   end = timeit.default_timer()\n",
        "#   print(\"Run Time : %f\" % (end - start))\n",
        "\n",
        "#   # Make predictions and visualize results\n",
        "#   predict = model_input.predict(X_test_1)\n",
        "#   visualize_results(history, X_test_1, Y_test_1, model_input)\n",
        "#   return [X_test_1, Y_test_1, predict, history]"
      ],
      "metadata": {
        "id": "azC12okkTwFp"
      },
      "execution_count": 21,
      "outputs": []
    },
    {
      "cell_type": "code",
      "source": [
        "def train_and_visualize_model(model, X_train, Y_train, X_test, Y_test, num_epochs, batch_size):\n",
        "    \"\"\"\n",
        "    Train a given model and visualize its results using the provided training and testing data.\n",
        "\n",
        "    :param model: the model to train and visualize\n",
        "    :param X_train: array-like, training input data\n",
        "    :param Y_train: array-like, training output data (true values)\n",
        "    :param X_test: array-like, test input data\n",
        "    :param Y_test: array-like, test output data (true values)\n",
        "    :param num_epochs: int, number of epochs for training\n",
        "    :param batch_size: int, batch size for training\n",
        "    :return: list, containing test input data, test output data (true values), model predictions, and training history\n",
        "    \"\"\"\n",
        "    # Train the model\n",
        "    start = timeit.default_timer()\n",
        "    history = model.fit(X_train, Y_train, epochs=num_epochs, verbose=0, batch_size=batch_size,\n",
        "                        validation_data=(X_test, Y_test))\n",
        "    end = timeit.default_timer()\n",
        "    print(\"Run Time : %f\" % (end - start))\n",
        "\n",
        "    # Make predictions and visualize results\n",
        "    predictions = model.predict(X_test)\n",
        "    visualize_results(history, X_test, Y_test, model)\n",
        "\n",
        "    return [X_test, Y_test, predictions, history]\n"
      ],
      "metadata": {
        "id": "T3VZSnyBbC_i"
      },
      "execution_count": 26,
      "outputs": []
    },
    {
      "cell_type": "code",
      "execution_count": 22,
      "metadata": {
        "id": "xv28pO-NNQW7"
      },
      "outputs": [],
      "source": [
        "# Hyper perameters\n",
        "number_epo=50\n",
        "input_dim=1\n",
        "output_dim=1"
      ]
    },
    {
      "cell_type": "code",
      "source": [
        "# This code defines a function called \"SWAG()\" which creates a neural network model using the Keras library in TensorFlow. \n",
        "# The function starts by defining a variable hidden_dimention with the value of 50.\n",
        "\n",
        "# The function then creates an initializer for the weight and bias of the layers using tf.keras.initializers.RandomNormal with mean 0.1, standard deviation 0.05.\n",
        "\n",
        "# The function then defines a sequential model using the Sequential() method from the Keras library. It also defines an input layer with shape (input_dim,).\n",
        "\n",
        "# The function then creates two sets of layers, the first set of layers are created with two dense layers layer_1_x_1 and layer_1_x_2 with \n",
        "# the same number of hidden dimensions and activation functions 'X_1' and 'X_2' respectively.\n",
        "#  The function then concatenates these two layers together using concatenate() method.\n",
        "\n",
        "# The second set of layers are created with three dense layers layer_x_3_x_4, layer_x_5_x_6 and layer_x_7_x_8 with the same number of hidden dimensions \n",
        "# and activation functions 'X_2_','X_2__' and 'X_2___' respectively. The function then concatenates all the layers from the two sets of layers together \n",
        "# using concatenate() method.\n",
        "\n",
        "# The function then creates an output layer with one dense layer out_put_first_layer with the same number of hidden dimensions and activation function \n",
        "# 'linear', and another dense layer out_put with the output dimension and activation function 'linear'\n",
        "\n",
        "# Finally, the function creates the model using the Model() method and compiles it using the Adam optimizer with a learning rate of 0.001, \n",
        "# and the loss function set to mean squared error (MSE) using the compile() method. It then returns the created model.\n",
        "\n",
        "\n",
        "hidden_dimention = 50\n",
        "\n",
        "# Our_model=create_swag_model(input_dim, hidden_dim , output_dim, activations)\n",
        "Our_model=create_optimized_model(input_dim,hidden_dim ,output_dim)\n"
      ],
      "metadata": {
        "id": "ferIZHQ40UVj"
      },
      "execution_count": 23,
      "outputs": []
    },
    {
      "cell_type": "code",
      "source": [
        "# this code is preparing data, training a model, and then visualizing the results of the model's performance. \n",
        "# The data preparation includes reshaping the data into the correct shape for the model and selecting a particular column of the data to use. \n",
        "# The model is then trained on this data for a specified number of epochs, and the time it takes to train the model is recorded.\n",
        "# Finally, the model is used to make predictions on the test set, and the results are visualized.\n",
        "#   The results of the model's performance, including the test data and predictions, are stored in the F_1_our_model variable.\n",
        "\n",
        "# Preprocess data\n",
        "column = 0\n",
        "X_train, Y_train, X_test, Y_test = data_prep(x_train, x_test, y_train, y_test, column)\n",
        "\n",
        "# Reshape data\n",
        "X_train = X_train.reshape(800, 1)\n",
        "Y_train = Y_train.reshape(800, 1)\n",
        "X_test = X_test.reshape(200, 1)\n",
        "Y_test = Y_test.reshape(200, 1)\n",
        "\n",
        "# # Train model\n",
        "F_1_our_model = train_and_visualize_model(Our_model,X_train,Y_train,X_test,Y_test,number_epo,10)\n",
        "\n",
        "\n",
        "# Preprocess data\n",
        "column = 1\n",
        "X_train, Y_train, X_test, Y_test = data_prep(x_train, x_test, y_train, y_test, column)\n",
        "\n",
        "# Reshape data\n",
        "X_train = X_train.reshape(800, 1)\n",
        "Y_train = Y_train.reshape(800, 1)\n",
        "X_test = X_test.reshape(200, 1)\n",
        "Y_test = Y_test.reshape(200, 1)\n",
        "\n",
        "# Train model\n",
        "\n",
        "F_2_our_model = train_and_visualize_model(Our_model,X_train,Y_train,X_test,Y_test,number_epo,10)\n",
        "\n",
        "\n",
        "# Preprocess data\n",
        "column = 2\n",
        "X_train, Y_train, X_test, Y_test = data_prep(x_train, x_test, y_train, y_test, column)\n",
        "\n",
        "# Reshape data\n",
        "X_train = X_train.reshape(800, 1)\n",
        "Y_train = Y_train.reshape(800, 1)\n",
        "X_test = X_test.reshape(200, 1)\n",
        "Y_test = Y_test.reshape(200, 1)\n",
        "\n",
        "# Train model\n",
        "\n",
        "F_3_our_model = train_and_visualize_model(Our_model,X_train,Y_train,X_test,Y_test,number_epo,10)"
      ],
      "metadata": {
        "colab": {
          "base_uri": "https://localhost:8080/",
          "height": 1000
        },
        "id": "p6uLLMrd3jxz",
        "outputId": "0ca847e6-d626-4ebe-8581-9a506b72e00e"
      },
      "execution_count": 28,
      "outputs": [
        {
          "output_type": "stream",
          "name": "stdout",
          "text": [
            "Run Time : 13.156454\n",
            "7/7 [==============================] - 0s 2ms/step\n"
          ]
        },
        {
          "output_type": "display_data",
          "data": {
            "text/plain": [
              "<Figure size 432x288 with 1 Axes>"
            ],
            "image/png": "[encoded data removed]"
          },
          "metadata": {
            "needs_background": "light"
          }
        },
        {
          "output_type": "stream",
          "name": "stdout",
          "text": [
            "7/7 [==============================] - 0s 2ms/step\n"
          ]
        },
        {
          "output_type": "display_data",
          "data": {
            "text/plain": [
              "<Figure size 432x288 with 1 Axes>"
            ],
            "image/png": "[encoded data removed]"
          },
          "metadata": {
            "needs_background": "light"
          }
        },
        {
          "output_type": "stream",
          "name": "stdout",
          "text": [
            "Run Time : 13.211379\n",
            "7/7 [==============================] - 0s 2ms/step\n"
          ]
        },
        {
          "output_type": "display_data",
          "data": {
            "text/plain": [
              "<Figure size 432x288 with 1 Axes>"
            ],
            "image/png": "[encoded data removed]"
          },
          "metadata": {
            "needs_background": "light"
          }
        },
        {
          "output_type": "stream",
          "name": "stdout",
          "text": [
            "7/7 [==============================] - 0s 2ms/step\n"
          ]
        },
        {
          "output_type": "display_data",
          "data": {
            "text/plain": [
              "<Figure size 432x288 with 1 Axes>"
            ],
            "image/png": "[encoded data removed]"
          },
          "metadata": {
            "needs_background": "light"
          }
        },
        {
          "output_type": "stream",
          "name": "stdout",
          "text": [
            "Run Time : 13.225301\n",
            "7/7 [==============================] - 0s 2ms/step\n"
          ]
        },
        {
          "output_type": "display_data",
          "data": {
            "text/plain": [
              "<Figure size 432x288 with 1 Axes>"
            ],
            "image/png": "[encoded data removed]"
          },
          "metadata": {
            "needs_background": "light"
          }
        },
        {
          "output_type": "stream",
          "name": "stdout",
          "text": [
            "7/7 [==============================] - 0s 2ms/step\n"
          ]
        },
        {
          "output_type": "display_data",
          "data": {
            "text/plain": [
              "<Figure size 432x288 with 1 Axes>"
            ],
            "image/png": "[encoded data removed]"
          },
          "metadata": {
            "needs_background": "light"
          }
        }
      ]
    },
    {
      "cell_type": "code",
      "execution_count": null,
      "metadata": {
        "id": "cd3vwHs9NQW-"
      },
      "outputs": [],
      "source": [
        "#Second Traditional model for Function 3\n",
        "archicture_1 = Sequential()\n",
        "archicture_1.add(Dense(5, input_dim=input_dim, activation='relu'))\n",
        "archicture_1.add(Dense(10, activation='relu'))\n",
        "archicture_1.add(Dense(50, activation='tanh'))\n",
        "archicture_1.add(Dense(18, activation='relu'))\n",
        "archicture_1.add(Dense(15, activation='tanh'))\n",
        "archicture_1.add(Dense(18, activation='sigmoid'))\n",
        "archicture_1.add(Dropout(0.2))\n",
        "archicture_1.add(Dense(8, activation='relu'))\n",
        "archicture_1.add(Dropout(0.2))\n",
        "archicture_1.add(Dense(output_dim, activation='relu'))\n",
        "#model.summary()\n",
        "archicture_1.compile(loss='mean_squared_error', optimizer='adam')"
      ]
    },
    {
      "cell_type": "code",
      "source": [
        "column = 0\n",
        "X_train, Y_train, X_test, Y_test = data_prep(x_train, x_test, y_train, y_test, column)\n",
        "\n",
        "# Reshape data\n",
        "X_train = X_train.reshape(800, 1)\n",
        "Y_train = Y_train.reshape(800, 1)\n",
        "X_test = X_test.reshape(200, 1)\n",
        "Y_test = Y_test.reshape(200, 1)\n",
        "\n",
        "# # Train model\n",
        "F_1_archicture_1 = model_training_visualization(archicture_1,X_train,Y_train,X_test,Y_test,number_epo,10)\n",
        "\n",
        "column = 1\n",
        "X_train, Y_train, X_test, Y_test = data_prep(x_train, x_test, y_train, y_test, column)\n",
        "\n",
        "# Reshape data\n",
        "X_train = X_train.reshape(800, 1)\n",
        "Y_train = Y_train.reshape(800, 1)\n",
        "X_test = X_test.reshape(200, 1)\n",
        "Y_test = Y_test.reshape(200, 1)\n",
        "\n",
        "# # Train model\n",
        "F_2_archicture_1 = model_training_visualization(archicture_1,X_train,Y_train,X_test,Y_test,number_epo,10)\n",
        "\n",
        "column = 2\n",
        "X_train, Y_train, X_test, Y_test = data_prep(x_train, x_test, y_train, y_test, column)\n",
        "\n",
        "# Reshape data\n",
        "X_train = X_train.reshape(800, 1)\n",
        "Y_train = Y_train.reshape(800, 1)\n",
        "X_test = X_test.reshape(200, 1)\n",
        "Y_test = Y_test.reshape(200, 1)\n",
        "\n",
        "# # Train model\n",
        "F_3_archicture_1 = model_training_visualization(archicture_1,X_train,Y_train,X_test,Y_test,number_epo,10)"
      ],
      "metadata": {
        "id": "yKzsiUM_YZvC"
      },
      "execution_count": null,
      "outputs": []
    },
    {
      "cell_type": "code",
      "execution_count": null,
      "metadata": {
        "id": "lqrXUGhSNQXB"
      },
      "outputs": [],
      "source": [
        "#Fifth Traditional Model\n",
        "archicture_2 = Sequential()\n",
        "archicture_2.add(Dense(5, input_dim=input_dim, activation='softplus'))\n",
        "archicture_2.add(Dense(10, activation='softplus'))\n",
        "archicture_2.add(Dense(20, activation='tanh'))\n",
        "archicture_2.add(Dense(15, activation='relu'))\n",
        "archicture_2.add(Dense(25, activation='tanh'))\n",
        "archicture_2.add(Dense(20, activation='sigmoid'))\n",
        "archicture_2.add(Dense(25, activation='relu'))\n",
        "archicture_2.add(Dense(output_dim, activation='softplus'))\n",
        "archicture_2.add(Dropout(0.2))\n",
        "archicture_2.compile(loss='mean_squared_error', optimizer='adam')"
      ]
    },
    {
      "cell_type": "code",
      "execution_count": null,
      "metadata": {
        "id": "M83KVi0aNQXC"
      },
      "outputs": [],
      "source": [
        "column = 0\n",
        "X_train, Y_train, X_test, Y_test = data_prep(x_train, x_test, y_train, y_test, column)\n",
        "\n",
        "# Reshape data\n",
        "X_train = X_train.reshape(800, 1)\n",
        "Y_train = Y_train.reshape(800, 1)\n",
        "X_test = X_test.reshape(200, 1)\n",
        "Y_test = Y_test.reshape(200, 1)\n",
        "\n",
        "# # Train model\n",
        "F_1_archicture_2 = model_training_visualization(archicture_2,X_train,Y_train,X_test,Y_test,number_epo,10)\n",
        "\n",
        "column = 1\n",
        "X_train, Y_train, X_test, Y_test = data_prep(x_train, x_test, y_train, y_test, column)\n",
        "\n",
        "# Reshape data\n",
        "X_train = X_train.reshape(800, 1)\n",
        "Y_train = Y_train.reshape(800, 1)\n",
        "X_test = X_test.reshape(200, 1)\n",
        "Y_test = Y_test.reshape(200, 1)\n",
        "\n",
        "# # Train model\n",
        "F_2_archicture_2 = model_training_visualization(archicture_2,X_train,Y_train,X_test,Y_test,number_epo,10)\n",
        "\n",
        "column = 2\n",
        "X_train, Y_train, X_test, Y_test = data_prep(x_train, x_test, y_train, y_test, column)\n",
        "\n",
        "# Reshape data\n",
        "X_train = X_train.reshape(800, 1)\n",
        "Y_train = Y_train.reshape(800, 1)\n",
        "X_test = X_test.reshape(200, 1)\n",
        "Y_test = Y_test.reshape(200, 1)\n",
        "\n",
        "# # Train model\n",
        "F_3_archicture_2 = model_training_visualization(archicture_2,X_train,Y_train,X_test,Y_test,number_epo,10)"
      ]
    },
    {
      "cell_type": "code",
      "source": [
        "column = 1\n",
        "X_train, Y_train, X_test, Y_test = data_prep(x_train, x_test, y_train, y_test, column)\n",
        "\n",
        "# Reshape data\n",
        "X_train = X_train.reshape(800, 1)\n",
        "Y_train = Y_train.reshape(800, 1)\n",
        "X_test = X_test.reshape(200, 1)\n",
        "Y_test = Y_test.reshape(200, 1)\n",
        "\n",
        "train_set = tf.data.Dataset.from_tensor_slices((X_train, Y_train))\n",
        "test_set = tf.data.Dataset.from_tensor_slices(\n",
        "    (X_test, Y_test)\n",
        ")\n",
        "\n",
        "clf = ak.StructuredDataRegressor(\n",
        "    overwrite=True, max_trials=10\n",
        ") \n",
        "# Feed the tensorflow Dataset to the classifier.\n",
        "clf.fit(train_set, epochs=5,verbose=0)\n",
        "autokeras_model=clf.export_model()\n",
        "\n",
        "\n",
        "column = 0\n",
        "X_train, Y_train, X_test, Y_test = data_prep(x_train, x_test, y_train, y_test, column)\n",
        "\n",
        "# Reshape data\n",
        "X_train = X_train.reshape(800, 1)\n",
        "Y_train = Y_train.reshape(800, 1)\n",
        "X_test = X_test.reshape(200, 1)\n",
        "Y_test = Y_test.reshape(200, 1)\n",
        "\n",
        "# # Train model\n",
        "F_1_autokeras = model_training_visualization(autokeras_model,X_train,Y_train,X_test,Y_test,number_epo,10)\n",
        "\n",
        "column = 1\n",
        "X_train, Y_train, X_test, Y_test = data_prep(x_train, x_test, y_train, y_test, column)\n",
        "\n",
        "# Reshape data\n",
        "X_train = X_train.reshape(800, 1)\n",
        "Y_train = Y_train.reshape(800, 1)\n",
        "X_test = X_test.reshape(200, 1)\n",
        "Y_test = Y_test.reshape(200, 1)\n",
        "\n",
        "# # Train model\n",
        "F_2_autokeras = model_training_visualization(autokeras_model,X_train,Y_train,X_test,Y_test,number_epo,10)\n",
        "\n",
        "column = 2\n",
        "X_train, Y_train, X_test, Y_test = data_prep(x_train, x_test, y_train, y_test, column)\n",
        "\n",
        "# Reshape data\n",
        "X_train = X_train.reshape(800, 1)\n",
        "Y_train = Y_train.reshape(800, 1)\n",
        "X_test = X_test.reshape(200, 1)\n",
        "Y_test = Y_test.reshape(200, 1)\n",
        "\n",
        "# # Train model\n",
        "F_3_autokeras = model_training_visualization(autokeras_model,X_train,Y_train,X_test,Y_test,number_epo,10)"
      ],
      "metadata": {
        "id": "mrpRp_CQd4nP"
      },
      "execution_count": null,
      "outputs": []
    },
    {
      "cell_type": "code",
      "source": [
        "def create_optimal_model(best_param):\n",
        "    \"\"\"\n",
        "    Create the optimal model using the best parameters obtained from GridSearchCV.\n",
        "\n",
        "    :param best_param: dict, best parameters obtained from GridSearchCV\n",
        "    :return: Keras model\n",
        "    \"\"\"\n",
        "\n",
        "    model = Sequential()\n",
        "    \n",
        "    # Add the first layer with the best parameters\n",
        "    model.add(Dense(best_param['neuron1'], input_dim=1, kernel_initializer=best_param['init'], activation=best_param['activation_function']))\n",
        "    \n",
        "    # Add the first dropout layer with the best dropout rate\n",
        "    model.add(Dropout(best_param['dropout_rate']))\n",
        "    \n",
        "    # Add the second layer with the best parameters\n",
        "    model.add(Dense(best_param['neuron2'], input_dim=best_param['neuron1'], kernel_initializer=best_param['init'], activation=best_param['activation_function_1']))\n",
        "    \n",
        "    # Add the second dropout layer with the best dropout rate\n",
        "    model.add(Dropout(best_param['dropout_rate']))\n",
        "    \n",
        "    # Add the output layer with the best activation function\n",
        "    model.add(Dense(1, activation=best_param['activation_function_2']))\n",
        "\n",
        "    # Compile the model using Adam optimizer with the best learning rate\n",
        "    optimizer = tf.keras.optimizers.Adam(learning_rate=best_param['learning_rate'])\n",
        "    model.compile(loss=\"mean_squared_error\", optimizer=optimizer, metrics=['mse'])\n",
        "    \n",
        "    return model\n"
      ],
      "metadata": {
        "id": "n8Fw9MDvT7jH"
      },
      "execution_count": null,
      "outputs": []
    },
    {
      "cell_type": "code",
      "source": [
        "def create_custom_model(learning_rate, dropout_rate, activation_function, activation_function_1, activation_function_2, init, neuron1, neuron2):\n",
        "    \"\"\"\n",
        "    Create a Keras model with custom hyperparameters.\n",
        "\n",
        "    :param learning_rate: float, learning rate for the optimizer\n",
        "    :param dropout_rate: float, dropout rate for the Dropout layers\n",
        "    :param activation_function: str, activation function for the first layer\n",
        "    :param activation_function_1: str, activation function for the second layer\n",
        "    :param activation_function_2: str, activation function for the output layer\n",
        "    :param init: str, kernel initializer\n",
        "    :param neuron1: int, number of neurons in the first layer\n",
        "    :param neuron2: int, number of neurons in the second layer\n",
        "    :return: Keras model\n",
        "    \"\"\"\n",
        "\n",
        "    model = Sequential()\n",
        "    model.add(Dense(neuron1, input_dim=1, kernel_initializer=init, activation=activation_function))\n",
        "    model.add(Dropout(dropout_rate))\n",
        "    model.add(Dense(neuron2, input_dim=neuron1, kernel_initializer=init, activation=activation_function_1))\n",
        "    model.add(Dropout(dropout_rate))\n",
        "    model.add(Dense(1, activation=activation_function_2))\n",
        "\n",
        "    optimizer = tf.keras.optimizers.Adam(learning_rate=learning_rate)\n",
        "    model.compile(loss=\"mean_squared_error\", optimizer=optimizer, metrics=['mse'])\n",
        "    return model\n",
        "\n",
        "# Create the model\n",
        "model = KerasRegressor(build_fn=create_custom_model, verbose=0)\n",
        "\n",
        "# Define the grid search parameters\n",
        "param_grids = {\n",
        "    'batch_size': [10],\n",
        "    'epochs': [10],\n",
        "    'learning_rate': [0.01],\n",
        "    'dropout_rate': [0.1],\n",
        "    # 'activation_function': ['softmax', 'relu', 'tanh', 'linear'],\n",
        "    # 'activation_function_1': ['softmax', 'relu', 'tanh', 'linear'],\n",
        "    # 'activation_function_2': ['softmax', 'relu', 'tanh', 'linear'],\n",
        "    'activation_function': ['softmax', 'relu'],\n",
        "    'activation_function_1': ['softmax', 'relu'],\n",
        "    'activation_function_2': ['softmax', 'relu'],\n",
        "    'init': ['uniform'],\n",
        "    'neuron1': [50],\n",
        "    'neuron2': [20, ],\n",
        "    # 'neuron1': [50, 100, 150],\n",
        "    # 'neuron2': [20, 40, 80],\n",
        "}\n",
        "\n",
        "start = timeit.default_timer()\n",
        "\n",
        "# Build and fit the GridSearchCV\n",
        "kfold = KFold(n_splits=2)\n",
        "grid = GridSearchCV(estimator=model, param_grid=param_grids, cv=kfold, verbose=0)\n",
        "grid_result = grid.fit(X_train, Y_train)\n",
        "\n",
        "# Summarize the results\n",
        "print(f\"Best score: {grid_result.best_score_}, using {grid_result.best_params_}\")\n",
        "means = grid_result.cv_results_[\"mean_test_score\"]\n",
        "stds = grid_result.cv_results_[\"std_test_score\"]\n",
        "params = grid_result.cv_results_[\"params\"]\n",
        "for mean, stdev, param in zip(means, stds, params):\n",
        "    print(f\"{mean}, {stdev} with: {param}\")\n",
        "\n",
        "# Print runtime\n",
        "end = timeit.default_timer()\n",
        "print(\"Run Time : %f\" % (end-start))\n"
      ],
      "metadata": {
        "id": "s-IrFdZTmaUr"
      },
      "execution_count": null,
      "outputs": []
    },
    {
      "cell_type": "code",
      "source": [
        "search_model=create_optimal_model(grid_result.best_params_)"
      ],
      "metadata": {
        "id": "U4gWLKn3QzVW"
      },
      "execution_count": null,
      "outputs": []
    },
    {
      "cell_type": "code",
      "source": [
        "\n",
        "\n",
        "\n",
        "column = 0\n",
        "X_train, Y_train, X_test, Y_test = data_prep(x_train, x_test, y_train, y_test, column)\n",
        "\n",
        "# Reshape data\n",
        "X_train = X_train.reshape(800, 1)\n",
        "Y_train = Y_train.reshape(800, 1)\n",
        "X_test = X_test.reshape(200, 1)\n",
        "Y_test = Y_test.reshape(200, 1)\n",
        "\n",
        "# # Train model\n",
        "F_1_Search = model_training_visualization(search_model,X_train,Y_train,X_test,Y_test,number_epo,10)\n",
        "\n",
        "column = 1\n",
        "X_train, Y_train, X_test, Y_test = data_prep(x_train, x_test, y_train, y_test, column)\n",
        "\n",
        "# Reshape data\n",
        "X_train = X_train.reshape(800, 1)\n",
        "Y_train = Y_train.reshape(800, 1)\n",
        "X_test = X_test.reshape(200, 1)\n",
        "Y_test = Y_test.reshape(200, 1)\n",
        "\n",
        "# # Train model\n",
        "F_2_Search = model_training_visualization(search_model,X_train,Y_train,X_test,Y_test,number_epo,10)\n",
        "\n",
        "column = 2\n",
        "X_train, Y_train, X_test, Y_test = data_prep(x_train, x_test, y_train, y_test, column)\n",
        "\n",
        "# Reshape data\n",
        "X_train = X_train.reshape(800, 1)\n",
        "Y_train = Y_train.reshape(800, 1)\n",
        "X_test = X_test.reshape(200, 1)\n",
        "Y_test = Y_test.reshape(200, 1)\n",
        "\n",
        "# # Train model\n",
        "F_3_Search = model_training_visualization(search_model,X_train,Y_train,X_test,Y_test,number_epo,10)"
      ],
      "metadata": {
        "id": "Pt_0EzjMRV0c"
      },
      "execution_count": null,
      "outputs": []
    },
    {
      "cell_type": "code",
      "execution_count": null,
      "metadata": {
        "id": "F2pCyXNYNQXE"
      },
      "outputs": [],
      "source": [
        "#Plots Losses\n",
        "plot_loss(15,F_1_archicture_1[3],F_1_archicture_2[3],F_1_autokeras[3],F_1_Search[3],F_1_our_model[3],)"
      ]
    },
    {
      "cell_type": "code",
      "execution_count": null,
      "metadata": {
        "id": "VNq0Ni-uNQXE"
      },
      "outputs": [],
      "source": [
        "#Plot Losses\n",
        "plot_loss(15,F_2_archicture_1[3],F_2_archicture_2[3],F_2_autokeras[3],F_2_Search[3],F_2_our_model[3],)"
      ]
    },
    {
      "cell_type": "code",
      "execution_count": null,
      "metadata": {
        "id": "tgrFvmTDNQXE"
      },
      "outputs": [],
      "source": [
        "#Plot Losses\n",
        "plot_loss(50,F_3_archicture_1[3],F_3_archicture_2[3],F_3_autokeras[3],F_3_Search[3],F_3_our_model[3],)"
      ]
    },
    {
      "cell_type": "code",
      "execution_count": null,
      "metadata": {
        "id": "LNB87o-kNQXF"
      },
      "outputs": [],
      "source": [
        "#Plots Shapes\n",
        "plot_shape(F_1_archicture_1,F_1_archicture_2,F_1_autokeras,F_1_Search,F_1_our_model,)\n",
        "\n",
        "# plot_loss(15,F_1_archicture_1[3],F_1_archicture_2[3],F_1_autokeras[3],F_1_Search[3],F_1_our_model[3],)"
      ]
    },
    {
      "cell_type": "code",
      "execution_count": null,
      "metadata": {
        "id": "f-5UdsjCNQXF"
      },
      "outputs": [],
      "source": [
        "#Plots Shapes \n",
        "plot_shape(F_2_archicture_1,F_2_archicture_2,F_2_autokeras,F_2_Search,F_2_our_model,)\n"
      ]
    },
    {
      "cell_type": "code",
      "execution_count": null,
      "metadata": {
        "id": "X1PGyB0yNQXF"
      },
      "outputs": [],
      "source": [
        "#Plots Shapes\n",
        "plot_shape(F_3_archicture_1,F_3_archicture_2,F_3_autokeras,F_3_Search,F_3_our_model,)\n"
      ]
    },
    {
      "cell_type": "code",
      "source": [
        "import random\n",
        "def rand_list():\n",
        "  coefficient= [None for _ in range(8)]\n",
        "  coefficient[0]= random.randint(-10, 10)\n",
        "  coefficient[2]= random.randint(-10, 10)\n",
        "  coefficient[4]= random.randint(-10, 10)\n",
        "  coefficient[6]= random.randint(-10, 10)\n",
        "  coefficient[1]= random.randint(1,50)\n",
        "  coefficient[3]= random.randint(1,50)\n",
        "  coefficient[5]= random.randint(1,50)\n",
        "  coefficient[7]= random.randint(1,50)\n",
        "  return coefficient\n",
        "\n",
        "\n",
        "def fun_generator(co,x):\n",
        "    return co[0]*power_(x, co[1])+co[2]*sigmoid_array(co[3]*x)+co[4]*exp_(co[5]*x*0.1)+co[6]*log_(co[7]*x)"
      ],
      "metadata": {
        "id": "zCP8Kp6w_3aK"
      },
      "execution_count": null,
      "outputs": []
    },
    {
      "cell_type": "code",
      "source": [
        "\n"
      ],
      "metadata": {
        "id": "MndJ40cGARJi"
      },
      "execution_count": null,
      "outputs": []
    },
    {
      "cell_type": "code",
      "source": [
        "hidden_dimention = 50\n",
        "\n",
        "for kk in range(10):  \n",
        "  coefficient=rand_list()\n",
        "  X1=X[:,0]\n",
        "  Y1=fun_generator(coefficient,X1)\n",
        "  X_train,X_test,Y_train,Y_test=train_test_split(X1,Y1,test_size=0.2,random_state=1234)\n",
        "\n",
        "  Our_model=SWAG()\n",
        "  coefficient=rand_list()\n",
        "  start = timeit.default_timer()\n",
        "  SWAG_history = Our_model.fit(X_train,Y_train,epochs=5,verbose=1,batch_size=10,validation_data=(X_test, Y_test)) \n",
        "  end = timeit.default_timer()\n",
        "  print(\"Run Time : %f\" % (end-start))\n",
        "  plot_(SWAG_history)\n",
        "  plt.scatter(X_test, Y_test)\n",
        "  predict=Our_model.predict(X_test)\n",
        "  plt.scatter(X_test, predict)\n",
        "  print(\"SWAG Validation loss :\"+str( SWAG_history.history['loss'][-1:]))\n",
        "  # MSE = np.square(np.subtract(Y_train,predict)).mean()\n",
        "  # print(MSE)\n",
        "  plt.show()\n",
        "\n",
        "\n",
        "  # Reshape data\n",
        "  X_train = X_train.reshape(800, 1)\n",
        "  Y_train = Y_train.reshape(800, 1)\n",
        "  X_test = X_test.reshape(200, 1)\n",
        "  Y_test = Y_test.reshape(200, 1)\n",
        "\n",
        "  train_set = tf.data.Dataset.from_tensor_slices((X_train, Y_train))\n",
        "  test_set = tf.data.Dataset.from_tensor_slices(\n",
        "      (X_test, Y_test)\n",
        "  )\n",
        "\n",
        "  start = timeit.default_timer()\n",
        "\n",
        "\n",
        "  clf = ak.StructuredDataRegressor(\n",
        "      overwrite=True, max_trials=10\n",
        "  ) \n",
        "  # Feed the tensorflow Dataset to the classifier.\n",
        "  clf.fit(train_set, epochs=5,verbose=0)\n",
        "  autokeras_model=clf.export_model()\n",
        "\n",
        "  auto_history = autokeras_model.fit(X_train,Y_train,epochs=5,verbose=0,batch_size=10,validation_data=(X_test, Y_test)) \n",
        "  end = timeit.default_timer()\n",
        "  print(\"Run Time : %f\" % (end-start))\n",
        "  plot_(auto_history)\n",
        "  plt.scatter(X_test, Y_test)\n",
        "  predict=autokeras_model.predict(X_test)\n",
        "  plt.scatter(X_test, predict)\n",
        "  print(\"Autokeras Validation loss \"+str( auto_history.history['loss'][-1:]))\n",
        "  # MSE = np.square(np.subtract(Y_train,predict)).mean()\n",
        "  # print(MSE)\n",
        "  plt.show()"
      ],
      "metadata": {
        "id": "BWVbUAaSB39S"
      },
      "execution_count": null,
      "outputs": []
    },
    {
      "cell_type": "code",
      "source": [
        "batch_size = 128\n",
        "num_classes = 10\n",
        "epochs = 4\n",
        "\n",
        "# the data, split between train and test sets\n",
        "(x_train, y_train), (x_test, y_test) = mnist.load_data()\n",
        "\n",
        "x_train = x_train.reshape(60000, 784)\n",
        "x_test = x_test.reshape(10000, 784)\n",
        "\n",
        "x_train = x_train.astype('float32')\n",
        "x_test = x_test.astype('float32')\n",
        "\n",
        "x_train = x_train+10\n",
        "x_test = x_test+10\n",
        "\n",
        "x_train /= 300\n",
        "x_test /= 300\n",
        "print(x_train.shape[0], 'train samples')\n",
        "print(x_test.shape[0], 'test samples')\n",
        "\n",
        "# convert class vectors to binary class matrices\n",
        "y_train = to_categorical(y_train, num_classes)\n",
        "y_test = to_categorical(y_test, num_classes)\n",
        "\n",
        "number_train=60000 \n",
        "number_test=10000\n",
        "\n",
        "x_train=x_train[0:number_train,:]\n",
        "x_test=x_test[0:number_test,:]\n",
        "\n",
        "y_train=y_train[0:number_train]\n",
        "y_test=y_test[0:number_test]"
      ],
      "metadata": {
        "id": "s8iXkSnitO8c"
      },
      "execution_count": null,
      "outputs": []
    },
    {
      "cell_type": "code",
      "source": [
        "#Our Model optimize version\n",
        "hidden_dimention=500\n",
        "model = Sequential()\n",
        "\n",
        "in_ = Input(shape=(784,))\n",
        "Layer_1_X_1=Dense(hidden_dimention, activation='X_1')(in_)\n",
        "################################################################\n",
        "Layer_1_X_2=Dense(hidden_dimention, activation='X_2')(in_)\n",
        "###############################################################\n",
        "Concatenate_First_Layer = concatenate([Layer_1_X_1,Layer_1_X_2])\n",
        "\n",
        "Layer__X_3_X_4=Dense(hidden_dimention, activation='X_2_')(Concatenate_First_Layer)\n",
        "###############################################################\n",
        "\n",
        "\n",
        "Concatenate_second_Layer = concatenate([Layer_1_X_1,Layer_1_X_2,Concatenate_First_Layer,Layer__X_3_X_4])\n",
        "\n",
        "Out_put_first_layer=Dense(hidden_dimention, activation='linear')(Concatenate_second_Layer)\n",
        "\n",
        "\n",
        "Out_put=Dense(10, activation='linear')(Out_put_first_layer)\n",
        "model = Model(in_ , Out_put)\n",
        "model.summary()\n",
        "model.compile(loss='mean_squared_error', optimizer='adam')\n",
        "\n",
        "\n",
        "\n",
        "optimizer =Adam(lr=0.001, beta_1=0.9, beta_2=0.999, epsilon=None, decay=0.0, amsgrad=False)\n",
        "\n",
        "model.compile(loss='mean_squared_error', optimizer=optimizer,metrics=['accuracy'])\n",
        "# Image(filename='model_2_layers.png')\n",
        "\n",
        "start = timeit.default_timer()\n",
        "history = model.fit(x_train, y_train,batch_size=batch_size,epochs=epochs,verbose=1,validation_data=(x_test, y_test))\n",
        "end = timeit.default_timer()\n",
        "print(end-start)\n",
        "\n",
        "\n",
        "score = model.evaluate(x_test, y_test, verbose=0)\n",
        "print('Test loss:', score[0])\n",
        "print('Test accuracy:', score[1])\n",
        "plot_(history)"
      ],
      "metadata": {
        "id": "B_F1x9x1p7vU"
      },
      "execution_count": null,
      "outputs": []
    },
    {
      "cell_type": "code",
      "source": [
        "\n",
        "start = timeit.default_timer()\n",
        "\n",
        "clf = ak.StructuredDataClassifier(overwrite=True, max_trials=3) \n",
        "clf.fit(x_train, y_train, epochs=5)\n",
        "scores = clf.evaluate(x_test, y_test, verbose=0)\n",
        "\n",
        "end = timeit.default_timer()\n",
        "print(\"Run Time : %f\" % (end-start))"
      ],
      "metadata": {
        "id": "hQMu0ZBOulWK"
      },
      "execution_count": null,
      "outputs": []
    },
    {
      "cell_type": "code",
      "source": [
        "autokeras_model=clf.export_model()\n",
        "\n",
        "auto_history = autokeras_model.fit(x_train,y_train,epochs=5,verbose=0,batch_size=10,validation_data=(x_test, y_test)) \n",
        "\n",
        "print('Test loss:', score[0])\n",
        "print('Test accuracy:', score[1])\n",
        "plot_(auto_history)"
      ],
      "metadata": {
        "id": "NatEzCYMthOQ"
      },
      "execution_count": null,
      "outputs": []
    },
    {
      "cell_type": "code",
      "source": [],
      "metadata": {
        "id": "sjWzfyMuxS39"
      },
      "execution_count": null,
      "outputs": []
    }
  ],
  "metadata": {
    "kernelspec": {
      "display_name": "Python 3",
      "language": "python",
      "name": "python3"
    },
    "language_info": {
      "codemirror_mode": {
        "name": "ipython",
        "version": 3
      },
      "file_extension": ".py",
      "mimetype": "text/x-python",
      "name": "python",
      "nbconvert_exporter": "python",
      "pygments_lexer": "ipython3",
      "version": "3.6.5"
    },
    "colab": {
      "provenance": [],
      "machine_shape": "hm",
      "include_colab_link": true
    },
    "accelerator": "GPU",
    "gpuClass": "premium"
  },
  "nbformat": 4,
  "nbformat_minor": 0
}