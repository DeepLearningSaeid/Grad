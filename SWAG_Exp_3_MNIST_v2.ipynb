{
  "cells": [
    {
      "cell_type": "markdown",
      "metadata": {
        "id": "view-in-github",
        "colab_type": "text"
      },
      "source": [
        "<a href=\"https://colab.research.google.com/github/DeepLearningSaeid/Grad/blob/main/SWAG_Exp_3_MNIST_v2.ipynb\" target=\"_parent\"><img src=\"https://colab.research.google.com/assets/colab-badge.svg\" alt=\"Open In Colab\"/></a>"
      ]
    },
    {
      "cell_type": "code",
      "execution_count": 1,
      "metadata": {
        "id": "kQ-XseixSDeO"
      },
      "outputs": [],
      "source": [
        "\n",
        "# import os\n",
        "# os.environ['KERAS_BACKEND'] = 'tensorflow'\n",
        "############################################################################\n",
        "import timeit\n",
        "from keras.models import Model,Sequential\n",
        "from keras.layers import Input, Embedding, LSTM, Dense,concatenate,  Dropout, Flatten, Conv2D, MaxPool2D, Activation,MaxPooling2D\n",
        "from keras.utils.np_utils import to_categorical # convert to one-hot-encoding\n",
        "from keras.optimizers import RMSprop\n",
        "from keras.preprocessing.image import ImageDataGenerator\n",
        "from keras.callbacks import ReduceLROnPlateau\n",
        "from keras import backend as K\n",
        "from keras.utils.generic_utils import get_custom_objects\n",
        "from keras.datasets import cifar10\n",
        "from keras.utils import np_utils\n",
        "from keras.optimizers import SGD\n",
        "from keras.datasets import mnist\n",
        "import tensorflow as tf\n",
        "from IPython.display import Image\n",
        "from tensorflow.keras.optimizers import Adam\n",
        "import numpy\n",
        "import pandas as pd\n",
        "import numpy as np\n",
        "import matplotlib.pyplot as plt\n",
        "import matplotlib.image as mpimg\n",
        "import seaborn as sns\n",
        "%matplotlib inline\n",
        "from sklearn.model_selection import train_test_split\n",
        "from sklearn.metrics import confusion_matrix\n",
        "import itertools\n",
        "############################################################################\n",
        "\n",
        "\n",
        "numpy.random.seed(7)"
      ]
    },
    {
      "cell_type": "code",
      "execution_count": 2,
      "metadata": {
        "id": "ps_VDAfDSDeS"
      },
      "outputs": [],
      "source": [
        "#Creates plot for loss and trainning functions\n",
        "def plot_(history):\n",
        "    training_loss1 = history.history['loss']\n",
        "    test_loss1 = history.history['val_loss']\n",
        "    epoch_count = range(1, len(training_loss1) + 1)\n",
        "    plt.plot(epoch_count, training_loss1, 'r--')\n",
        "    plt.plot(epoch_count, test_loss1, 'b-')\n",
        "    plt.legend(['Training Loss', 'Test Loss'])\n",
        "    plt.xlabel('Epoch')\n",
        "    plt.ylabel('Loss')\n",
        "    plt.show();"
      ]
    },
    {
      "cell_type": "code",
      "execution_count": 17,
      "metadata": {
        "id": "16Fw6KWySDeT"
      },
      "outputs": [],
      "source": [
        "\n",
        "############################################################################\n",
        "def X_1(x):\n",
        "    return (K.pow(x,1))\n",
        "get_custom_objects().update({'X_1': Activation(X_1)})\n",
        "############################################################################\n",
        "def X_2(x):\n",
        "    return (K.pow(x,2))/2\n",
        "get_custom_objects().update({'X_2': Activation(X_2)})\n",
        "############################################################################\n",
        "def X_2_(x):\n",
        "    return (K.pow(x,2))/24\n",
        "get_custom_objects().update({'X_2_': Activation(X_2)})\n",
        "\n",
        "############################################################################\n",
        "def X_2__(x):\n",
        "    return (K.pow(x,2))/720\n",
        "get_custom_objects().update({'X_2__': Activation(X_2)})\n",
        "\n",
        "############################################################################\n",
        "def X_2___(x):\n",
        "    return (K.pow(x,2))/40320\n",
        "get_custom_objects().update({'X_2___': Activation(X_2)})\n",
        "############################################################################\n",
        "def X_3(x):\n",
        "    return (K.pow(x,3))/6\n",
        "get_custom_objects().update({'X_3': Activation(X_3)})\n",
        "############################################################################\n",
        "def X_4(x):\n",
        "    return (K.pow(x,4))/24\n",
        "get_custom_objects().update({'X_4': Activation(X_4)})\n",
        "############################################################################\n",
        "def X_6(x):\n",
        "    return (K.pow(x,6))/720\n",
        "get_custom_objects().update({'X_6': Activation(X_6)})\n",
        "###############################################################################\n",
        "def X_5(x):\n",
        "    return (K.pow(x,5))/120\n",
        "get_custom_objects().update({'X_5': Activation(X_5)})\n",
        "###############################################################################\n",
        "def X_8(x):\n",
        "    return (K.pow(x,8))/40320\n",
        "get_custom_objects().update({'X_8': Activation(X_8)})\n",
        "###############################################################################\n",
        "def X_7(x):\n",
        "    return (K.pow(x,7))/5040\n",
        "get_custom_objects().update({'X_7': Activation(X_7)})\n",
        "###############################################################################\n"
      ]
    },
    {
      "cell_type": "code",
      "execution_count": 15,
      "metadata": {
        "id": "tkz7ZdgkSDeU",
        "outputId": "e94de094-54fd-4981-8c48-c2ca18496823",
        "colab": {
          "base_uri": "https://localhost:8080/"
        }
      },
      "outputs": [
        {
          "output_type": "stream",
          "name": "stdout",
          "text": [
            "60000 train samples\n",
            "10000 test samples\n"
          ]
        }
      ],
      "source": [
        "\n",
        "batch_size = 128\n",
        "num_classes = 10\n",
        "epochs = 4\n",
        "\n",
        "# the data, split between train and test sets\n",
        "(x_train, y_train), (x_test, y_test) = mnist.load_data()\n",
        "\n",
        "x_train = x_train.reshape(60000, 784)\n",
        "x_test = x_test.reshape(10000, 784)\n",
        "\n",
        "x_train = x_train.astype('float32')\n",
        "x_test = x_test.astype('float32')\n",
        "\n",
        "x_train = x_train+10\n",
        "x_test = x_test+10\n",
        "\n",
        "x_train /= 300\n",
        "x_test /= 300\n",
        "print(x_train.shape[0], 'train samples')\n",
        "print(x_test.shape[0], 'test samples')\n",
        "\n",
        "# convert class vectors to binary class matrices\n",
        "y_train = to_categorical(y_train, num_classes)\n",
        "y_test = to_categorical(y_test, num_classes)\n",
        "\n",
        "number_train=60000 \n",
        "number_test=10000\n",
        "\n",
        "x_train=x_train[0:number_train,:]\n",
        "x_test=x_test[0:number_test,:]\n",
        "\n",
        "y_train=y_train[0:number_train]\n",
        "y_test=y_test[0:number_test]"
      ]
    },
    {
      "cell_type": "code",
      "execution_count": 5,
      "metadata": {
        "id": "zYB4szkRSDeU",
        "outputId": "c5e8490c-e45f-42ed-c4d3-8177fdd49a58",
        "colab": {
          "base_uri": "https://localhost:8080/",
          "height": 765
        }
      },
      "outputs": [
        {
          "output_type": "stream",
          "name": "stdout",
          "text": [
            "Model: \"sequential\"\n",
            "_________________________________________________________________\n",
            " Layer (type)                Output Shape              Param #   \n",
            "=================================================================\n",
            " dense (Dense)               (None, 1024)              803840    \n",
            "                                                                 \n",
            " dense_1 (Dense)             (None, 1024)              1049600   \n",
            "                                                                 \n",
            " dense_2 (Dense)             (None, 10)                10250     \n",
            "                                                                 \n",
            "=================================================================\n",
            "Total params: 1,863,690\n",
            "Trainable params: 1,863,690\n",
            "Non-trainable params: 0\n",
            "_________________________________________________________________\n"
          ]
        },
        {
          "output_type": "stream",
          "name": "stderr",
          "text": [
            "/usr/local/lib/python3.8/dist-packages/keras/optimizers/optimizer_v2/adam.py:110: UserWarning: The `lr` argument is deprecated, use `learning_rate` instead.\n",
            "  super(Adam, self).__init__(name, **kwargs)\n"
          ]
        },
        {
          "output_type": "stream",
          "name": "stdout",
          "text": [
            "Epoch 1/4\n",
            "469/469 [==============================] - 4s 3ms/step - loss: 0.0105 - accuracy: 0.9300 - val_loss: 0.0054 - val_accuracy: 0.9642\n",
            "Epoch 2/4\n",
            "469/469 [==============================] - 1s 3ms/step - loss: 0.0049 - accuracy: 0.9682 - val_loss: 0.0048 - val_accuracy: 0.9696\n",
            "Epoch 3/4\n",
            "469/469 [==============================] - 1s 3ms/step - loss: 0.0037 - accuracy: 0.9765 - val_loss: 0.0037 - val_accuracy: 0.9768\n",
            "Epoch 4/4\n",
            "469/469 [==============================] - 1s 3ms/step - loss: 0.0029 - accuracy: 0.9812 - val_loss: 0.0048 - val_accuracy: 0.9692\n",
            "8.571122697999954\n",
            "Test loss: 0.004772788845002651\n",
            "Test accuracy: 0.9692000150680542\n"
          ]
        },
        {
          "output_type": "display_data",
          "data": {
            "text/plain": [
              "<Figure size 432x288 with 1 Axes>"
            ],
            "image/png": "[encoded data removed]"
          },
          "metadata": {
            "needs_background": "light"
          }
        }
      ],
      "source": [
        "num_classes = 10\n",
        "\n",
        "model = Sequential()\n",
        "model.add(Dense(1024, activation='relu', input_shape=(784,)))\n",
        "model.add(Dense(1024, activation='relu'))\n",
        "model.add(Dense(num_classes, activation='softmax'))\n",
        "\n",
        "model.summary()\n",
        "optimizer =Adam(lr=0.001, beta_1=0.9, beta_2=0.999, epsilon=None, decay=0.0, amsgrad=False)\n",
        "\n",
        "model.compile(loss='mean_squared_error', optimizer=optimizer,metrics=['accuracy'])\n",
        "start = timeit.default_timer()\n",
        "history = model.fit(x_train, y_train,batch_size=batch_size,epochs=epochs,verbose=1,validation_data=(x_test, y_test))\n",
        "end = timeit.default_timer()\n",
        "print(end-start)\n",
        "score = model.evaluate(x_test, y_test, verbose=0)\n",
        "print('Test loss:', score[0])\n",
        "print('Test accuracy:', score[1])\n",
        "plot_(history)\n"
      ]
    },
    {
      "cell_type": "code",
      "execution_count": 6,
      "metadata": {
        "id": "giuSHFzNSDeV",
        "outputId": "252b23f9-c5c0-4edc-ff53-21780df395fa",
        "colab": {
          "base_uri": "https://localhost:8080/",
          "height": 888
        }
      },
      "outputs": [
        {
          "output_type": "stream",
          "name": "stdout",
          "text": [
            "Model: \"model\"\n",
            "__________________________________________________________________________________________________\n",
            " Layer (type)                   Output Shape         Param #     Connected to                     \n",
            "==================================================================================================\n",
            " input_1 (InputLayer)           [(None, 784)]        0           []                               \n",
            "                                                                                                  \n",
            " dense_3 (Dense)                (None, 500)          392500      ['input_1[0][0]']                \n",
            "                                                                                                  \n",
            " dense_4 (Dense)                (None, 500)          392500      ['input_1[0][0]']                \n",
            "                                                                                                  \n",
            " dense_5 (Dense)                (None, 500)          392500      ['input_1[0][0]']                \n",
            "                                                                                                  \n",
            " concatenate (Concatenate)      (None, 2284)         0           ['input_1[0][0]',                \n",
            "                                                                  'dense_3[0][0]',                \n",
            "                                                                  'dense_4[0][0]',                \n",
            "                                                                  'dense_5[0][0]']                \n",
            "                                                                                                  \n",
            " dense_6 (Dense)                (None, 10)           22850       ['concatenate[0][0]']            \n",
            "                                                                                                  \n",
            "==================================================================================================\n",
            "Total params: 1,200,350\n",
            "Trainable params: 1,200,350\n",
            "Non-trainable params: 0\n",
            "__________________________________________________________________________________________________\n",
            "Epoch 1/4\n",
            "469/469 [==============================] - 2s 4ms/step - loss: 0.0269 - accuracy: 0.9228 - val_loss: 0.0166 - val_accuracy: 0.9646\n",
            "Epoch 2/4\n",
            "469/469 [==============================] - 2s 3ms/step - loss: 0.0142 - accuracy: 0.9714 - val_loss: 0.0131 - val_accuracy: 0.9734\n",
            "Epoch 3/4\n",
            "469/469 [==============================] - 1s 3ms/step - loss: 0.0117 - accuracy: 0.9799 - val_loss: 0.0115 - val_accuracy: 0.9765\n",
            "Epoch 4/4\n",
            "469/469 [==============================] - 2s 3ms/step - loss: 0.0102 - accuracy: 0.9835 - val_loss: 0.0110 - val_accuracy: 0.9784\n",
            "6.807972782000093\n",
            "Test loss: 0.011034198105335236\n",
            "Test accuracy: 0.9783999919891357\n"
          ]
        },
        {
          "output_type": "display_data",
          "data": {
            "text/plain": [
              "<Figure size 432x288 with 1 Axes>"
            ],
            "image/png": "[encoded data removed]"
          },
          "metadata": {
            "needs_background": "light"
          }
        }
      ],
      "source": [
        "\n",
        "hidden_dimention=500\n",
        "model = Sequential()\n",
        "in_ = Input(shape=(784,))\n",
        "\n",
        "\n",
        "# this is a logistic regression in Keras\n",
        "############################################################\n",
        "Layer_1_Act_X_1=Dense(hidden_dimention, activation='X_1')(in_)\n",
        "################################################################\n",
        "Layer_1_Act_X_2=Dense(hidden_dimention, activation='X_2')(in_)\n",
        "###############################################################\n",
        "Layer_1_Act_X_3=Dense(hidden_dimention, activation='X_3')(in_)\n",
        "###############################################################\n",
        "Concatenate_All_Layer = concatenate([in_,Layer_1_Act_X_1,Layer_1_Act_X_2,Layer_1_Act_X_3])\n",
        "\n",
        "Out_Put=Dense(10, activation='linear')(Concatenate_All_Layer)\n",
        "model = Model(in_ , Out_Put)\n",
        "model.summary()\n",
        "\n",
        "optimizer =Adam(lr=0.001, beta_1=0.9, beta_2=0.999, epsilon=None, decay=0.0, amsgrad=False)\n",
        "\n",
        "model.compile(loss='mean_squared_error', optimizer=optimizer,metrics=['accuracy'])\n",
        "start = timeit.default_timer()\n",
        "history = model.fit(x_train, y_train,batch_size=batch_size,epochs=epochs,verbose=1,validation_data=(x_test, y_test))\n",
        "end = timeit.default_timer()\n",
        "print(end-start)\n",
        "\n",
        "score = model.evaluate(x_test, y_test, verbose=0)\n",
        "print('Test loss:', score[0])\n",
        "print('Test accuracy:', score[1])\n",
        "plot_(history)\n"
      ]
    },
    {
      "cell_type": "code",
      "execution_count": 7,
      "metadata": {
        "id": "3vDZlChRSDeV",
        "outputId": "80bb9e08-7703-4813-9cb0-f7bae5a180de",
        "colab": {
          "base_uri": "https://localhost:8080/",
          "height": 1000
        }
      },
      "outputs": [
        {
          "output_type": "stream",
          "name": "stdout",
          "text": [
            "Model: \"model_1\"\n",
            "__________________________________________________________________________________________________\n",
            " Layer (type)                   Output Shape         Param #     Connected to                     \n",
            "==================================================================================================\n",
            " input_2 (InputLayer)           [(None, 784)]        0           []                               \n",
            "                                                                                                  \n",
            " dense_7 (Dense)                (None, 500)          392500      ['input_2[0][0]']                \n",
            "                                                                                                  \n",
            " dense_8 (Dense)                (None, 500)          392500      ['input_2[0][0]']                \n",
            "                                                                                                  \n",
            " dense_9 (Dense)                (None, 500)          392500      ['input_2[0][0]']                \n",
            "                                                                                                  \n",
            " dense_10 (Dense)               (None, 500)          392500      ['input_2[0][0]']                \n",
            "                                                                                                  \n",
            " dense_11 (Dense)               (None, 500)          392500      ['input_2[0][0]']                \n",
            "                                                                                                  \n",
            " dense_12 (Dense)               (None, 500)          392500      ['input_2[0][0]']                \n",
            "                                                                                                  \n",
            " dense_13 (Dense)               (None, 500)          392500      ['input_2[0][0]']                \n",
            "                                                                                                  \n",
            " dense_14 (Dense)               (None, 500)          392500      ['input_2[0][0]']                \n",
            "                                                                                                  \n",
            " concatenate_1 (Concatenate)    (None, 4000)         0           ['dense_7[0][0]',                \n",
            "                                                                  'dense_8[0][0]',                \n",
            "                                                                  'dense_9[0][0]',                \n",
            "                                                                  'dense_10[0][0]',               \n",
            "                                                                  'dense_11[0][0]',               \n",
            "                                                                  'dense_12[0][0]',               \n",
            "                                                                  'dense_13[0][0]',               \n",
            "                                                                  'dense_14[0][0]']               \n",
            "                                                                                                  \n",
            " dense_15 (Dense)               (None, 10)           40010       ['concatenate_1[0][0]']          \n",
            "                                                                                                  \n",
            "==================================================================================================\n",
            "Total params: 3,180,010\n",
            "Trainable params: 3,180,010\n",
            "Non-trainable params: 0\n",
            "__________________________________________________________________________________________________\n",
            "Epoch 1/4\n",
            "469/469 [==============================] - 3s 5ms/step - loss: 0.0224 - accuracy: 0.9328 - val_loss: 0.0147 - val_accuracy: 0.9673\n",
            "Epoch 2/4\n",
            "469/469 [==============================] - 2s 4ms/step - loss: 0.0122 - accuracy: 0.9752 - val_loss: 0.0120 - val_accuracy: 0.9736\n",
            "Epoch 3/4\n",
            "469/469 [==============================] - 2s 4ms/step - loss: 0.0103 - accuracy: 0.9827 - val_loss: 0.0108 - val_accuracy: 0.9763\n",
            "Epoch 4/4\n",
            "469/469 [==============================] - 2s 4ms/step - loss: 0.0088 - accuracy: 0.9871 - val_loss: 0.0102 - val_accuracy: 0.9783\n",
            "9.245081056999993\n",
            "Test loss: 0.010186316445469856\n",
            "Test accuracy: 0.9782999753952026\n"
          ]
        },
        {
          "output_type": "display_data",
          "data": {
            "text/plain": [
              "<Figure size 432x288 with 1 Axes>"
            ],
            "image/png": "[encoded data removed]"
          },
          "metadata": {
            "needs_background": "light"
          }
        }
      ],
      "source": [
        "\n",
        "hidden_dimention=500\n",
        "model = Sequential()\n",
        "\n",
        "in_ = Input(shape=(784,))\n",
        "Layer_1_Act_X_1=Dense(hidden_dimention, activation='X_1')(in_)\n",
        "################################################################\n",
        "Layer_1_Act_X_2=Dense(hidden_dimention, activation='X_2')(in_)\n",
        "###############################################################\n",
        "Layer_1_Act_X_3=Dense(hidden_dimention, activation='X_3')(in_)\n",
        "###############################################################\n",
        "Layer_1_Act_X_4=Dense(hidden_dimention, activation='X_4')(in_)\n",
        "###############################################################\n",
        "Layer_1_Act_X_5=Dense(hidden_dimention, activation='X_5')(in_)\n",
        "###############################################################\n",
        "Layer_1_Act_X_6=Dense(hidden_dimention, activation='X_6')(in_)\n",
        "###############################################################\n",
        "Layer_1_Act_X_7=Dense(hidden_dimention, activation='X_7')(in_)\n",
        "###############################################################\n",
        "Layer_1_Act_X_8=Dense(hidden_dimention, activation='X_8')(in_)\n",
        "###############################################################\n",
        "Concatenate_First_Layer = concatenate([Layer_1_Act_X_1,Layer_1_Act_X_2,Layer_1_Act_X_3,Layer_1_Act_X_4,Layer_1_Act_X_5,Layer_1_Act_X_6,Layer_1_Act_X_7,Layer_1_Act_X_8])\n",
        "\n",
        "Out_put=Dense(10, activation='linear')(Concatenate_First_Layer)\n",
        "model = Model(in_ , Out_put)\n",
        "model.summary()\n",
        "\n",
        "optimizer =Adam(lr=0.001, beta_1=0.9, beta_2=0.999, epsilon=None, decay=0.0, amsgrad=False)\n",
        "\n",
        "model.compile(loss='mean_squared_error', optimizer=optimizer,metrics=['accuracy'])\n",
        "# Image(filename='model_2_layers.png')\n",
        "\n",
        "start = timeit.default_timer()\n",
        "history = model.fit(x_train, y_train,batch_size=batch_size,epochs=epochs,verbose=1,validation_data=(x_test, y_test))\n",
        "end = timeit.default_timer()\n",
        "print(end-start)\n",
        "\n",
        "\n",
        "score = model.evaluate(x_test, y_test, verbose=0)\n",
        "print('Test loss:', score[0])\n",
        "print('Test accuracy:', score[1])\n",
        "plot_(history)\n"
      ]
    },
    {
      "cell_type": "code",
      "execution_count": 8,
      "metadata": {
        "id": "WCz03_eBSDeW"
      },
      "outputs": [],
      "source": [
        "# hidden_dimention=500\n",
        "# model = Sequential()\n",
        "\n",
        "# in_ = Input(shape=(784,))\n",
        "\n",
        "# Layer_1_Act_X_1=Dense(hidden_dimention, activation='X_1')(in_)\n",
        "# ################################################################\n",
        "# Layer_1_Act_X_2=Dense(hidden_dimention,  activation='X_2')(in_)\n",
        "# ###############################################################\n",
        "# Layer_1_Act_X_3=Dense(hidden_dimention,  activation='X_3')(in_)\n",
        "# ###############################################################\n",
        "# Concatenate_First_Layer = concatenate([Layer_1_Act_X_1,Layer_1_Act_X_2,Layer_1_Act_X_3])\n",
        "# ################################################################\n",
        "# Layer_2_Act_X_2=Dense(hidden_dimention, activation='X_2')(Concatenate_First_Layer)\n",
        "# Layer_3_Act_X_2=Dense(hidden_dimention, activation='X_2')(Layer_2_Act_X_2)\n",
        "# Layer_4_Act_X_2=Dense(hidden_dimention, activation='X_2')(Layer_3_Act_X_2)\n",
        "# Layer_5_Act_X_2=Dense(hidden_dimention, activation='X_2')(Layer_4_Act_X_2)\n",
        "# Layer_6_Act_X_2=Dense(hidden_dimention, activation='X_2')(Layer_5_Act_X_2)\n",
        "# Layer_8_Act_X_2=Dense(hidden_dimention, activation='X_2')(Layer_6_Act_X_2)\n",
        "\n",
        "# Concatenate_All_Layer = concatenate([in_,Layer_1_Act_X_1,Layer_1_Act_X_2,Layer_1_Act_X_3,Layer_2_Act_X_2,Layer_3_Act_X_2])\n",
        "\n",
        "\n",
        "# Out_put=Dense(10, activation='linear')(Concatenate_All_Layer)\n",
        "\n",
        "# model = Model(in_ , Out_put)\n",
        "\n",
        "# model.summary()\n",
        "\n",
        "# optimizer =Adam(lr=0.001, beta_1=0.9, beta_2=0.999, epsilon=None, decay=0.0, amsgrad=False)\n",
        "\n",
        "# model.compile(loss='mean_squared_error', optimizer=optimizer,metrics=['accuracy'])\n",
        "\n",
        "# start = timeit.default_timer()\n",
        "# history = model.fit(x_train, y_train,batch_size=batch_size,epochs=epochs,verbose=1,validation_data=(x_test, y_test))\n",
        "# end = timeit.default_timer()\n",
        "# print(end-start)\n",
        "\n",
        "\n",
        "# score = model.evaluate(x_test, y_test, verbose=0)\n",
        "# print('Test loss:', score[0])\n",
        "# print('Test accuracy:', score[1])\n",
        "# plot_(history)\n",
        "\n",
        "\n"
      ]
    },
    {
      "cell_type": "code",
      "execution_count": 19,
      "metadata": {
        "id": "aUgGrdgsSDeX",
        "outputId": "68c098d3-c6b8-4809-b540-2a106146d585",
        "colab": {
          "base_uri": "https://localhost:8080/",
          "height": 973
        }
      },
      "outputs": [
        {
          "output_type": "stream",
          "name": "stdout",
          "text": [
            "Model: \"model_5\"\n",
            "__________________________________________________________________________________________________\n",
            " Layer (type)                   Output Shape         Param #     Connected to                     \n",
            "==================================================================================================\n",
            " input_6 (InputLayer)           [(None, 784)]        0           []                               \n",
            "                                                                                                  \n",
            " dense_37 (Dense)               (None, 500)          392500      ['input_6[0][0]']                \n",
            "                                                                                                  \n",
            " dense_38 (Dense)               (None, 500)          392500      ['input_6[0][0]']                \n",
            "                                                                                                  \n",
            " concatenate_8 (Concatenate)    (None, 1000)         0           ['dense_37[0][0]',               \n",
            "                                                                  'dense_38[0][0]']               \n",
            "                                                                                                  \n",
            " dense_39 (Dense)               (None, 500)          500500      ['concatenate_8[0][0]']          \n",
            "                                                                                                  \n",
            " concatenate_9 (Concatenate)    (None, 2500)         0           ['dense_37[0][0]',               \n",
            "                                                                  'dense_38[0][0]',               \n",
            "                                                                  'concatenate_8[0][0]',          \n",
            "                                                                  'dense_39[0][0]']               \n",
            "                                                                                                  \n",
            " dense_40 (Dense)               (None, 500)          1250500     ['concatenate_9[0][0]']          \n",
            "                                                                                                  \n",
            " dense_41 (Dense)               (None, 10)           5010        ['dense_40[0][0]']               \n",
            "                                                                                                  \n",
            "==================================================================================================\n",
            "Total params: 2,541,010\n",
            "Trainable params: 2,541,010\n",
            "Non-trainable params: 0\n",
            "__________________________________________________________________________________________________\n",
            "Epoch 1/4\n",
            "469/469 [==============================] - 2s 4ms/step - loss: 0.0563 - accuracy: 0.9000 - val_loss: 0.0178 - val_accuracy: 0.9584\n",
            "Epoch 2/4\n",
            "469/469 [==============================] - 2s 3ms/step - loss: 0.0149 - accuracy: 0.9706 - val_loss: 0.0138 - val_accuracy: 0.9728\n",
            "Epoch 3/4\n",
            "469/469 [==============================] - 2s 3ms/step - loss: 0.0116 - accuracy: 0.9797 - val_loss: 0.0113 - val_accuracy: 0.9774\n",
            "Epoch 4/4\n",
            "469/469 [==============================] - 2s 3ms/step - loss: 0.0099 - accuracy: 0.9845 - val_loss: 0.0104 - val_accuracy: 0.9790\n",
            "7.193292251999992\n",
            "Test loss: 0.01041017659008503\n",
            "Test accuracy: 0.9789999723434448\n"
          ]
        },
        {
          "output_type": "display_data",
          "data": {
            "text/plain": [
              "<Figure size 432x288 with 1 Axes>"
            ],
            "image/png": "[encoded data removed]"
          },
          "metadata": {
            "needs_background": "light"
          }
        }
      ],
      "source": [
        "#Our Model optimize version\n",
        "hidden_dimention=500\n",
        "model = Sequential()\n",
        "\n",
        "in_ = Input(shape=(784,))\n",
        "Layer_1_X_1=Dense(hidden_dimention, activation='X_1')(in_)\n",
        "################################################################\n",
        "Layer_1_X_2=Dense(hidden_dimention, activation='X_2')(in_)\n",
        "###############################################################\n",
        "Concatenate_First_Layer = concatenate([Layer_1_X_1,Layer_1_X_2])\n",
        "\n",
        "Layer__X_3_X_4=Dense(hidden_dimention, activation='X_2_')(Concatenate_First_Layer)\n",
        "###############################################################\n",
        "\n",
        "\n",
        "Concatenate_second_Layer = concatenate([Layer_1_X_1,Layer_1_X_2,Concatenate_First_Layer,Layer__X_3_X_4])\n",
        "\n",
        "Out_put_first_layer=Dense(hidden_dimention, activation='linear')(Concatenate_second_Layer)\n",
        "\n",
        "\n",
        "Out_put=Dense(10, activation='linear')(Out_put_first_layer)\n",
        "model = Model(in_ , Out_put)\n",
        "model.summary()\n",
        "model.compile(loss='mean_squared_error', optimizer='adam')\n",
        "\n",
        "\n",
        "\n",
        "optimizer =Adam(lr=0.001, beta_1=0.9, beta_2=0.999, epsilon=None, decay=0.0, amsgrad=False)\n",
        "\n",
        "model.compile(loss='mean_squared_error', optimizer=optimizer,metrics=['accuracy'])\n",
        "# Image(filename='model_2_layers.png')\n",
        "\n",
        "start = timeit.default_timer()\n",
        "history = model.fit(x_train, y_train,batch_size=batch_size,epochs=epochs,verbose=1,validation_data=(x_test, y_test))\n",
        "end = timeit.default_timer()\n",
        "print(end-start)\n",
        "\n",
        "\n",
        "score = model.evaluate(x_test, y_test, verbose=0)\n",
        "print('Test loss:', score[0])\n",
        "print('Test accuracy:', score[1])\n",
        "plot_(history)"
      ]
    },
    {
      "cell_type": "code",
      "source": [],
      "metadata": {
        "id": "mhcSrvGTXF6Q"
      },
      "execution_count": null,
      "outputs": []
    }
  ],
  "metadata": {
    "kernelspec": {
      "display_name": "Python 3",
      "language": "python",
      "name": "python3"
    },
    "language_info": {
      "codemirror_mode": {
        "name": "ipython",
        "version": 3
      },
      "file_extension": ".py",
      "mimetype": "text/x-python",
      "name": "python",
      "nbconvert_exporter": "python",
      "pygments_lexer": "ipython3",
      "version": "3.6.5"
    },
    "colab": {
      "provenance": [],
      "machine_shape": "hm",
      "include_colab_link": true
    },
    "accelerator": "GPU",
    "gpuClass": "standard"
  },
  "nbformat": 4,
  "nbformat_minor": 0
}